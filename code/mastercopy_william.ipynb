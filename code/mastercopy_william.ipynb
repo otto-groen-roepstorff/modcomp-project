{
 "cells": [
  {
   "cell_type": "code",
   "execution_count": 1,
   "metadata": {},
   "outputs": [],
   "source": [
    "import numpy as np\n",
    "from scipy import stats\n",
    "import matplotlib.pyplot as plt\n",
    "import math\n",
    "from sklearn.linear_model import LogisticRegression\n",
    "#from sklearn.multioutput import MultiOutputClassifi"
   ]
  },
  {
   "cell_type": "markdown",
   "metadata": {},
   "source": [
    "## Part 1"
   ]
  },
  {
   "cell_type": "code",
   "execution_count": 378,
   "metadata": {},
   "outputs": [],
   "source": [
    "class Markov_model:\n",
    "    def __init__(self, T = 10, n = 2, alpha = 0.9, beta = 0.2, gamma = 0.1, lamb0 = 1, lamb1  = 5) -> None:\n",
    "        #Customizable values\n",
    "        self.alpha = alpha\n",
    "        self.beta = beta\n",
    "        self.gamma = gamma\n",
    "        self.lamb0 = lamb0\n",
    "        self.lamb1 = lamb1\n",
    "        self.T = T\n",
    "        self.n = n\n",
    "\n",
    "\n",
    "        #--- Given probabilities---\n",
    "        self.prob_C1 = np.array([0,0,1])\n",
    "        self.Z_given_C = np.array([[self.alpha, 1-self.alpha],[1-self.alpha, self.alpha], [0.5, 0.5]])  #(C, Z)\n",
    "        #self.alpha_C = np.array([1-self.alpha, self.alpha, 0.5])\n",
    "\n",
    "        self.rates = [self.lamb0, self.lamb1]\n",
    "        self.Gamma = np.array([[1-self.gamma, 0, self.gamma], #(Ci, Ci_plus1)\n",
    "                          [0, 1-self.gamma, self.gamma], \n",
    "                          [self.beta/2, self.beta/2, 1-self.beta]])\n",
    "        self.model_values = [self.lamb0, self.lamb1, self.alpha, self.beta, self.gamma] \n",
    "        \n",
    "    def update_values(self):\n",
    "        self.Z_given_C = np.array([[self.alpha, 1-self.alpha],[1-self.alpha, self.alpha], [0.5, 0.5]])  #(C, Z)\n",
    "        self.rates = [self.lamb0, self.lamb1]\n",
    "        self.Gamma = np.array([[1-self.gamma, 0, self.gamma], #(Ci, Ci_plus1)\n",
    "                          [0, 1-self.gamma, self.gamma], \n",
    "                          [self.beta/2, self.beta/2, 1-self.beta]])\n",
    "        #self.alpha_C = np.array([1-self.alpha, self.alpha, 0.5])\n",
    "        self.model_values = [self.lamb0, self.lamb1, self.alpha, self.beta, self.gamma]\n",
    "    \n",
    "    \n",
    "    def sim_data(self, n = 0 , T = 0, return_output = True):\n",
    "        if n == 0:\n",
    "            n = self.n\n",
    "        else:\n",
    "            self.n = n\n",
    "\n",
    "        if T == 0:\n",
    "            T = self.T\n",
    "        else:\n",
    "            self.T = T\n",
    "            \n",
    "        #Defining the three possible values of C\n",
    "        ck = np.arange(3)   \n",
    "\n",
    "        #Creating   random variables with probabilities based of the gamma matrix\n",
    "        C_transition = [\n",
    "            stats.rv_discrete(values=(ck,self.Gamma[0,])),#P(C_t |C_{t-1} = 0)\n",
    "            stats.rv_discrete(values=(ck,self.Gamma[1,])),#P(C_t |C_{t-1} = 1)\n",
    "            stats.rv_discrete(values=(ck,self.Gamma[2,])),#P(C_t |C_{t-1} = 2)\n",
    "        ]\n",
    "        \n",
    "        #Creating output vector of C's\n",
    "        C = np.zeros(self.T, np.int64)\n",
    "        \n",
    "        #Initializing the C vector\n",
    "        C[0] = 2\n",
    "\n",
    "        #Filling up the C-vector with values\n",
    "        for i in range(self.T-1):\n",
    "            C[i+1] = C_transition[C[i]].rvs()\n",
    "        self.C = C\n",
    "        \n",
    "        #Initializing Z. size=[n,T] specifies we need to create n copies of a series of T simulations\n",
    "        self.Z = stats.bernoulli([self.Z_given_C[c,1] for c in C]).rvs(size=[self.n,self.T])\n",
    "        #input:\n",
    "        '''\n",
    "        [C_1, C_2, ... C_T]\n",
    "        '''\n",
    "        #output: \n",
    "        '''[   \n",
    "            [Z_11, Z_21, Z_31, ... , Z_T1]\n",
    "            [Z_12, Z_22, Z_32, ... , Z_T2]\n",
    "            ...\n",
    "            [Z_1n, Z_2n, Z_3n, ... , Z_Tn]\n",
    "        ]'''\n",
    "\n",
    "        #Initialize X   \n",
    "        self.X = stats.poisson(np.where(self.Z, self.lamb1, self.lamb0)).rvs() #(n, T)\n",
    "        #input\n",
    "        '''[   \n",
    "            [f(Z_11), f(Z_21), f(Z_31), ... , f(Z_T1)]\n",
    "            [f(Z_12), f(Z_22), f(Z_32), ... , f(Z_T2)]\n",
    "            ...\n",
    "            [f(Z_1n), f(Z_2n), f(Z_3n), ... , f(Z_Tn)]\n",
    "            ]    \n",
    "            where\n",
    "            f(z) = lamb0+(lamb1-lamb0)*z\n",
    "        '''\n",
    "\n",
    "        #output\n",
    "        '''[   \n",
    "            [X_11, X_21, X_31, ... , X_T1]\n",
    "            [X_12, X_22, X_32, ... , X_T2]\n",
    "            ...\n",
    "            [X_1n, X_2n, X_3n, ... , X_Tn]\n",
    "        ]'''\n",
    "        if return_output:\n",
    "            return self.C, self.Z, self.X\n",
    "        else:\n",
    "            return\n",
    "    \n",
    "    def find_P_X_given_C(self):\n",
    "        self.P_X_given_Z = np.array([stats.poisson.pmf(k = self.X, mu = self.lamb0), #All of the potentials\n",
    "                            stats.poisson.pmf(k = self.X, mu = self.lamb1)]) #(Z, n, T)\n",
    "        \n",
    "        self.P_X_given_C = np.einsum(\"ZnT, CZ -> TnC\",self.P_X_given_Z, self.Z_given_C) #(Time, n, C)\n",
    "\n",
    "    def upwards_passing(self):\n",
    "        #Defining properties\n",
    "        delta_Mi_to_Li = np.empty(shape = (self.T-1, 3)) #(Time, Ci)\n",
    "        delta_Li_to_Mi_plus = np.empty(shape = (self.T-1, 3)) #(C_{i+1})\n",
    "        belief_Li = np.empty(shape = (self.T, 3, 3)) #(T, C_i, C_{i+1})\n",
    "    \n",
    "        for i in range(self.T-1):\n",
    "            #----------------Sending messages-------------\n",
    "            #finding message Ci, Zi -> Ci+, Ci+\n",
    "            if i == 0:\n",
    "                delta_Mi_to_Li[i] = np.prod(self.P_X_given_C[i,:,:], axis = 0)*self.prob_C1 #C1\n",
    "                #delta_Mi_to_Li[i] = np.exp(np.sum(np.log(self.P_X_given_C[i,:,:]), axis = 0)) * self.prob_C1 #C1\n",
    "            else:\n",
    "                #delta_Mi_to_Li[i] = np.exp(np.sum(np.log(self.P_X_given_C[i,:,:]), axis = 0)+np.log(delta_Li_to_Mi_plus[i-1])) #Ci\n",
    "                delta_Mi_to_Li[i] = np.prod(self.P_X_given_C[i,:,:], axis = 0)*delta_Li_to_Mi_plus[i-1] #Ci\n",
    "\n",
    "            #normalizing\n",
    "            delta_Mi_to_Li[i] /= np.sum(delta_Mi_to_Li[i])\n",
    "\n",
    "            #Finding belief Li\n",
    "            belief_Li[i] = np.einsum(\"cC,c -> cC\", self.Gamma, delta_Mi_to_Li[i]) #c old (C_{i}), C new (C_{i+1})\n",
    "            #normalizing\n",
    "            belief_Li[i] /= np.sum(belief_Li[i])\n",
    "            \n",
    "            #finding message Ci Ci+ -> Ci+, Zi+\n",
    "            delta_Li_to_Mi_plus[i] = np.sum(belief_Li[i], axis=0) #Summing out c old\n",
    "            \n",
    "            #normalizing\n",
    "            delta_Li_to_Mi_plus[i] /= np.sum(delta_Li_to_Mi_plus[i])\n",
    "\n",
    "        self.delta_Mi_to_Li = delta_Mi_to_Li\n",
    "        self.delta_Li_to_Mi_plus = delta_Li_to_Mi_plus\n",
    "        self.belief_Li = belief_Li\n",
    "        return \n",
    "    \n",
    "    def backwards_passing(self):\n",
    "        delta_Mi_plus_to_Li = np.empty(shape= (self.T-1, 3)) #T, C\n",
    "        delta_Li_to_Mi = np.empty(shape= (self.T -1, 3)) #T, C\n",
    "        updated_belief_Li = np.empty(shape = (self.T-1, 3, 3)) #T, c old (C_{i}), C new (C_{i+1})       \n",
    "\n",
    "        for i in range(self.T-1):\n",
    "            #---- SENDING MESSAGES ----- #\n",
    "            #find downwards message Mi+ -> Li\n",
    "            j = self.T -1 - i -1 #finding opposite direvtion\n",
    "            if i == 0: #then j = T-2, aka the last entry index in messages\n",
    "                delta_Mi_plus_to_Li[j] = np.prod(self.P_X_given_C[j+1,:,:], axis = 0) #(C)\n",
    "            else:\n",
    "                delta_Mi_plus_to_Li[j] = np.prod(self.P_X_given_C[j+1,:,:], axis = 0)*delta_Li_to_Mi[j+1] #(C)\n",
    "            #normalize\n",
    "            delta_Mi_plus_to_Li[j] /= np.max(delta_Mi_plus_to_Li[j])\n",
    "\n",
    "            # find message Li -> Mi\n",
    "            delta_Li_to_Mi[j] = np.einsum(\"cC,C -> c\", self.Gamma, delta_Mi_plus_to_Li[j]) #Summing out Ci+\n",
    "\n",
    "            #normalize\n",
    "            delta_Li_to_Mi[j] /= np.sum(delta_Li_to_Mi[j])\n",
    "\n",
    "            #----Update clique belief of Li\n",
    "\n",
    "            #find belief\n",
    "            updated_belief_Li[j] = np.einsum(\"cC, C -> cC\", \n",
    "                                             np.einsum(\"cC, c -> cC\", self.Gamma, self.delta_Mi_to_Li[j]), \n",
    "                                             delta_Mi_plus_to_Li[j]) #old c (ci), new C (C_{i+1})\n",
    "            #normalize\n",
    "            updated_belief_Li[j] /= np.sum(updated_belief_Li[j])\n",
    "            \n",
    "\n",
    "\n",
    "        self.updated_belief_Li = updated_belief_Li\n",
    "        self.delta_Li_to_Mi = delta_Li_to_Mi\n",
    "        self.delta_Mi_plus_to_Li = delta_Mi_plus_to_Li\n",
    "        \n",
    "    def find_C_probabilites(self):\n",
    "        #Define structures\n",
    "        C_prob = np.empty(shape = (self.T, 3, 2)) #Time, C, the two methods\n",
    "\n",
    "        for i in range(self.T-1):\n",
    "            #\n",
    "            guess_0 = np.sum(self.updated_belief_Li[i], axis=1) #summing out C_{i+1}\n",
    "            guess_1 = np.sum(self.updated_belief_Li[i], axis= 0) #summing out C_i\n",
    "            C_prob[i,:,0] = guess_0     #Time, C_val, left_cliques\n",
    "            C_prob[i+1,:,1] = guess_1   #Time, C_val, right_cliques\n",
    "        \n",
    "        #Filling in gaps\n",
    "        C_prob[0,:,1] = C_prob[0,:,0]   #First probability\n",
    "        C_prob[-1,:,0] = C_prob[-1,:,1] #last probability\n",
    "\n",
    "\n",
    "        self.C_probs = C_prob\n",
    "        self.C_prob = C_prob[:,:,0]\n",
    "        return \n",
    "\n",
    "    def find_Z_probabilities(self):\n",
    "        delta_Mi_to_Nij = np.empty(shape = (self.T, 2)) #Time, Z_val: This message is the same accross neurons, it is only time dependent\n",
    "\n",
    "        #Finding first T-1 messages\n",
    "        for i in range(self.T-1):\n",
    "            delta_Mi_to_Nij[i] = np.einsum(\"c, cZ -> Z\", self.delta_Li_to_Mi[i], self.Z_given_C)\n",
    "\n",
    "        #Finding last message\n",
    "        delta_Mi_to_Nij[-1] = np.einsum(\"C, CZ -> Z\", self.delta_Li_to_Mi_plus[-1], self.Z_given_C)      \n",
    "        \n",
    "        belief_Zij = np.einsum(\"TZ, ZnT -> nTZ\", delta_Mi_to_Nij, self.P_X_given_Z) #(T,Z) x (Z, n, T) -> (n, T,Z)\n",
    "        \n",
    "        row_sums = np.sum(belief_Zij, axis=-1)\n",
    "\n",
    "        #normalize\n",
    "        belief_Zij/= row_sums[..., np.newaxis]\n",
    "\n",
    "        self.belief_Zij = belief_Zij #(n, T, Z)\n",
    "        self.delta_MI_to_Nij = delta_Mi_to_Nij #(Time, Z)\n",
    "        return \n",
    "\n",
    "    def message_pass(self):\n",
    "        self.find_P_X_given_C() #time, C\n",
    "        self.upwards_passing()\n",
    "        self.backwards_passing()\n",
    "        self.find_C_probabilites()\n",
    "        self.find_Z_probabilities()\n",
    "        return self.C_prob, self.belief_Zij\n",
    "\n",
    "    def find_probabilities(self):\n",
    "        self.sim_data()\n",
    "        self.find_P_X_given_C() #time, C\n",
    "        self.upwards_passing()\n",
    "        self.backwards_passing()\n",
    "        self.find_C_probabilites()\n",
    "        self.find_Z_probabilities()\n",
    "        \n",
    "\n",
    "    def variable_prediction_precision(self):\n",
    "        self.find_probabilities()\n",
    "\n",
    "        self.accuracy_Z = [(self.Z == z) - self.belief_Zij[:,:,z] for z in range(2)] #Average distance from true value for Z\n",
    "        self.accuracy_C = [(self.C == i) - self.C_prob[:,i] for i in range(3)] #Average distance from true value for C's\n",
    "        return self.accuracy_C, self.accuracy_Z\n",
    "    \n",
    "    \n",
    "        \n",
    "\n",
    "def check_simulation(N, model):\n",
    "    val_c = np.empty(shape = (N, 3, model.T)) #N, C, T\n",
    "    val_Z = np.empty(shape = (N, 2, model.n, model.T)) #N, Z, n, T\n",
    "    for i in range(N):\n",
    "        sim_i = Markov_model(T = model.T, n = model.n)\n",
    "        val_c[i], val_Z[i] = sim_i.variable_prediction_precision()\n",
    "\n",
    "    print(\"Did N = \", N, \" simulations with n = \", model.n, \" and T = \", model.T)\n",
    "    print(\"greatest error for C is:\", np.around(np.max(np.abs(np.mean(val_c, axis = 0)))*100, decimals = 2), \"%\")\n",
    "    print(\"greatest error for Z is:\", np.around(np.max(np.abs(np.mean(val_Z, axis = 0)))*100, decimals = 2), \"%\")\n",
    "    print(\"Accuracy for estimates of C: \\n\", np.around(np.mean(val_c, axis = 0), decimals= 2))\n",
    "    print(\"Accuracy for estimates of Z: \\n\", np.around(np.mean(val_Z, axis = 0), decimals= 2))\n",
    "    return \n",
    "\n",
    "model = Markov_model(T = 10, n = 100)"
   ]
  },
  {
   "cell_type": "markdown",
   "metadata": {},
   "source": [
    "# Forward Simulation"
   ]
  },
  {
   "cell_type": "code",
   "execution_count": 3,
   "metadata": {},
   "outputs": [],
   "source": [
    "C, Z, X = model.sim_data(n = 5, T = 2)"
   ]
  },
  {
   "cell_type": "markdown",
   "metadata": {},
   "source": [
    "# Visualizing"
   ]
  },
  {
   "cell_type": "markdown",
   "metadata": {},
   "source": []
  },
  {
   "cell_type": "markdown",
   "metadata": {},
   "source": [
    "# Logistic regression"
   ]
  },
  {
   "cell_type": "markdown",
   "metadata": {},
   "source": [
    "Packages:"
   ]
  },
  {
   "cell_type": "code",
   "execution_count": 4,
   "metadata": {},
   "outputs": [],
   "source": [
    "from sklearn.linear_model import LogisticRegression\n",
    "from sklearn.multioutput import MultiOutputClassifier"
   ]
  },
  {
   "cell_type": "markdown",
   "metadata": {},
   "source": [
    "Simulate lots of data"
   ]
  },
  {
   "cell_type": "code",
   "execution_count": 5,
   "metadata": {},
   "outputs": [],
   "source": [
    "N = 100\n",
    "\n",
    "n2 = 10\n",
    "T = 100\n",
    "\n",
    "#Training set\n",
    "np.random.seed(42)\n",
    "C, Z, X = np.empty(shape=(N,T)), np.empty(shape=(N,n2,T)), np.empty(shape=(N, n2,T))\n",
    "for i in range(N):\n",
    "    C[i], Z[i], X[i] = model.sim_data(n = n2, T = T)\n",
    "\n",
    "#Benchmark set\n",
    "np.random.seed(80)\n",
    "N_test = 100\n",
    "C_test, Z_test, X_test = np.empty(shape=(N_test,T)), np.empty(shape=(N_test,n2,T)), np.empty(shape=(N_test, n2, T))\n",
    "for i in range(N_test):\n",
    "    C_test[i], Z_test[i], X_test[i] = model.sim_data(n = n2,T = T)"
   ]
  },
  {
   "cell_type": "markdown",
   "metadata": {},
   "source": [
    "Logistic regression using all the X's to predict $C_{50}$"
   ]
  },
  {
   "cell_type": "markdown",
   "metadata": {},
   "source": [
    "#### Model 1"
   ]
  },
  {
   "cell_type": "code",
   "execution_count": 6,
   "metadata": {},
   "outputs": [],
   "source": [
    "#Defining regression models\n",
    "lr_model1 = LogisticRegression(max_iter=10000)\n",
    "\n",
    "#Model 1 - using all X's\n",
    "X_model1 = X[:,:,:].reshape((N, 100*n2))\n",
    "lr_model1.fit(X_model1, C[:,49])   # [49] is C_50 because of zero-indexing\n",
    "X_model1_test = X_test[:,:,:].reshape((N_test, 100*n2))"
   ]
  },
  {
   "cell_type": "code",
   "execution_count": 7,
   "metadata": {
    "scrolled": true
   },
   "outputs": [
    {
     "data": {
      "text/plain": [
       "0.67"
      ]
     },
     "execution_count": 7,
     "metadata": {},
     "output_type": "execute_result"
    }
   ],
   "source": [
    "#model1\n",
    "np.mean(lr_model1.predict(X_model1_test) == C_test[:,49])"
   ]
  },
  {
   "cell_type": "markdown",
   "metadata": {},
   "source": [
    "#### Model 2"
   ]
  },
  {
   "cell_type": "code",
   "execution_count": 8,
   "metadata": {},
   "outputs": [],
   "source": [
    "lr_model2 = LogisticRegression(max_iter=10000)\n",
    "\n",
    "#Model 2 - using only neighbouring X's\n",
    "X_model2 = X[:,:,48:51].reshape((N, 3*n2))\n",
    "lr_model2.fit(X_model2, C[:,49])\n",
    "X_model2_test = X_test[:,:,48:51].reshape((N_test, 3*n2))\n"
   ]
  },
  {
   "cell_type": "code",
   "execution_count": 9,
   "metadata": {},
   "outputs": [
    {
     "data": {
      "text/plain": [
       "0.8"
      ]
     },
     "execution_count": 9,
     "metadata": {},
     "output_type": "execute_result"
    }
   ],
   "source": [
    "#model 2\n",
    "np.mean(lr_model2.predict(X_model2_test) == C_test[:,49])"
   ]
  },
  {
   "cell_type": "markdown",
   "metadata": {},
   "source": [
    "#### Model 3"
   ]
  },
  {
   "cell_type": "code",
   "execution_count": 10,
   "metadata": {},
   "outputs": [],
   "source": [
    "lr_model3 = LogisticRegression(max_iter=10000)\n",
    "\n",
    "#Model 3 - using only descendant X's\n",
    "X_model3 = X[:,:,49].reshape((N, n2))\n",
    "lr_model3.fit(X_model3, C[:,49])\n",
    "X_model3_test = X_test[:,:,49].reshape((N_test, n2))\n"
   ]
  },
  {
   "cell_type": "code",
   "execution_count": 11,
   "metadata": {},
   "outputs": [
    {
     "data": {
      "text/plain": [
       "0.67"
      ]
     },
     "execution_count": 11,
     "metadata": {},
     "output_type": "execute_result"
    }
   ],
   "source": [
    "#model 3\n",
    "np.mean(lr_model3.predict(X_model3_test) == C_test[:,49])\n"
   ]
  },
  {
   "cell_type": "markdown",
   "metadata": {},
   "source": [
    "#### Model 4"
   ]
  },
  {
   "cell_type": "code",
   "execution_count": 12,
   "metadata": {},
   "outputs": [],
   "source": [
    "lr_model4 = LogisticRegression(max_iter=5000)\n",
    "\n",
    "#Model 4 - using only neighbouring X's\n",
    "X_model4 = X[:,:,0:39].reshape((N, 39*n2))\n",
    "lr_model4.fit(X_model4, C[:,49])\n",
    "X_model4_test = X_test[:,:,0:39].reshape((N_test, 39*n2))\n"
   ]
  },
  {
   "cell_type": "code",
   "execution_count": 13,
   "metadata": {},
   "outputs": [
    {
     "data": {
      "text/plain": [
       "0.34"
      ]
     },
     "execution_count": 13,
     "metadata": {},
     "output_type": "execute_result"
    }
   ],
   "source": [
    "#model 4\n",
    "np.mean(lr_model4.predict(X_model4_test) == C_test[:,49])"
   ]
  },
  {
   "cell_type": "markdown",
   "metadata": {},
   "source": [
    "# Learning"
   ]
  },
  {
   "cell_type": "code",
   "execution_count": 55,
   "metadata": {},
   "outputs": [],
   "source": [
    "model = Markov_model()\n",
    "model.sim_data(T = 100, return_output=False)\n"
   ]
  },
  {
   "cell_type": "markdown",
   "metadata": {},
   "source": [
    "Below is a function for computing parameter estimates"
   ]
  },
  {
   "cell_type": "code",
   "execution_count": 15,
   "metadata": {},
   "outputs": [
    {
     "data": {
      "text/plain": [
       "1"
      ]
     },
     "execution_count": 15,
     "metadata": {},
     "output_type": "execute_result"
    }
   ],
   "source": [
    "a = np.array([[1,1,0], [0,3,0]])\n",
    "b = np.array([1,0,1])\n",
    "np.einsum(\"nT, T -> \", a, b) "
   ]
  },
  {
   "cell_type": "code",
   "execution_count": 304,
   "metadata": {},
   "outputs": [],
   "source": [
    "def learn_par(model, Print = False):\n",
    "    n = model.n\n",
    "    T = model.T\n",
    "    Z = model.Z #n, T\n",
    "    C = model.C #T\n",
    "    X = model.X #n, T\n",
    "    \n",
    "    # Estimating lambda's\n",
    "    lambda0_hat = np.sum((1-Z) * X) / (np.sum(1-Z))\n",
    "    lambda1_hat = np.sum(Z * X) / np.sum(Z)\n",
    "\n",
    "    # # Estimating alpha_hat\n",
    "    if(np.sum(C==2) == T):\n",
    "        return print(\"WARNING: No C==1 nor C== 0 have been observed and learning cannot proceed\")\n",
    "\n",
    "    alpha_hat  =  np.sum(Z == C)  / (np.sum(C != 2)*n)\n",
    "    beta_hat   =  np.mean((C[:-1] == 2) & (C[1:] != 2)) / np.mean(C[:-1] == 2)\n",
    "    gamma_hat  =  np.mean((C[:-1] != 2) & (C[1:] == 2)) / np.mean(C[:-1] != 2)\n",
    "\n",
    "    if (Print == True):\n",
    "        print(\"lambda0_hat is: \", lambda0_hat, \"\\n lambda1_hat is: \", lambda1_hat, \"\\nalpha_hat is:\", alpha_hat, \"\\nbeta_hat is: \", beta_hat, \"\\ngamme_hat is: \", gamma_hat)\n",
    "    \n",
    "    model.estimates = {\n",
    "        \"lamb0_hat\": lambda0_hat,\n",
    "        \"lamb1_hat\": lambda1_hat,\n",
    "        \"alpha_hat\": alpha_hat,\n",
    "        \"beta_hat\":  beta_hat,\n",
    "        \"gamma_hat\": gamma_hat\n",
    "    }\n",
    "    return model.estimates"
   ]
  },
  {
   "cell_type": "code",
   "execution_count": 310,
   "metadata": {},
   "outputs": [
    {
     "name": "stdout",
     "output_type": "stream",
     "text": [
      "{'lamb0_hat': 0.9942678478374153, 'lamb1_hat': 5.024510959226962, 'alpha_hat': 0.8948979591836734, 'beta_hat': 0.19607843137254902, 'gamma_hat': 0.1875}\n",
      "[1, 5, 0.9, 0.2, 0.1]\n"
     ]
    }
   ],
   "source": [
    "model.sim_data(T = 100)\n",
    "print(learn_par(model))\n",
    "print(model.model_values)"
   ]
  },
  {
   "cell_type": "markdown",
   "metadata": {},
   "source": [
    "Test the implementation using simulated data"
   ]
  },
  {
   "cell_type": "code",
   "execution_count": 311,
   "metadata": {},
   "outputs": [],
   "source": [
    "N_rep = 100\n",
    "\n",
    "model = Markov_model(gamma = 0.4, T = 1000, n = 100)\n",
    "par_estimates = np.empty(shape =(N_rep,5))\n",
    "for i in range(N_rep):\n",
    "    model.sim_data(return_output=False)\n",
    "    estimate_i = learn_par(model)\n",
    "    par_estimates[i, 0] = estimate_i[\"lamb0_hat\"]\n",
    "    par_estimates[i, 1] = estimate_i[\"lamb1_hat\"]\n",
    "    par_estimates[i, 2] = estimate_i[\"alpha_hat\"]\n",
    "    par_estimates[i, 3] = estimate_i[\"beta_hat\"]\n",
    "    par_estimates[i, 4] = estimate_i[\"gamma_hat\"]   \n",
    "\n",
    "names = [\"lambda0\", \"lambda1\", \"alpha\", \"beta\", \"gamma\"]\n",
    "true_vals = [model.lamb0, model.lamb1, model.alpha, model.beta, model.gamma]"
   ]
  },
  {
   "cell_type": "code",
   "execution_count": 216,
   "metadata": {},
   "outputs": [
    {
     "data": {
      "image/png": "[encoded data removed]",
      "text/plain": [
       "<Figure size 1500x500 with 5 Axes>"
      ]
     },
     "metadata": {},
     "output_type": "display_data"
    }
   ],
   "source": [
    "# Create subplots with 1 row and 5 columns\n",
    "fig, axes = plt.subplots(1, 5, figsize=(15, 5), sharey=True)\n",
    "\n",
    "# Iterate through each subplot\n",
    "for i, ax in enumerate(axes):\n",
    "    # Plot histogram\n",
    "    ax.hist(par_estimates[:,i], bins=20, alpha=0.7)\n",
    "    \n",
    "    # Calculate mean\n",
    "    mean_value = np.mean(par_estimates[:,i])\n",
    "    \n",
    "    # Add vertical line for the mean\n",
    "    ax.axvline(mean_value, color='red', linestyle='dashed', linewidth=1)\n",
    "\n",
    "    # Add vertical line for true value\n",
    "    ax.axvline(true_vals[i], color='green', linestyle='dashed', linewidth=1)\n",
    "    \n",
    "    # Set title\n",
    "    ax.set_title(f'{names[i]} estimate\\nMean: {mean_value:.2f}\\nTrue value: {true_vals[i]:.2f}')\n",
    "    \n",
    "    # Set labels\n",
    "    ax.set_xlabel('Value')\n",
    "    ax.set_ylabel('Frequency')\n",
    "\n",
    "# Adjust layout\n",
    "plt.tight_layout()\n",
    "\n",
    "# Save plot\n",
    "plt.savefig('histograms_with_means.png')\n",
    "\n",
    "# Show plot\n",
    "plt.show()"
   ]
  },
  {
   "cell_type": "code",
   "execution_count": 255,
   "metadata": {},
   "outputs": [
    {
     "data": {
      "text/plain": [
       "(array([2, 2, 1, 2, 2, 2, 2, 2, 2, 2]),\n",
       " array([[1, 1, 1, 0, 1, 1, 0, 1, 1, 0],\n",
       "        [1, 1, 1, 0, 1, 1, 0, 1, 1, 0],\n",
       "        [1, 1, 1, 1, 0, 1, 1, 0, 0, 1],\n",
       "        [0, 0, 1, 0, 1, 0, 1, 0, 0, 1],\n",
       "        [0, 0, 1, 0, 0, 1, 1, 0, 0, 1],\n",
       "        [1, 0, 0, 0, 0, 0, 1, 0, 0, 1],\n",
       "        [1, 0, 1, 0, 1, 0, 1, 1, 1, 0],\n",
       "        [1, 1, 1, 1, 1, 1, 1, 0, 1, 0],\n",
       "        [1, 0, 1, 1, 0, 1, 1, 1, 1, 0],\n",
       "        [1, 0, 1, 0, 0, 1, 1, 0, 0, 0],\n",
       "        [1, 1, 1, 1, 1, 1, 0, 0, 0, 0],\n",
       "        [1, 0, 1, 0, 1, 0, 0, 1, 1, 1],\n",
       "        [1, 1, 1, 1, 1, 0, 1, 1, 1, 0],\n",
       "        [0, 1, 1, 0, 1, 1, 1, 0, 1, 0],\n",
       "        [1, 0, 1, 1, 0, 0, 0, 0, 0, 1],\n",
       "        [0, 0, 1, 1, 0, 0, 1, 0, 1, 0],\n",
       "        [0, 1, 1, 0, 0, 1, 0, 1, 0, 1],\n",
       "        [1, 1, 1, 1, 0, 1, 0, 1, 0, 0],\n",
       "        [1, 1, 1, 0, 1, 0, 1, 0, 1, 1],\n",
       "        [0, 0, 1, 1, 1, 1, 0, 1, 0, 1],\n",
       "        [0, 0, 1, 0, 1, 0, 0, 1, 0, 1],\n",
       "        [0, 0, 1, 1, 1, 0, 1, 1, 1, 1],\n",
       "        [0, 1, 1, 1, 0, 1, 0, 1, 0, 0],\n",
       "        [1, 1, 1, 1, 0, 0, 1, 1, 0, 0],\n",
       "        [0, 0, 1, 1, 1, 0, 0, 0, 0, 1],\n",
       "        [0, 1, 1, 0, 1, 1, 1, 0, 1, 1],\n",
       "        [0, 1, 0, 0, 0, 1, 1, 0, 0, 1],\n",
       "        [0, 1, 0, 1, 0, 0, 0, 0, 0, 0],\n",
       "        [1, 1, 1, 0, 1, 0, 1, 1, 1, 1],\n",
       "        [0, 0, 1, 0, 1, 1, 0, 1, 1, 0],\n",
       "        [1, 0, 1, 0, 1, 1, 0, 0, 0, 0],\n",
       "        [0, 1, 1, 1, 0, 1, 0, 0, 1, 1],\n",
       "        [0, 1, 1, 1, 0, 0, 0, 1, 0, 1],\n",
       "        [1, 1, 1, 1, 0, 0, 1, 0, 1, 0],\n",
       "        [0, 0, 0, 0, 0, 1, 1, 1, 0, 1],\n",
       "        [0, 1, 1, 1, 1, 1, 1, 1, 0, 0],\n",
       "        [1, 1, 0, 1, 0, 0, 0, 0, 1, 0],\n",
       "        [1, 0, 1, 0, 1, 0, 0, 1, 1, 1],\n",
       "        [1, 1, 1, 0, 0, 1, 1, 1, 1, 0],\n",
       "        [0, 0, 1, 1, 0, 1, 1, 1, 0, 0],\n",
       "        [0, 1, 1, 0, 0, 1, 0, 0, 1, 0],\n",
       "        [0, 1, 1, 1, 1, 0, 0, 0, 0, 0],\n",
       "        [1, 0, 1, 1, 0, 0, 0, 1, 1, 0],\n",
       "        [1, 1, 1, 0, 1, 0, 1, 0, 1, 0],\n",
       "        [0, 0, 1, 1, 0, 1, 0, 1, 0, 1],\n",
       "        [0, 0, 1, 0, 0, 0, 1, 1, 0, 1],\n",
       "        [0, 1, 0, 0, 1, 1, 0, 0, 1, 1],\n",
       "        [1, 1, 0, 1, 0, 1, 1, 1, 1, 1],\n",
       "        [1, 1, 1, 1, 0, 0, 0, 0, 0, 0],\n",
       "        [0, 1, 1, 0, 1, 0, 0, 0, 1, 1],\n",
       "        [0, 1, 1, 1, 0, 1, 1, 0, 1, 0],\n",
       "        [1, 1, 1, 0, 1, 0, 1, 0, 0, 0],\n",
       "        [0, 1, 1, 0, 0, 1, 1, 1, 0, 1],\n",
       "        [0, 1, 1, 1, 0, 1, 1, 1, 1, 1],\n",
       "        [1, 1, 1, 1, 0, 0, 1, 1, 1, 0],\n",
       "        [1, 1, 1, 0, 0, 0, 1, 0, 1, 1],\n",
       "        [0, 0, 1, 1, 1, 1, 0, 1, 0, 0],\n",
       "        [0, 1, 1, 0, 0, 1, 1, 0, 1, 0],\n",
       "        [1, 1, 1, 0, 1, 1, 0, 0, 0, 1],\n",
       "        [1, 0, 1, 0, 1, 0, 0, 1, 1, 1],\n",
       "        [1, 1, 1, 1, 0, 1, 0, 0, 1, 1],\n",
       "        [0, 0, 1, 0, 0, 1, 1, 0, 1, 0],\n",
       "        [1, 0, 1, 1, 0, 0, 1, 1, 0, 0],\n",
       "        [0, 1, 1, 1, 1, 0, 0, 1, 0, 1],\n",
       "        [0, 1, 1, 0, 0, 0, 1, 0, 1, 0],\n",
       "        [1, 0, 1, 0, 0, 1, 0, 0, 0, 1],\n",
       "        [0, 1, 1, 1, 1, 0, 1, 1, 0, 0],\n",
       "        [0, 1, 1, 0, 0, 0, 0, 1, 0, 0],\n",
       "        [1, 1, 1, 1, 0, 1, 1, 0, 1, 1],\n",
       "        [1, 1, 1, 0, 0, 1, 0, 0, 0, 0],\n",
       "        [0, 0, 1, 0, 1, 1, 0, 1, 1, 1],\n",
       "        [1, 0, 1, 0, 0, 1, 1, 1, 0, 1],\n",
       "        [0, 1, 1, 0, 1, 1, 1, 0, 0, 0],\n",
       "        [0, 1, 1, 1, 1, 1, 1, 1, 1, 1],\n",
       "        [1, 1, 1, 0, 1, 1, 1, 1, 1, 1],\n",
       "        [0, 0, 1, 1, 0, 0, 1, 1, 1, 0],\n",
       "        [0, 1, 0, 0, 0, 1, 1, 1, 1, 0],\n",
       "        [0, 1, 1, 1, 1, 1, 0, 1, 0, 1],\n",
       "        [1, 0, 1, 1, 0, 0, 1, 0, 0, 1],\n",
       "        [1, 1, 1, 1, 0, 0, 0, 1, 1, 1],\n",
       "        [0, 1, 1, 0, 0, 0, 1, 1, 0, 0],\n",
       "        [1, 0, 1, 1, 0, 1, 1, 0, 1, 1],\n",
       "        [0, 1, 1, 1, 0, 0, 0, 1, 1, 0],\n",
       "        [1, 1, 1, 1, 1, 1, 0, 1, 1, 1],\n",
       "        [1, 1, 1, 1, 0, 1, 1, 1, 1, 0],\n",
       "        [1, 0, 1, 1, 0, 0, 0, 0, 1, 1],\n",
       "        [1, 0, 1, 0, 0, 1, 1, 1, 0, 0],\n",
       "        [1, 0, 1, 1, 0, 0, 1, 0, 1, 1],\n",
       "        [1, 1, 1, 1, 1, 0, 1, 1, 0, 1],\n",
       "        [0, 0, 0, 1, 1, 1, 0, 1, 0, 1],\n",
       "        [0, 1, 1, 1, 1, 0, 1, 0, 1, 1],\n",
       "        [1, 1, 0, 0, 1, 1, 0, 0, 1, 1],\n",
       "        [0, 0, 0, 1, 0, 1, 1, 0, 0, 1],\n",
       "        [1, 0, 1, 1, 1, 1, 0, 0, 1, 1],\n",
       "        [1, 1, 1, 1, 0, 1, 1, 0, 1, 1],\n",
       "        [1, 0, 1, 0, 1, 0, 1, 0, 1, 0],\n",
       "        [1, 0, 1, 1, 1, 1, 1, 1, 0, 0],\n",
       "        [1, 1, 1, 1, 0, 1, 1, 1, 1, 1],\n",
       "        [0, 0, 1, 0, 1, 0, 1, 0, 1, 1],\n",
       "        [0, 0, 1, 1, 0, 1, 1, 0, 1, 0]]),\n",
       " array([[ 2,  1, 14,  2,  6,  3,  1,  7,  0,  0],\n",
       "        [ 2,  4,  6,  0,  8,  5,  2,  4,  9,  0],\n",
       "        [10,  4,  1,  3,  0,  8,  4,  1,  1,  5],\n",
       "        [ 0,  0,  3,  0,  5,  1,  6,  0,  1,  5],\n",
       "        [ 1,  1,  3,  1,  0,  5,  1,  1,  0,  6],\n",
       "        [ 3,  1,  2,  0,  1,  3,  7,  1,  1,  6],\n",
       "        [ 4,  0,  9,  0,  4,  0,  9,  4,  9,  1],\n",
       "        [ 2,  5,  7,  2,  6,  6,  5,  0,  6,  2],\n",
       "        [ 0,  1,  3,  6,  1,  6,  3,  9,  7,  0],\n",
       "        [ 3,  2,  7,  0,  2,  2,  4,  0,  1,  1],\n",
       "        [ 8,  7,  8,  4,  5, 10,  0,  1,  1,  0],\n",
       "        [ 4,  0,  5,  1,  3,  0,  1,  3,  4,  2],\n",
       "        [ 3,  3,  5,  3,  8,  3,  6,  7,  9,  3],\n",
       "        [ 0,  3,  4,  1,  9, 10,  3,  4,  6,  1],\n",
       "        [ 4,  0,  6,  6,  0,  0,  3,  0,  2,  3],\n",
       "        [ 2,  0,  4,  5,  1,  2,  9,  1,  5,  0],\n",
       "        [ 3,  1,  6,  1,  0,  2,  0,  5,  0,  2],\n",
       "        [ 1,  5,  5,  4,  3,  7,  1,  6,  0,  0],\n",
       "        [ 4,  2,  4,  2,  3,  0,  3,  1,  7,  5],\n",
       "        [ 3,  1,  1,  4,  4,  0,  1,  8,  4,  2],\n",
       "        [ 1,  1,  3,  4,  2,  0,  1,  4,  1,  4],\n",
       "        [ 4,  1,  7,  5,  2,  5,  3,  6,  5,  8],\n",
       "        [ 0,  7,  4,  6,  0,  6,  4,  4,  1,  0],\n",
       "        [ 5,  2,  4,  5,  2,  1,  4,  3,  1,  0],\n",
       "        [ 2,  2,  7,  7,  3,  0,  1,  0,  1,  6],\n",
       "        [ 2,  2,  4,  0,  7,  9,  4,  1,  2,  9],\n",
       "        [ 1,  6,  0,  0,  2,  2,  5,  1,  1, 11],\n",
       "        [ 1,  8,  0,  7,  1,  0,  2,  2,  1,  2],\n",
       "        [ 7,  4,  4,  0,  3,  0,  5,  6,  3,  5],\n",
       "        [ 1,  3,  4,  0,  5,  4,  1,  6,  4,  0],\n",
       "        [ 3,  0,  5,  0,  6,  2,  2,  1,  1,  0],\n",
       "        [ 1,  4,  1,  5,  1,  4,  0,  2,  3,  0],\n",
       "        [ 1,  6,  9,  7,  2,  1,  0,  2,  2,  3],\n",
       "        [ 6,  8,  5,  2,  0,  1,  5,  3,  6,  1],\n",
       "        [ 1,  0,  0,  2,  0,  3,  6,  6,  2,  2],\n",
       "        [ 0,  6,  4,  5,  6,  4,  5,  7,  0,  0],\n",
       "        [ 6,  6,  0,  6,  2,  2,  0,  1,  8,  1],\n",
       "        [ 3,  0,  3,  0,  3,  0,  1,  4,  2,  6],\n",
       "        [ 4,  7,  5,  1,  1,  4,  1,  5,  3,  0],\n",
       "        [ 0,  2,  6,  4,  2,  4,  9,  6,  1,  2],\n",
       "        [ 0,  6,  3,  0,  1,  4,  1,  0,  4,  0],\n",
       "        [ 1,  5,  8,  3,  8,  2,  1,  2,  1,  1],\n",
       "        [ 3,  1,  2,  4,  1,  1,  1,  4,  5,  0],\n",
       "        [ 2,  3,  4,  2,  1,  1, 10,  3,  5,  0],\n",
       "        [ 0,  0,  1,  6,  1,  4,  2,  6,  0,  6],\n",
       "        [ 0,  0,  4,  4,  2,  3,  3,  5,  0,  7],\n",
       "        [ 0,  6,  3,  0,  7,  3,  1,  1,  1,  7],\n",
       "        [ 3,  8,  0,  5,  3,  2,  5,  3,  9,  5],\n",
       "        [ 4,  6,  5,  4,  1,  1,  0,  1,  0,  3],\n",
       "        [ 2,  3,  4,  2,  5,  0,  2,  0,  4,  3],\n",
       "        [ 0, 10,  5,  4,  0,  8,  4,  1,  4,  3],\n",
       "        [ 4,  8,  3,  2,  5,  1,  5,  0,  1,  3],\n",
       "        [ 1,  8,  3,  0,  0,  4,  7,  5,  1,  4],\n",
       "        [ 0,  5,  7,  0,  3,  6,  1,  5,  6,  6],\n",
       "        [ 4,  2,  3,  4,  3,  1,  4,  7,  6,  1],\n",
       "        [ 6,  6,  5,  1,  0,  1,  6,  1,  6,  4],\n",
       "        [ 1,  4,  5,  4,  5,  7,  0,  4,  1,  1],\n",
       "        [ 1,  5,  8,  0,  3,  7,  6,  1,  4,  2],\n",
       "        [ 9,  4,  5,  1,  3,  7,  1,  1,  2,  2],\n",
       "        [ 3,  3,  2,  1,  7,  2,  0,  4,  4,  9],\n",
       "        [ 7,  5,  7,  5,  1,  4,  1,  1,  3,  2],\n",
       "        [ 2,  1,  5,  0,  0,  6,  8,  1,  5,  1],\n",
       "        [ 7,  2,  4,  4,  1,  1,  6,  2,  1,  1],\n",
       "        [ 1,  5,  6,  1,  7,  1,  2,  6,  1,  4],\n",
       "        [ 2,  7,  4,  1,  1,  2,  2,  2,  3,  2],\n",
       "        [ 5,  2,  5,  1,  0,  3,  0,  2,  0,  5],\n",
       "        [ 0,  6,  4,  7,  5,  2,  3,  5,  1,  0],\n",
       "        [ 1,  6,  3,  0,  0,  2,  2,  5,  0,  0],\n",
       "        [ 5,  5,  5,  5,  2,  4,  7,  2,  1,  3],\n",
       "        [ 6,  7,  6,  1,  3,  5,  0,  0,  0,  0],\n",
       "        [ 2,  0,  8,  2,  5,  6,  2,  4,  7,  5],\n",
       "        [ 1,  1,  4,  0,  1,  4,  4,  3,  1,  4],\n",
       "        [ 0, 10,  1,  0,  3,  8,  8,  2,  1,  2],\n",
       "        [ 0,  5,  6,  8,  3,  5,  6,  2,  7,  8],\n",
       "        [ 3,  7,  4,  1,  4,  8,  4,  5,  6,  8],\n",
       "        [ 1,  2,  7,  5,  0,  0,  3,  2,  5,  1],\n",
       "        [ 0,  4,  1,  3,  0,  7,  6,  4,  3,  1],\n",
       "        [ 0,  6,  7,  1,  9,  4,  0,  8,  0,  8],\n",
       "        [ 9,  0,  3,  2,  0,  1,  4,  1,  1,  5],\n",
       "        [ 4,  7,  2,  3,  1,  0,  2,  6,  5,  6],\n",
       "        [ 3,  6,  5,  0,  1,  2,  1,  7,  1,  2],\n",
       "        [ 7,  2,  3, 10,  4,  8,  5,  1,  6,  6],\n",
       "        [ 3,  3,  8,  2,  2,  2,  1,  6, 12,  1],\n",
       "        [ 4,  7,  5,  7,  4,  8,  0,  4,  1,  6],\n",
       "        [ 3,  6,  7,  7,  2,  8,  2,  6,  5,  1],\n",
       "        [ 3,  1,  1,  3,  2,  1,  1,  1,  4,  9],\n",
       "        [ 5,  0,  1,  1,  1,  2,  7,  3,  1,  1],\n",
       "        [ 9,  1,  1, 11,  1,  0,  6,  1,  3,  6],\n",
       "        [ 5,  6,  5,  4,  5,  2,  4,  3,  3,  5],\n",
       "        [ 2,  0,  2,  3,  5,  8,  1,  8,  1,  5],\n",
       "        [ 3,  4,  8,  3,  2,  1,  8,  1,  2,  7],\n",
       "        [ 2,  8,  1,  1,  1,  4,  2,  1,  3,  4],\n",
       "        [ 3,  1,  0,  6,  1,  4,  6,  0,  2,  5],\n",
       "        [ 4,  0,  2,  1,  9,  8,  2,  1,  4,  7],\n",
       "        [ 4,  4,  7,  5,  2,  7,  4,  1,  3,  7],\n",
       "        [ 3,  0,  2,  1,  0,  1,  2,  2,  6,  1],\n",
       "        [10,  1,  7,  7, 11,  2,  7,  7,  2,  3],\n",
       "        [ 5,  4,  4,  5,  1,  3,  4,  4,  8,  4],\n",
       "        [ 2,  1,  4,  4,  5,  1,  6,  1,  5,  7],\n",
       "        [ 0,  1,  6,  3,  0,  6,  4,  2,  3,  3]]))"
      ]
     },
     "execution_count": 255,
     "metadata": {},
     "output_type": "execute_result"
    }
   ],
   "source": [
    "model = Markov_model(T = 10, n = 100)\n",
    "model.sim_data()"
   ]
  },
  {
   "cell_type": "code",
   "execution_count": 24,
   "metadata": {},
   "outputs": [
    {
     "data": {
      "text/plain": [
       "(100, 10)"
      ]
     },
     "execution_count": 24,
     "metadata": {},
     "output_type": "execute_result"
    }
   ],
   "source": [
    "model.X.shape"
   ]
  },
  {
   "cell_type": "code",
   "execution_count": 336,
   "metadata": {},
   "outputs": [
    {
     "data": {
      "text/plain": [
       "({'lamb0_hat': 0.9221748869076376,\n",
       "  'lamb1_hat': 5.162700598582498,\n",
       "  'alpha_hat': 0.8902840059790732,\n",
       "  'beta_hat': 0.20606060606060608,\n",
       "  'gamma_hat': 0.101644245142003},\n",
       " [1, 5, 0.9, 0.2, 0.1])"
      ]
     },
     "execution_count": 336,
     "metadata": {},
     "output_type": "execute_result"
    }
   ],
   "source": [
    "#---- EM ----\n",
    "def hardEM(X, convergence_limit = 1e-5, limit = 100, initial_dic = {'lamb0_hat': 1, 'lamb1_hat': 10, 'alpha_hat': 0.9, 'beta_hat': 0.5, 'gamma_hat': 0.5}, verbose = 0):\n",
    "    data_n = X.shape[0]\n",
    "    data_T = X.shape[1]\n",
    "    model = Markov_model(n = data_n, T = data_T)\n",
    "    model.X = X\n",
    "    \n",
    "    #Updating working model\n",
    "    distance = 100\n",
    "    model.alpha = initial_dic[\"alpha_hat\"]\n",
    "    model.beta  = initial_dic[\"beta_hat\"]\n",
    "    model.gamma = initial_dic[\"gamma_hat\"]\n",
    "    model.lamb0 = initial_dic[\"lamb0_hat\"]\n",
    "    model.lamb1 = initial_dic[\"lamb1_hat\"]\n",
    "    if verbose > 0:\n",
    "        print(\"initial_values are\", model.model_values)\n",
    "    model.update_values()\n",
    "    current_est  = np.empty(shape = (limit+1,5 ))\n",
    "    current_est[0] = list(initial_dic.values())\n",
    "    #Resetting the timer\n",
    "    N = 0\n",
    "    distance = 10\n",
    "    while (N<limit) & (distance > convergence_limit):\n",
    "        N += 1\n",
    "        \n",
    "        model.message_pass()\n",
    "        C_guess = np.argmax(model.C_prob, axis = 1) #(T)\n",
    "        Z_guess = np.argmax(model.belief_Zij, axis = 2) #(n T Z)\n",
    "        model.C = C_guess\n",
    "        model.Z = Z_guess\n",
    "        \n",
    "        parameter_guess = learn_par(model)\n",
    "\n",
    "        #Update model values\n",
    "        model.alpha = parameter_guess[\"alpha_hat\"]\n",
    "        model.beta = parameter_guess[\"beta_hat\"]\n",
    "        model.gamma = parameter_guess[\"gamma_hat\"]\n",
    "        model.lamb0 = parameter_guess[\"lamb0_hat\"]\n",
    "        model.lamb1 = parameter_guess[\"lamb1_hat\"]\n",
    "        model.update_values()\n",
    "\n",
    "        list_parameter_guess = list(parameter_guess.values())\n",
    "        #Save current estimate\n",
    "        current_est[N] = list_parameter_guess\n",
    "        #calculate distance\n",
    "        distance = np.max(current_est[N-1]-current_est[N])\n",
    "\n",
    "    if verbose > 0:\n",
    "        if(N < limit):\n",
    "            print(\"Convergence acheived after N =  \", N, \"steps\")\n",
    "            current_est = current_est[0:(N+1),:]\n",
    "        else:\n",
    "            print(\"No convergence after N = \", limit, \"steps\")\n",
    "    \n",
    "    model.estimates = parameter_guess\n",
    "\n",
    "    return model.estimates, current_est\n",
    "\n",
    "\n",
    "final, est_list = hardEM(test_X, limit = 50, initial_dic=initial_dic)\n",
    "final, true_model.model_values"
   ]
  },
  {
   "cell_type": "code",
   "execution_count": 434,
   "metadata": {},
   "outputs": [],
   "source": [
    "\n",
    "def learn_par_soft(model, Print = False):\n",
    "    n = model.n\n",
    "    T = model.T\n",
    "    Z = model.belief_Zij #n, T, 2\n",
    "    C = model.C_prob #T, 3\n",
    "    X = model.X  #n, T\n",
    "    \n",
    "    # Estimating lambda's\n",
    "    lambda0_hat = np.sum(Z[:,:,0] * X) / (np.sum(Z[:,:,0]))\n",
    "    lambda1_hat = np.sum(Z[:,:,1] * X) / np.sum(Z[:,:,1])\n",
    "\n",
    "    # # Estimating alpha_hat\n",
    "    if(np.sum(C[:,2]) == T):\n",
    "        return print(\"WARNING: No C==1 nor C== 0 have been observed and learning cannot proceed\")\n",
    "\n",
    "    alpha_hat =  np.mean(C[:,0] * Z[:,:,0] + C[:,1] * Z[:,:,1]) / (np.mean(C[:,0] + C[:,1]))\n",
    "    beta_hat  =  np.mean(C[:-1,2] * (C[1:,0] + C[1:,1])) / np.mean(C[:-1,2])\n",
    "    gamma_hat =  np.mean((C[:-1,0] + C[:-1,1]) * C[1:,2]) / np.mean(C[:-1,0] + C[:-1,1])\n",
    "\n",
    "    if (Print == True):\n",
    "        print(\"lambda0_hat is: \", lambda0_hat, \"\\n lambda1_hat is: \", lambda1_hat, \"\\nalpha_hat is:\", alpha_hat, \"\\nbeta_hat is: \", beta_hat, \"\\ngamme_hat is: \", gamma_hat)\n",
    "    \n",
    "    print(np.mean(C[:,0] * Z[:,:,0]), np.mean(C[:,1] * Z[:,:,1]), np.mean(C[:,0] + C[:,1]))\n",
    "\n",
    "    model.estimates = {\n",
    "        \"lamb0_hat\": lambda0_hat,\n",
    "        \"lamb1_hat\": lambda1_hat,\n",
    "        \"alpha_hat\": alpha_hat,\n",
    "        \"beta_hat\":  beta_hat,\n",
    "        \"gamma_hat\": gamma_hat\n",
    "    }\n",
    "    return model.estimates"
   ]
  },
  {
   "cell_type": "code",
   "execution_count": null,
   "metadata": {},
   "outputs": [],
   "source": []
  },
  {
   "cell_type": "code",
   "execution_count": 435,
   "metadata": {},
   "outputs": [
    {
     "name": "stdout",
     "output_type": "stream",
     "text": [
      "0.4456855283971495 0.07355696958159097 0.6733384716392523\n",
      "0.4238379685748709 0.18273142664601086 0.7718629619703913\n",
      "0.3827175596296134 0.23438727773246054 0.7852985616539703\n",
      "0.3560010874260557 0.25728269800720793 0.7787978736665313\n",
      "0.3400239325482614 0.2676414647649224 0.7685784821015218\n",
      "0.3304759134327633 0.2717984771952578 0.7581958195395941\n",
      "0.32455466034204666 0.2728024080783183 0.7484212530590316\n",
      "0.3206710502867145 0.27224187336733124 0.7394299577192346\n",
      "0.31796535968148526 0.2709651543885649 0.7312797052996306\n",
      "0.3159787188899096 0.26942732352550114 0.7240011244339841\n",
      "0.31446381175362303 0.26787011369387775 0.7176050486782474\n",
      "0.3132821619274825 0.2664171200800335 0.7120774526783065\n",
      "0.31235046683483825 0.2651251650312161 0.7073778433288722\n",
      "0.3116135914827908 0.264012929530765 0.7034429361158833\n",
      "0.3110315032852118 0.2630776108432243 0.7001936709360308\n",
      "0.310573150446363 0.26230498996108476 0.6975431313677304\n",
      "0.3102135962944627 0.261675624120293 0.6954035894361009\n",
      "0.309932577930708 0.26116861148816817 0.6936917864868968\n",
      "0.30971364626609404 0.2607637760217424 0.6923322739777829\n",
      "0.30954353578792243 0.26044281877119524 0.6912590633012833\n",
      "0.30941163605182026 0.2601898083748105 0.6904160084684849\n",
      "0.30930952760901853 0.2599912687297495 0.689756356237077\n",
      "0.30923057566896733 0.25983603940393196 0.6892418265853368\n",
      "0.3091695813244863 0.25971502402262875 0.688841489110145\n",
      "0.3091224888703649 0.2596208985436069 0.6885306095072161\n",
      "0.30908614511062144 0.25954782135906795 0.6882895678434834\n",
      "0.3090581046729322 0.2594911673318476 0.6881028990217698\n",
      "0.3090364745681806 0.259447295404445 0.6879584727116713\n",
      "0.3090197913060399 0.2594133520392248 0.6878468105498261\n",
      "0.30900692446220757 0.25938710872116233 0.6877605282818512\n",
      "0.30899700141114156 0.2593668298326979 0.687693886298458\n",
      "0.30898934880672224 0.2593511665411508 0.6876424312601498\n",
      "0.3089834472091393 0.2593390723666129 0.6876027125871242\n",
      "0.30897889597190725 0.2593297364752067 0.6875720595074167\n",
      "0.3089753861043206 0.2593225312623942 0.6875484065217673\n",
      "0.3089726793161103 0.25931697133746856 0.6875301572437253\n",
      "0.3089705918451449 0.2593126815332992 0.6875160784589133\n",
      "0.30896898198095707 0.2593093720180407 0.6875052178642376\n",
      "0.30896774044161723 0.2593068189699043 0.687496840293824\n",
      "0.3089667829523474 0.25930484959426897 0.6874903783364461\n",
      "0.308966044522512 0.2593033305210987 0.6874853941321175\n",
      "0.3089654750324435 0.2593021588282567 0.687481549838124\n",
      "0.3089650358303456 0.2593012551013621 0.687478584809646\n",
      "0.3089646971080751 0.2593005580711264 0.6874762979758313\n",
      "0.3089644358775105 0.2593000204713876 0.6874745342328509\n",
      "0.3089642344100343 0.25929960584104217 0.6874731739409833\n",
      "0.30896407903312434 0.25929928605541186 0.687472124819198\n",
      "0.3089639592023198 0.25929903942105187 0.6874713156908896\n",
      "0.30896386678553917 0.2592988492056306 0.6874706916585426\n",
      "0.30896379551115316 0.25929870250366244 0.6874702103811823\n",
      "0.30896374054233977 0.2592985893614491 0.6874698392027767\n"
     ]
    },
    {
     "data": {
      "text/plain": [
       "({'lamb0_hat': 0.9785869012493225,\n",
       "  'lamb1_hat': 4.937506717920524,\n",
       "  'alpha_hat': 0.8265996520847713,\n",
       "  'beta_hat': 0.30398553145884966,\n",
       "  'gamma_hat': 0.1374435083163981},\n",
       " [1, 5, 0.9, 0.2, 0.1])"
      ]
     },
     "execution_count": 435,
     "metadata": {},
     "output_type": "execute_result"
    }
   ],
   "source": [
    "#---- soft EM ----\n",
    "def softEM(X, convergence_limit = 1e-6, limit = 500, initial_dic = {'lamb0_hat': 1, 'lamb1_hat': 10, 'alpha_hat': 0.9, 'beta_hat': 0.5, 'gamma_hat': 0.5}, verbose=0):\n",
    "    data_n = X.shape[0]\n",
    "    data_T = X.shape[1]\n",
    "    model = Markov_model(n = data_n, T = data_T)\n",
    "    model.X = X\n",
    "    \n",
    "    #Updating working model\n",
    "    distance = 100\n",
    "    model.alpha = initial_dic[\"alpha_hat\"]\n",
    "    model.beta = initial_dic[\"beta_hat\"]\n",
    "    model.gamma = initial_dic[\"gamma_hat\"]\n",
    "    model.lamb0 = initial_dic[\"lamb0_hat\"]\n",
    "    model.lamb1 = initial_dic[\"lamb1_hat\"]\n",
    "    if verbose > 0:\n",
    "        print(\"initial_values are\", model.model_values)\n",
    "    model.update_values()\n",
    "    current_est  = np.empty(shape = (limit+1,5 ))\n",
    "    current_est[0] = list(initial_dic.values())\n",
    "    #Resetting the timer\n",
    "    N = 0\n",
    "    distance = 10\n",
    "    while (N<limit) & (distance > convergence_limit):\n",
    "        N += 1\n",
    "        \n",
    "        model.message_pass()\n",
    "        parameter_guess = learn_par_soft(model)\n",
    "\n",
    "        #Update model values\n",
    "        model.alpha = parameter_guess[\"alpha_hat\"]\n",
    "        model.beta = parameter_guess[\"beta_hat\"]\n",
    "        model.gamma = parameter_guess[\"gamma_hat\"]\n",
    "        model.lamb0 = parameter_guess[\"lamb0_hat\"]\n",
    "        model.lamb1 = parameter_guess[\"lamb1_hat\"]\n",
    "        model.update_values()\n",
    "\n",
    "        list_parameter_guess = list(parameter_guess.values())\n",
    "        #Save current estimate\n",
    "        current_est[N] = list_parameter_guess\n",
    "        #calculate distance\n",
    "        distance = np.max(current_est[N-1]-current_est[N])\n",
    "\n",
    "    if verbose > 0:\n",
    "        if(N < limit):\n",
    "            print(\"Convergence achieved after N =  \", N, \"steps\")\n",
    "            current_est = current_est[0:(N+1),:]\n",
    "        else:\n",
    "            print(\"No convergence after N = \", limit, \"steps\")\n",
    "    \n",
    "    model.estimates = parameter_guess\n",
    "\n",
    "    #print(model.C_probs)\n",
    "    return model.estimates, current_est\n",
    "\n",
    "true_model = Markov_model(T = 1000, n = 10)\n",
    "true_model.sim_data()\n",
    "test_X = true_model.X\n",
    "final, est_list = softEM(test_X, limit = 200, initial_dic=initial_dic)\n",
    "final, true_model.model_values"
   ]
  },
  {
   "cell_type": "code",
   "execution_count": 349,
   "metadata": {},
   "outputs": [],
   "source": [
    "N_rep = 100\n",
    "\n",
    "initial_dic = {'lamb0_hat': 1, 'lamb1_hat': 10, 'alpha_hat': 0.95, 'beta_hat': 0.5, 'gamma_hat': 0.5} \n",
    "model = Markov_model(gamma = 0.4, T = 1000, n = 100)\n",
    "test_X = true_model.X\n",
    "final, est_list = softEM(test_X, limit = 50, initial_dic=initial_dic)\n",
    "final, true_model.model_values\n",
    "\n",
    "par_estimates = np.empty(shape =(N_rep,5))\n",
    "for i in range(N_rep):\n",
    "    model.sim_data(return_output=False)\n",
    "    estimate_i, _ = hardEM(model.X)\n",
    "    par_estimates[i, 0] = estimate_i[\"lamb0_hat\"]\n",
    "    par_estimates[i, 1] = estimate_i[\"lamb1_hat\"]\n",
    "    par_estimates[i, 2] = estimate_i[\"alpha_hat\"]\n",
    "    par_estimates[i, 3] = estimate_i[\"beta_hat\"]\n",
    "    par_estimates[i, 4] = estimate_i[\"gamma_hat\"]   \n",
    "\n",
    "names = [\"lambda0\", \"lambda1\", \"alpha\", \"beta\", \"gamma\"]\n",
    "true_vals = [model.lamb0, model.lamb1, model.alpha, model.beta, model.gamma]"
   ]
  },
  {
   "cell_type": "code",
   "execution_count": 350,
   "metadata": {},
   "outputs": [
    {
     "data": {
      "image/png": "[encoded data removed]",
      "text/plain": [
       "<Figure size 1500x500 with 5 Axes>"
      ]
     },
     "metadata": {},
     "output_type": "display_data"
    }
   ],
   "source": [
    "# Create subplots with 1 row and 5 columns\n",
    "fig, axes = plt.subplots(1, 5, figsize=(15, 5), sharey=True)\n",
    "\n",
    "# Iterate through each subplot\n",
    "for i, ax in enumerate(axes):\n",
    "    # Plot histogram\n",
    "    ax.hist(par_estimates[:,i], bins=20, alpha=0.7)\n",
    "        \n",
    "    # Add vertical line for the mean and true values\n",
    "    mean_value = np.mean(par_estimates[:,i])\n",
    "    ax.axvline(mean_value, color='red', linestyle='dashed', linewidth=1)\n",
    "    ax.axvline(true_vals[i], color='green', linestyle='dashed', linewidth=1)\n",
    "    \n",
    "    # Set title and labels\n",
    "    ax.set_title(f'{names[i]} estimate\\nMean: {mean_value:.2f}\\nTrue value: {true_vals[i]:.2f}')\n",
    "    ax.set_xlabel('Value')\n",
    "    ax.set_ylabel('Frequency')\n",
    "\n",
    "plt.tight_layout()\n",
    "plt.savefig('histograms_with_means.png')\n",
    "plt.show()"
   ]
  },
  {
   "cell_type": "code",
   "execution_count": 412,
   "metadata": {},
   "outputs": [],
   "source": [
    "N_rep = 100\n",
    "\n",
    "initial_dic = {'lamb0_hat': 1, 'lamb1_hat': 10, 'alpha_hat': 0.6, 'beta_hat': 0.5, 'gamma_hat': 0.5} \n",
    "model = Markov_model(gamma = 0.4, T = 1000, n = 100)\n",
    "test_X = true_model.X\n",
    "final, est_list = softEM(test_X, limit = 50, initial_dic=initial_dic)\n",
    "final, true_model.model_values\n",
    "\n",
    "par_estimates_softEM = np.empty(shape =(N_rep,5))\n",
    "for i in range(N_rep):\n",
    "    model.sim_data(return_output=False)\n",
    "    estimate_i, _ = softEM(model.X)\n",
    "    par_estimates_softEM[i, 0] = estimate_i[\"lamb0_hat\"]\n",
    "    par_estimates_softEM[i, 1] = estimate_i[\"lamb1_hat\"]\n",
    "    par_estimates_softEM[i, 2] = estimate_i[\"alpha_hat\"]\n",
    "    par_estimates_softEM[i, 3] = estimate_i[\"beta_hat\"]\n",
    "    par_estimates_softEM[i, 4] = estimate_i[\"gamma_hat\"]   \n",
    "\n",
    "names = [\"lambda0\", \"lambda1\", \"alpha\", \"beta\", \"gamma\"]\n",
    "true_vals = [model.lamb0, model.lamb1, model.alpha, model.beta, model.gamma]"
   ]
  },
  {
   "cell_type": "code",
   "execution_count": 414,
   "metadata": {},
   "outputs": [
    {
     "data": {
      "image/png": "[encoded data removed]",
      "text/plain": [
       "<Figure size 1500x500 with 5 Axes>"
      ]
     },
     "metadata": {},
     "output_type": "display_data"
    }
   ],
   "source": [
    "# Create subplots with 1 row and 5 columns\n",
    "fig, axes = plt.subplots(1, 5, figsize=(15, 5), sharey=True)\n",
    "\n",
    "# Iterate through each subplot\n",
    "for i, ax in enumerate(axes):\n",
    "    # Plot histogram\n",
    "    ax.hist(par_estimates_softEM[:,i], bins=20, alpha=0.7)\n",
    "        \n",
    "    # Add vertical line for the mean and true values\n",
    "    mean_value = np.mean(par_estimates_softEM[:,i])\n",
    "    ax.axvline(mean_value, color='red', linestyle='dashed', linewidth=1)\n",
    "    ax.axvline(true_vals[i], color='green', linestyle='dashed', linewidth=1)\n",
    "    \n",
    "    # Set title and labels\n",
    "    ax.set_title(f'{names[i]} estimate\\nMean: {mean_value:.2f}\\nTrue value: {true_vals[i]:.2f}')\n",
    "    ax.set_xlabel('Value')\n",
    "    ax.set_ylabel('Frequency')\n",
    "\n",
    "plt.tight_layout()\n",
    "plt.savefig('histograms_with_means.png')\n",
    "plt.show()"
   ]
  },
  {
   "cell_type": "code",
   "execution_count": 419,
   "metadata": {},
   "outputs": [
    {
     "data": {
      "text/plain": [
       "array([0., 0., 1.])"
      ]
     },
     "execution_count": 419,
     "metadata": {},
     "output_type": "execute_result"
    }
   ],
   "source": []
  }
 ],
 "metadata": {
  "kernelspec": {
   "display_name": "Python 3 (ipykernel)",
   "language": "python",
   "name": "python3"
  },
  "language_info": {
   "codemirror_mode": {
    "name": "ipython",
    "version": 3
   },
   "file_extension": ".py",
   "mimetype": "text/x-python",
   "name": "python",
   "nbconvert_exporter": "python",
   "pygments_lexer": "ipython3",
   "version": "3.9.16"
  }
 },
 "nbformat": 4,
 "nbformat_minor": 2
}
