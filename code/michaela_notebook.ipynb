{
 "cells": [
  {
   "cell_type": "code",
   "execution_count": 174,
   "metadata": {},
   "outputs": [],
   "source": [
    "import numpy as np\n",
    "import math\n",
    "#from scipy.stats import poisson\n",
    "import matplotlib.pyplot as plt"
   ]
  },
  {
   "cell_type": "code",
   "execution_count": 175,
   "metadata": {},
   "outputs": [],
   "source": [
    "#import seaborn as sns\n",
    "#sns.set(style=\"whitegrid\")"
   ]
  },
  {
   "cell_type": "markdown",
   "metadata": {},
   "source": [
    "## Forward Simulation"
   ]
  },
  {
   "cell_type": "markdown",
   "metadata": {},
   "source": [
    "Simulation function"
   ]
  },
  {
   "cell_type": "code",
   "execution_count": 176,
   "metadata": {},
   "outputs": [],
   "source": [
    "def sim(n,T, alpha = 0.9, beta = 0.2, lambda_p = [1,5], gamma = 0.1):\n",
    "\n",
    "    # Big gamma matrix\n",
    "    big_gamma = np.array([\n",
    "    [1- gamma, 0, gamma], \n",
    "    [0, 1-gamma, gamma], \n",
    "    [beta/2, beta/2, 1- beta]\n",
    "    ])\n",
    "\n",
    "    C = [None]*T\n",
    "    C[0] = 2\n",
    "    C_trans = {(1,0,0): 0, (0,1,0): 1, (0,0,1): 2} \n",
    "\n",
    "    for i in range(1,T):\n",
    "        draw = np.random.multinomial(1, big_gamma[C[i-1], :], 1)\n",
    "        C[i] = C_trans[tuple(draw[0])]\n",
    "\n",
    "    Z = np.empty([n, T])\n",
    "\n",
    "    probs = {0: 1-alpha, 1: alpha, 2: 0.5}\n",
    "    \n",
    "    Zs = [np.random.binomial(1, p = probs[c], size = n) for c in C]\n",
    "    Z_flat = np.array(Zs).flat\n",
    "\n",
    "    Xs = np.reshape([np.random.poisson(lambda_p[z]) for z in Z_flat], newshape=(T, n))\n",
    "\n",
    "    return [C, Zs, Xs]"
   ]
  },
  {
   "cell_type": "markdown",
   "metadata": {},
   "source": [
    "# Inference "
   ]
  },
  {
   "cell_type": "markdown",
   "metadata": {},
   "source": [
    "We use the clique graph $\\{C_{t}, C_{t+1}\\} \\text{––} \\{C_t, Z_{tj}\\} \\text{––} \\{Z_{tj}, X_{tj}\\}$. First we initialize three arrays with the **initial factors**"
   ]
  },
  {
   "cell_type": "markdown",
   "metadata": {},
   "source": [
    "Cliques:\n",
    "\\begin{align*}\n",
    "L_i &= \\{C_i, C_{i+1}\\}, \\text{ for } i = 1, \\ldots, T-1 \\\\\n",
    "M_{i,j} &= \\{Z_{i,j}, C_i\\} \\text{ for } i = 1, \\ldots, T \\quad j = 1, \\ldots, n \\\\\n",
    "N_{i,j} &= \\{X_{i,j}, Z_{i,j}\\} \\text{ for } i = 1, \\ldots, T \\quad j = 1, \\ldots, n\n",
    "\\end{align*}\n",
    "Clique potentials\n",
    "\n",
    "\\begin{align*}\n",
    "\\psi_{L_1}(C_1, C_2) &= P(C_1)P(C_2 \\mid C_1)\\\\\n",
    "\\psi_{L_i}(C_{i}, C_{i+1}) &= P(C_{i+1} \\mid C_{i}) \\text{ for } i = 2, \\ldots , T-1\\\\\n",
    "\\psi_{M_{i,j}}(Z_{i,j}, C_i) &= P(Z_{i,j} \\mid C_i) \\text{ for } j = 1, \\ldots, n, \\quad i = 1, \\ldots, T\\\\\n",
    "\\psi_{N_{i,j}}(Z_{i,j}, X_{i,j}) &= P(X_{i,j} \\mid Z_{i,j}) = \\exp(-\\lambda_{Z_{i,j}})\\frac{\\lambda_{Z_{i,j}}^{X_{i,j}}}{X_{i,j}!} \\text{ for } j = 1, \\ldots, n, \\quad i = 1, \\ldots, T\\\\\n",
    "\\end{align*}"
   ]
  },
  {
   "cell_type": "markdown",
   "metadata": {},
   "source": [
    "Below a message passing function is defined:"
   ]
  },
  {
   "cell_type": "code",
   "execution_count": 180,
   "metadata": {},
   "outputs": [],
   "source": [
    "def Clique_Beliefs(Xs, alpha = 0.9, beta = 0.2, lambda_p = [1, 5], gamma = 0.1):\n",
    "\n",
    "    Xs = Xs.astype(int)\n",
    "    n = Xs.shape[1]\n",
    "    T = Xs.shape[0]\n",
    "\n",
    "    # Defining clique potentials\n",
    "\n",
    "    psi_L_i = np.array([[1- gamma, 0, gamma], [0, 1-gamma, gamma], [beta/2, beta/2, 1- beta]])             # (C_t, C_{t+1})\n",
    "    psi_L_1 = np.array([psi_L_i[0] * 0, psi_L_i[1] * 0, psi_L_i[2] * 1])                                         # (C_1,C_2)\n",
    "    psi_M = np.array([[alpha, 1-alpha], [1-alpha, alpha], [0.5,0.5]])                                      # (C_t, Z_{ti})\n",
    "    def psi_N(x):                                                                                          # (Z_{ti}, X_{ti})\n",
    "        def func(z):\n",
    "            return np.exp(-lambda_p[z]) * lambda_p[z] ** x / math.factorial(x)\n",
    "        return func\n",
    "    \n",
    "    # Forward pass messages\n",
    "    # Message from N_ti clique to M_ti clique\n",
    "\n",
    "    delta_Nti_Mti = np.empty(shape = (T,n,2))   # (t,i,Z_ti)\n",
    "    for t in range(T):\n",
    "        for i in range(n):\n",
    "            for z_val in [0,1]:\n",
    "                # The X's are fixed\n",
    "                delta_Nti_Mti[t,i,z_val] = psi_N(Xs[t,i])(z_val) \n",
    "            # Renormalizing in order to avoid underflow\n",
    "            delta_Nti_Mti[t, i, :] /= max(delta_Nti_Mti[t, i, :])\n",
    "\n",
    "    # Message from M_ti clique to L_t clique\n",
    "    \n",
    "    delta_Mti_Lt = np.empty(shape = (T,n,3)) #(t,i,C_t) \n",
    "    for t in range(T):\n",
    "        for i in range(n):\n",
    "            for c_val in range(3):\n",
    "                # Summing out Z_{ti}, leaving a factor of C_t\n",
    "                delta_Mti_Lt[t, i, c_val] = sum([psi_M[c_val,z] * delta_Nti_Mti[t,i,z] for z in [0, 1]])   \n",
    "            # Renormalizing\n",
    "            delta_Mti_Lt[t, i, :] /= max(delta_Mti_Lt[t, i, :])\n",
    "\n",
    "    # Message from L_t to L_{t+1} clique\n",
    "\n",
    "    #Initializing        \n",
    "    delta_L_forward = np.empty(shape = (T-2,3)) #(t,C_{t+1}) t=1,...,T-1\n",
    "\n",
    "    # Summing out C_{t}, leaving a factor of C_{t+1}\n",
    "    delta_L_forward[0,:] = [sum([psi_L_1[c_i,c_i_] * np.prod(delta_Mti_Lt[0,:,c_i], axis = 0) \n",
    "                                  for c_i in [0,1,2]]) for c_i_ in [0,1,2]]  \n",
    "\n",
    "    # Renormalizing\n",
    "    delta_L_forward[0,:] /= max(delta_L_forward[0,:])\n",
    "\n",
    "    for t in range(1,T-2):\n",
    "        for c_i_ in range(3):\n",
    "            # Summing out C_{t}, leaving a factor of C_{t+1}\n",
    "            delta_L_forward[t, c_i_] = sum([psi_L_i[c_i,c_i_] * np.prod(delta_Mti_Lt[t,:,c_i], axis = 0)\n",
    "                                             * delta_L_forward[t-1,c_i] for c_i in [0,1,2]])   \n",
    "        # Renormalizing\n",
    "        delta_L_forward[t,:] /= max(delta_L_forward[t,:])\n",
    "\n",
    "    # Clique Beliefs and Downward pass\n",
    "        \n",
    "    # Initializing beliefs of L cliques (t,C_t,C_{t+1})\n",
    "    beliefs_L_t = np.empty(shape = (T-1,3,3)) \n",
    "\n",
    "    # We loop through all $C_{T-1}$\n",
    "    for c_val in [0,1,2]:\n",
    "\n",
    "        # The clique potential\n",
    "        beliefs_L_t[T-2,c_val,:] = psi_L_i[c_val,:] * delta_L_forward[T-3,c_val] * np.prod(delta_Mti_Lt[T-2,:,:], axis = 0)[c_val] * np.prod(delta_Mti_Lt[T-1,:,:], axis = 0)\n",
    "\n",
    "    # Normalizing\n",
    "    beliefs_L_t[T-2,:,:] /= sum(sum(beliefs_L_t[T-2,:,:]))  \n",
    "\n",
    "    # Initializing messages t=1,...,T-1\n",
    "    delta_L_backward = np.empty(shape = (T-2,3))   #(t, C_{t}) \n",
    "\n",
    "    # Calculating messages and the beleifs for all L_t cliques except L_1\n",
    "    # Compute delta_L_{t+1} to L_t\n",
    "    for t in range(T-3,0,-1):                                                      \n",
    "        for c_val in range(3):     \n",
    "            # Summing out C_{t+1}                                               \n",
    "            delta_L_backward[t,c_val] =  sum([beliefs_L_t[t+1,c_val,c] / delta_L_forward[t,c_val] for c in [0,1,2]]) \n",
    "\n",
    "        # Renormalizing        \n",
    "        delta_L_backward[t,:] /= max(delta_L_backward[t,:])\n",
    "\n",
    "        for c_val in range(3):\n",
    "            # Calculating beliefs\n",
    "            beliefs_L_t[t, c_val,:] = psi_L_i[c_val,:] * np.prod(delta_Mti_Lt[t,:,:], axis = 0)[c_val] * delta_L_backward[t,:] * delta_L_forward[t-1,:]  \n",
    "\n",
    "        # Normalizing beliefs\n",
    "        beliefs_L_t[t,:,:] /= np.sum(np.sum(beliefs_L_t[t,:,:], axis = 1), axis = 0)\n",
    "\n",
    "    # Calculating messages and beleif of L_1\n",
    "    for c_val in range(3):     \n",
    "        # Summing out C_{t+1}                                                 \n",
    "        delta_L_backward[0,c_val] =  sum([beliefs_L_t[1,c_val,c] / delta_L_forward[0,c_val] for c in [0,1,2]]) \n",
    "    # Renormalizing        \n",
    "    delta_L_backward[0,:] /= max(delta_L_backward[0,:])    \n",
    "    for c_val in range(3):\n",
    "        # Calculating beliefs\n",
    "        beliefs_L_t[0, c_val,:] = psi_L_i[c_val,:] * np.prod(delta_Mti_Lt[0,:,:], axis = 0)[c_val] * delta_L_backward[0,:]\n",
    "\n",
    "    # Normalizing beliefs\n",
    "        beliefs_L_t[t,:,:] /= np.sum(np.sum(beliefs_L_t[t,:,:], axis = 1), axis = 0)\n",
    "\n",
    "    delta_Lt_Mti_list = np.empty(shape = (T,n,3)) #(t,n, C_t) t=1,...,T\n",
    "    for t in range(T-1):\n",
    "            for i in range(n):\n",
    "                for c_val in range(3):\n",
    "                    # Summing out C_{t+1}\n",
    "                    delta_Lt_Mti_list[t, i, c_val] = sum([beliefs_L_t[t, c_val, c_plus] / delta_Mti_Lt[t, i , c_val]  for c_plus in [0,1,2]])\n",
    "\n",
    "                # Renormalizing\n",
    "                delta_Lt_Mti_list[t,i,:] /= max(delta_Lt_Mti_list[t,i,:]) \n",
    "\n",
    "    # The last clique is special\n",
    "                \n",
    "    for i in range(n): \n",
    "        for c_plus in range(3):\n",
    "            # Summing out C_{T-1}\n",
    "            delta_Lt_Mti_list[T-1, i, c_plus] = sum([beliefs_L_t[T-2, c_val, c_plus] / delta_Mti_Lt[T-1 , i, c_plus] for c_val in [0,1,2]])\n",
    "            \n",
    "        # Renormalizing\n",
    "        delta_Lt_Mti_list[T-1,i,:] /= sum(delta_Lt_Mti_list[T-1,i,:]) \n",
    "\n",
    "    # Initializing beliefs (t,i,C_t,Z_{ti})\n",
    "    beliefs_Mti = np.empty(shape = (T,n,3,2)) # (t,i,C_t,Z_{ti})\n",
    "\n",
    "    for t in range(T):\n",
    "        for i in range(n):\n",
    "            for c_val in range(3):\n",
    "                beliefs_Mti[t,i,c_val,:] = [psi_M[c_val,z] * delta_Lt_Mti_list[t,i,c_val] * delta_Nti_Mti[t,i,z] for z in [0,1]]\n",
    "\n",
    "            # Normalizing\n",
    "            beliefs_Mti[t,i,:,:] /= sum(sum(beliefs_Mti[t,i,:,:]))         #(t,i,C_t,Z_{ti})\n",
    "    \n",
    "    return beliefs_L_t, beliefs_Mti"
   ]
  },
  {
   "cell_type": "markdown",
   "metadata": {},
   "source": [
    "Below two functions inferring $Z_{ti}$ and $C_t$ from the clique beliefs are defined:"
   ]
  },
  {
   "cell_type": "code",
   "execution_count": 181,
   "metadata": {},
   "outputs": [],
   "source": [
    "def p_z_t_i_cond_x(beliefs_M, t,i):\n",
    "    return np.sum(beliefs_M[t-1,i-1,:,:], axis = 0)\n",
    "\n",
    "def p_c_t_cond_x(beliefs_L,t):\n",
    "    if t == T:\n",
    "        return np.sum(beliefs_L[t-2,:,:], axis = 0)\n",
    "    return np.sum(beliefs_L[t-1,:,:], axis = 1)"
   ]
  },
  {
   "cell_type": "markdown",
   "metadata": {},
   "source": [
    "## Checks"
   ]
  },
  {
   "cell_type": "markdown",
   "metadata": {},
   "source": [
    "Creating data and infering clique beliefs"
   ]
  },
  {
   "cell_type": "code",
   "execution_count": 182,
   "metadata": {},
   "outputs": [],
   "source": [
    "np.random.seed(42)\n",
    "\n",
    "n=1\n",
    "T=4\n",
    "C, Z, X = sim(n,T)\n",
    "\n",
    "beliefs_C, beliefs_Z = Clique_Beliefs(X)"
   ]
  },
  {
   "cell_type": "code",
   "execution_count": 185,
   "metadata": {},
   "outputs": [
    {
     "name": "stdout",
     "output_type": "stream",
     "text": [
      "[0.01479089 0.565115   0.42009411]\n",
      "[0.02205204 0.4558984  0.52204956]\n",
      "[0.02205204 0.4558984  0.52204956]\n"
     ]
    }
   ],
   "source": [
    "# De skulle alle gerne give det samme\n",
    "print(np.sum(beliefs_C[2], axis = 0) ) #(C_3)\n",
    "print(np.sum(beliefs_C[1], axis = 1) ) #(C_3)\n",
    "print(np.sum(beliefs_Z[1,0], axis = 1) )#(C_3)"
   ]
  },
  {
   "cell_type": "markdown",
   "metadata": {},
   "source": [
    "Defining a MAP function"
   ]
  },
  {
   "cell_type": "code",
   "execution_count": 186,
   "metadata": {},
   "outputs": [],
   "source": [
    "def MAP(z_p):\n",
    "\n",
    "    # Initialize \n",
    "    z_inf = 0\n",
    " \n",
    "    # Traverse array elements from second\n",
    "    # and compare every element with\n",
    "    # current max\n",
    "    for i in range(1, len(z_p)):\n",
    "        if z_p[i] > z_p[z_inf]:\n",
    "            z_inf = i\n",
    "    return z_inf"
   ]
  },
  {
   "cell_type": "markdown",
   "metadata": {},
   "source": [
    "Examining how well the clique beliefs work at inference"
   ]
  },
  {
   "cell_type": "code",
   "execution_count": 187,
   "metadata": {},
   "outputs": [
    {
     "data": {
      "text/plain": [
       "0.5"
      ]
     },
     "execution_count": 187,
     "metadata": {},
     "output_type": "execute_result"
    }
   ],
   "source": [
    "np.mean([MAP(p_c_t_cond_x(beliefs_C,t+1)) == C[t] for t in range(T)])"
   ]
  },
  {
   "cell_type": "code",
   "execution_count": 188,
   "metadata": {},
   "outputs": [
    {
     "data": {
      "text/plain": [
       "0.75"
      ]
     },
     "execution_count": 188,
     "metadata": {},
     "output_type": "execute_result"
    }
   ],
   "source": [
    "np.mean([MAP(p_z_t_i_cond_x(beliefs_Z,t+1, i+1)) == Z[t][i] for t in range(T) for i in range(n)])"
   ]
  },
  {
   "cell_type": "markdown",
   "metadata": {},
   "source": [
    "For different parameter values:"
   ]
  },
  {
   "cell_type": "code",
   "execution_count": 11,
   "metadata": {},
   "outputs": [
    {
     "name": "stdout",
     "output_type": "stream",
     "text": [
      "0.91 0.938\n"
     ]
    }
   ],
   "source": [
    "np.random.seed(42)\n",
    "\n",
    "n=10\n",
    "T=100\n",
    "C, Z, X = sim(n,T, beta = 0.4)\n",
    "\n",
    "beliefs_C, beliefs_Z = Clique_Beliefs(X, beta = 0.4)\n",
    "\n",
    "# virker dårligt for lavt alpha...\n",
    "\n",
    "print(np.mean([MAP(p_c_t_cond_x(beliefs_C,t+1)) == C[t] for t in range(T)]), np.mean([MAP(p_z_t_i_cond_x(beliefs_Z,t+1, i+1)) == Z[t][i] for t in range(T) for i in range(n)]))"
   ]
  },
  {
   "cell_type": "markdown",
   "metadata": {},
   "source": [
    "## Logistic regression"
   ]
  },
  {
   "cell_type": "markdown",
   "metadata": {},
   "source": [
    "We can check by logistic regression:"
   ]
  },
  {
   "cell_type": "code",
   "execution_count": 12,
   "metadata": {},
   "outputs": [],
   "source": [
    "from sklearn.linear_model import LogisticRegression\n",
    "from sklearn.multioutput import MultiOutputClassifier\n",
    "lr_model = LogisticRegression(max_iter=10000)"
   ]
  },
  {
   "cell_type": "markdown",
   "metadata": {},
   "source": [
    "We first simulate data so that we can learn the logistic model"
   ]
  },
  {
   "cell_type": "code",
   "execution_count": 13,
   "metadata": {},
   "outputs": [],
   "source": [
    "n1 = 1000\n",
    "n2 = 10\n",
    "T = 100\n",
    "\n",
    "np.random.seed(42)\n",
    "\n",
    "C_train, Z_train, X_train = np.empty(shape=(n1,T)), np.empty(shape=(n1,T,n2)), np.empty(shape=(n1,T,n2))\n",
    "\n",
    "for i in range(n1):\n",
    "    C_train[i], Z_train[i], X_train[i] = sim(n2,T)"
   ]
  },
  {
   "cell_type": "code",
   "execution_count": 14,
   "metadata": {},
   "outputs": [],
   "source": [
    "# Function that returns probabilities of the Y -variables cond the Xs\n",
    "\n",
    "def logistic_reg_check(Y_train, X_train, Xs):\n",
    "    # Fit model\n",
    "    lr_model.fit(X_train, Y_train)\n",
    "    # Return predicted probabilities\n",
    "    return lr_model.predict_proba(Xs)"
   ]
  },
  {
   "cell_type": "code",
   "execution_count": 18,
   "metadata": {},
   "outputs": [
    {
     "data": {
      "text/plain": [
       "array([[2.95679417e-08, 9.44232351e-01, 5.57676195e-02]])"
      ]
     },
     "execution_count": 18,
     "metadata": {},
     "output_type": "execute_result"
    }
   ],
   "source": [
    "logistic_reg_check(C_train[:,67], X_train[:,:,:].reshape((n1, T*n2)), [X[:,:].reshape(n2*T)])"
   ]
  },
  {
   "cell_type": "code",
   "execution_count": 19,
   "metadata": {},
   "outputs": [
    {
     "data": {
      "text/plain": [
       "array([1.63348735e-10, 9.98190728e-01, 1.80927182e-03])"
      ]
     },
     "execution_count": 19,
     "metadata": {},
     "output_type": "execute_result"
    }
   ],
   "source": [
    "p_c_t_cond_x(beliefs_C, 67)                                                               "
   ]
  },
  {
   "cell_type": "markdown",
   "metadata": {},
   "source": [
    "Det ser meget rigtigt ud"
   ]
  },
  {
   "cell_type": "markdown",
   "metadata": {},
   "source": [
    "## Checking the mean of the random variable $1(Z_{ti} = z)-P(Z_{ti} = z | X = x)$"
   ]
  },
  {
   "cell_type": "markdown",
   "metadata": {},
   "source": [
    "Using simulations you can compute such quantities, with $P(Z_{t,i} = z | X =x)$ computed by the inference algorithm, and empirically\n",
    "check if their averages across many replications of the simulations are zero."
   ]
  },
  {
   "cell_type": "code",
   "execution_count": 20,
   "metadata": {},
   "outputs": [],
   "source": [
    "n1 = 1000\n",
    "n2 = 5\n",
    "T = 10\n",
    "\n",
    "np.random.seed(42)\n",
    "\n",
    "C_train, Z_train, X_train = np.empty(shape=(n1,T)), np.empty(shape=(n1,T,n2)), np.empty(shape=(n1,T,n2))\n",
    "\n",
    "for i in range(n1):\n",
    "    C_train[i], Z_train[i], X_train[i] = sim(n2,T)"
   ]
  },
  {
   "cell_type": "code",
   "execution_count": 21,
   "metadata": {},
   "outputs": [
    {
     "data": {
      "text/plain": [
       "0.009403459051696473"
      ]
     },
     "execution_count": 21,
     "metadata": {},
     "output_type": "execute_result"
    }
   ],
   "source": [
    "np.mean([(C_train[i,9] == 1) - p_c_t_cond_x(Clique_Beliefs(Xs = X_train[i,:,:])[0],10)[1] for i in range(n1)])"
   ]
  },
  {
   "cell_type": "code",
   "execution_count": 22,
   "metadata": {},
   "outputs": [
    {
     "data": {
      "text/plain": [
       "-0.02936820153712843"
      ]
     },
     "execution_count": 22,
     "metadata": {},
     "output_type": "execute_result"
    }
   ],
   "source": [
    "np.mean([(Z_train[i,5,4] == 1) - p_z_t_i_cond_x(Clique_Beliefs(Xs = X_train[i,:,:])[1],4,3)[1] for i in range(n1)])"
   ]
  },
  {
   "cell_type": "markdown",
   "metadata": {},
   "source": [
    "# Read in data og perform message passing   "
   ]
  },
  {
   "cell_type": "code",
   "execution_count": 47,
   "metadata": {},
   "outputs": [],
   "source": [
    "import pandas as pd\n",
    "Ex_1 = np.array(pd.read_csv(\"Ex_1.csv\"))\n",
    "Ex_2 = np.array(pd.read_csv(\"Ex_2.csv\"))\n",
    "Ex_3 = np.array(pd.read_csv(\"Ex_3.csv\"))\n",
    "Ex_4 = np.array(pd.read_csv(\"Ex_4.csv\"))\n",
    "Ex_5 = np.array(pd.read_csv(\"Ex_5.csv\"))\n",
    "Ex_6 = np.array(pd.read_csv(\"Ex_6.csv\"))\n",
    "Ex_7 = np.array(pd.read_csv(\"Ex_7.csv\"))\n",
    "Ex_8 = np.array(pd.read_csv(\"Ex_8.csv\"))\n",
    "Ex_9 = np.array(pd.read_csv(\"Ex_9.csv\"))\n",
    "Ex_10 =np.array(pd.read_csv(\"Ex_10.csv\"))"
   ]
  },
  {
   "cell_type": "code",
   "execution_count": 88,
   "metadata": {},
   "outputs": [],
   "source": [
    "beliefs_C, beliefs_Z = Clique_Beliefs(Ex_8)\n",
    "C_infer = [MAP(p_c_t_cond_x(beliefs_C,t+1)) for t in range(99)]\n",
    "Z_infer = [[MAP(p_z_t_i_cond_x(beliefs_Z,t+1, i+1)) for i in range(9)] for t in range(99)]"
   ]
  },
  {
   "cell_type": "markdown",
   "metadata": {},
   "source": [
    "Present the results"
   ]
  },
  {
   "cell_type": "code",
   "execution_count": 92,
   "metadata": {},
   "outputs": [
    {
     "data": {
      "image/png": "[encoded data removed]",
      "text/plain": [
       "<Figure size 640x480 with 1 Axes>"
      ]
     },
     "metadata": {},
     "output_type": "display_data"
    }
   ],
   "source": [
    "plt.plot(C_infer, label = \"C_t\") \n",
    "plt.plot([Z[i][5] for i in range(100)], label = \"Z_t4\")\n",
    "plt.legend() \n",
    "plt.show()"
   ]
  },
  {
   "cell_type": "markdown",
   "metadata": {},
   "source": [
    "# Learning"
   ]
  },
  {
   "cell_type": "markdown",
   "metadata": {},
   "source": [
    "Suppose first that all variables, C_1, . . . ,C_T , Z and X are observed. Implement learning of the parameters:"
   ]
  },
  {
   "cell_type": "code",
   "execution_count": 154,
   "metadata": {},
   "outputs": [],
   "source": [
    "n = 10\n",
    "T = 100\n",
    "C, Z, X = sim(n,T)"
   ]
  },
  {
   "cell_type": "code",
   "execution_count": 161,
   "metadata": {},
   "outputs": [],
   "source": [
    "def learn_par(C,Z,X, Print = False):\n",
    "    n = X.shape[1]\n",
    "    T = X.shape[0]\n",
    "\n",
    "    # Estimating lambda's\n",
    "    lambda1 = sum(sum((Z[t] * X[t,:] for t in range(T)))) / (sum(sum(Z)))\n",
    "    lambda0 = sum(sum(((np.ones(shape = n)-Z[t]) * X[t,:] for t in range(T)))) / (n*T - sum(sum(Z)))\n",
    "\n",
    "    # Indicator functions of C \n",
    "    C_0 = [C[t] == 0 for t in range(T)]\n",
    "    C_1 = [C[t] == 1 for t in range(T)]\n",
    "    C_2 = [C[t] == 2 for t in range(T)]\n",
    "\n",
    "    # Estimating alpha_hat\n",
    "    if (sum(C_1) > 0):\n",
    "        sum1 = sum(sum(Z[t][i] * C_1[t] for i in range(n)) for t in range(T)) / (2 * sum(C_1) * n)\n",
    "    else:\n",
    "        sum1 = 0\n",
    "    if (sum(C_0) > 0):\n",
    "        sum2 = sum(sum((1-Z[t][i]) * C_0[t] for i in range(n)) for t in range(T)) / (2 * sum(C_0) * n)\n",
    "    else:\n",
    "        sum2 = 0\n",
    "    alpha_hat = sum1 + sum2\n",
    "\n",
    "    # Estimating beta hat\n",
    "    beta_hat = sum((C_0[t+1] + C_1[t+1])*C_2[t] for t in range(T-1)) / (sum(C_2[0:T-1]))\n",
    "\n",
    "    # Estimating gamma hat\n",
    "    gamma_hat = sum((C_2[t+1])*(C_1[t]+C_0[t]) for t in range(T-1)) / (sum(C_1[0:T-1]+ C_0[0:T-1]))\n",
    "\n",
    "    if (Print == True):\n",
    "        print(\"lambda0_hat is: \", lambda0, \"\\nlambda1_hat is: \", lambda1, \"\\nalpha_hat is:\", alpha_hat, \"\\nbeta_hat is: \", beta_hat, \"\\ngamme_hat is: \", gamma_hat)\n",
    "    \n",
    "    return lambda0,lambda1, alpha_hat, beta_hat, gamma_hat"
   ]
  },
  {
   "cell_type": "code",
   "execution_count": 162,
   "metadata": {},
   "outputs": [
    {
     "name": "stdout",
     "output_type": "stream",
     "text": [
      "lambda0_hat is:  1.017001545595054 \n",
      "lambda1_hat is:  5.050991501416431 \n",
      "alpha_hat is: 0.9215447154471545 \n",
      "beta_hat is:  0.10909090909090909 \n",
      "gamme_hat is:  0.13636363636363635\n"
     ]
    },
    {
     "data": {
      "text/plain": [
       "(1.017001545595054,\n",
       " 5.050991501416431,\n",
       " 0.9215447154471545,\n",
       " 0.10909090909090909,\n",
       " 0.13636363636363635)"
      ]
     },
     "execution_count": 162,
     "metadata": {},
     "output_type": "execute_result"
    }
   ],
   "source": [
    "learn_par(C,Z,X, Print = True)"
   ]
  },
  {
   "cell_type": "markdown",
   "metadata": {},
   "source": [
    "## Test the implementation using simulated data"
   ]
  },
  {
   "cell_type": "code",
   "execution_count": 163,
   "metadata": {},
   "outputs": [],
   "source": [
    "n1 = 1000\n",
    "n2 = 10\n",
    "T = 100\n",
    "\n",
    "np.random.seed(42)\n",
    "\n",
    "C, Z, X = np.empty(shape=(n1,T)), np.empty(shape=(n1,T,n2)), np.empty(shape=(n1,T,n2))\n",
    "\n",
    "for i in range(n1):\n",
    "    C[i], Z[i], X[i] = sim(n2,T)"
   ]
  },
  {
   "cell_type": "code",
   "execution_count": 168,
   "metadata": {},
   "outputs": [],
   "source": [
    "par_estimates = np.empty(shape =(n1,5))\n",
    "\n",
    "for i in range(n1):\n",
    "    par_estimates[i,:] = learn_par(C[i,:],Z[i,:,:],X[i,:,:])"
   ]
  },
  {
   "cell_type": "code",
   "execution_count": 188,
   "metadata": {},
   "outputs": [],
   "source": [
    "names = [\"lambda0\", \"lambda1\", \"alpha\", \"beta\", \"gamma\"]\n",
    "true_vals = [lambda_p[0], lambda_p[1], alpha, beta, gamma]"
   ]
  },
  {
   "cell_type": "code",
   "execution_count": 191,
   "metadata": {},
   "outputs": [
    {
     "data": {
      "image/png": "[encoded data removed]",
      "text/plain": [
       "<Figure size 1500x500 with 5 Axes>"
      ]
     },
     "metadata": {},
     "output_type": "display_data"
    }
   ],
   "source": [
    "# Create subplots with 1 row and 5 columns\n",
    "fig, axes = plt.subplots(1, 5, figsize=(15, 5), sharey=True)\n",
    "\n",
    "# Iterate through each subplot\n",
    "for i, ax in enumerate(axes):\n",
    "    # Plot histogram\n",
    "    ax.hist(par_estimates[:,i], bins=20, alpha=0.7)\n",
    "    \n",
    "    # Calculate mean\n",
    "    mean_value = np.mean(par_estimates[:,i])\n",
    "    \n",
    "    # Add vertical line for the mean\n",
    "    ax.axvline(mean_value, color='red', linestyle='dashed', linewidth=1)\n",
    "\n",
    "    # Add vertical line for the mean\n",
    "    ax.axvline(mean_value, color='red', linestyle='dashed', linewidth=1)\n",
    "\n",
    "    # Add vertical line for true value\n",
    "    ax.axvline(true_vals[i], color='green', linestyle='dashed', linewidth=1)\n",
    "    \n",
    "    # Set title\n",
    "    ax.set_title(f'{names[i]} estimate\\nMean: {mean_value:.2f}\\nTrue value: {true_vals[i]:.2f}')\n",
    "    \n",
    "    # Set labels\n",
    "    ax.set_xlabel('Value')\n",
    "    ax.set_ylabel('Frequency')\n",
    "\n",
    "# Adjust layout\n",
    "plt.tight_layout()\n",
    "\n",
    "# Save plot\n",
    "plt.savefig('histograms_with_means.png')\n",
    "\n",
    "# Show plot\n",
    "plt.show()"
   ]
  },
  {
   "cell_type": "code",
   "execution_count": null,
   "metadata": {},
   "outputs": [],
   "source": []
  }
 ],
 "metadata": {
  "kernelspec": {
   "display_name": "Python 3",
   "language": "python",
   "name": "python3"
  },
  "language_info": {
   "codemirror_mode": {
    "name": "ipython",
    "version": 3
   },
   "file_extension": ".py",
   "mimetype": "text/x-python",
   "name": "python",
   "nbconvert_exporter": "python",
   "pygments_lexer": "ipython3",
   "version": "3.11.1"
  }
 },
 "nbformat": 4,
 "nbformat_minor": 2
}
