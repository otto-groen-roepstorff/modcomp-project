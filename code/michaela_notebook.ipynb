{
 "cells": [
  {
   "cell_type": "code",
   "execution_count": 1,
   "metadata": {},
   "outputs": [],
   "source": [
    "import numpy as np\n",
    "from scipy.stats import poisson"
   ]
  },
  {
   "cell_type": "markdown",
   "metadata": {},
   "source": [
    "Parameters:"
   ]
  },
  {
   "cell_type": "code",
   "execution_count": 2,
   "metadata": {},
   "outputs": [],
   "source": [
    "alpha = 0.9\n",
    "beta = 0.2\n",
    "lambda_p = [1,5]\n",
    "gamma = 0.1"
   ]
  },
  {
   "cell_type": "markdown",
   "metadata": {},
   "source": [
    "Big gamma matrix:"
   ]
  },
  {
   "cell_type": "code",
   "execution_count": 3,
   "metadata": {},
   "outputs": [
    {
     "data": {
      "text/plain": [
       "array([[0.9, 0. , 0.1],\n",
       "       [0. , 0.9, 0.1],\n",
       "       [0.1, 0.1, 0.8]])"
      ]
     },
     "execution_count": 3,
     "metadata": {},
     "output_type": "execute_result"
    }
   ],
   "source": [
    "big_gamma = np.array([[1- gamma, 0, gamma], [0, 1-gamma, gamma], [beta/2, beta/2, 1- beta]])\n",
    "big_gamma"
   ]
  },
  {
   "cell_type": "markdown",
   "metadata": {},
   "source": [
    "Simulation function"
   ]
  },
  {
   "cell_type": "code",
   "execution_count": 4,
   "metadata": {},
   "outputs": [],
   "source": [
    "def sim(n,T):\n",
    "    C = [None]*T\n",
    "    C[0] = 2\n",
    "    C_trans = {(1,0,0): 0, (0,1,0): 1, (0,0,1): 2} \n",
    "\n",
    "    for i in range(1,T):\n",
    "        draw = np.random.multinomial(1, big_gamma[C[i-1], :], 1)\n",
    "        C[i] = C_trans[tuple(draw[0])]\n",
    "\n",
    "    Z = np.empty([n, T])\n",
    "\n",
    "    probs = {0: 1-alpha, 1: alpha, 2: 0.5}\n",
    "\n",
    "    for i in range(n):\n",
    "        for j in range(T):\n",
    "            Z[i,j] = np.random.binomial(1, probs[C[j]])\n",
    "\n",
    "    X = np.empty([n, T])\n",
    "\n",
    "    for i in range(n):\n",
    "        for j in range(T):\n",
    "            X[i,j] = poisson.rvs(lambda_p[int(Z[i,j])])\n",
    "\n",
    "    return C,Z,X"
   ]
  },
  {
   "cell_type": "code",
   "execution_count": 5,
   "metadata": {},
   "outputs": [],
   "source": [
    "C, Z, X = sim(10,100)"
   ]
  },
  {
   "cell_type": "code",
   "execution_count": null,
   "metadata": {},
   "outputs": [],
   "source": []
  }
 ],
 "metadata": {
  "kernelspec": {
   "display_name": "Python 3",
   "language": "python",
   "name": "python3"
  },
  "language_info": {
   "codemirror_mode": {
    "name": "ipython",
    "version": 3
   },
   "file_extension": ".py",
   "mimetype": "text/x-python",
   "name": "python",
   "nbconvert_exporter": "python",
   "pygments_lexer": "ipython3",
   "version": "3.11.1"
  }
 },
 "nbformat": 4,
 "nbformat_minor": 2
}
