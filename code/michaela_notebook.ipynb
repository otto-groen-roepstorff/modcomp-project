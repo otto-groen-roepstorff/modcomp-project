{
 "cells": [
  {
   "cell_type": "code",
   "execution_count": 189,
   "metadata": {},
   "outputs": [],
   "source": [
    "import numpy as np\n",
    "import math\n",
    "#from scipy.stats import poisson\n",
    "#import matplotlib.pyplot as plt"
   ]
  },
  {
   "cell_type": "code",
   "execution_count": 190,
   "metadata": {},
   "outputs": [],
   "source": [
    "#import seaborn as sns\n",
    "#sns.set(style=\"whitegrid\")"
   ]
  },
  {
   "cell_type": "markdown",
   "metadata": {},
   "source": [
    "## Forward Simulation"
   ]
  },
  {
   "cell_type": "markdown",
   "metadata": {},
   "source": [
    "Parameters:"
   ]
  },
  {
   "cell_type": "code",
   "execution_count": 191,
   "metadata": {},
   "outputs": [],
   "source": [
    "alpha = 0.9\n",
    "beta = 0.2\n",
    "lambda_p = [1,5]\n",
    "gamma = 0.1"
   ]
  },
  {
   "cell_type": "markdown",
   "metadata": {},
   "source": [
    "Big gamma matrix:"
   ]
  },
  {
   "cell_type": "code",
   "execution_count": 192,
   "metadata": {},
   "outputs": [],
   "source": [
    "big_gamma = np.array([\n",
    "    [1- gamma, 0, gamma], \n",
    "    [0, 1-gamma, gamma], \n",
    "    [beta/2, beta/2, 1- beta]\n",
    "    ])"
   ]
  },
  {
   "cell_type": "markdown",
   "metadata": {},
   "source": [
    "Simulation function"
   ]
  },
  {
   "cell_type": "code",
   "execution_count": 193,
   "metadata": {},
   "outputs": [],
   "source": [
    "def sim(n,T):\n",
    "    C = [None]*T\n",
    "    C[0] = 2\n",
    "    C_trans = {(1,0,0): 0, (0,1,0): 1, (0,0,1): 2} \n",
    "\n",
    "    for i in range(1,T):\n",
    "        draw = np.random.multinomial(1, big_gamma[C[i-1], :], 1)\n",
    "        C[i] = C_trans[tuple(draw[0])]\n",
    "\n",
    "    Z = np.empty([n, T])\n",
    "\n",
    "    probs = {0: 1-alpha, 1: alpha, 2: 0.5}\n",
    "    \n",
    "    Zs = [np.random.binomial(1, p = probs[c], size = n) for c in C]\n",
    "    Z_flat = np.array(Zs).flat\n",
    "\n",
    "    Xs = np.reshape([np.random.poisson(1+4*z) for z in Z_flat], newshape=(T, n))\n",
    "\n",
    "    return [C, Zs, Xs]\n"
   ]
  },
  {
   "cell_type": "markdown",
   "metadata": {},
   "source": [
    "## Visualizing"
   ]
  },
  {
   "cell_type": "code",
   "execution_count": 6,
   "metadata": {},
   "outputs": [],
   "source": [
    "C, Z, X = sim(10,100)"
   ]
  },
  {
   "cell_type": "code",
   "execution_count": 7,
   "metadata": {},
   "outputs": [
    {
     "data": {
      "text/plain": [
       "['blue',\n",
       " 'blue',\n",
       " 'blue',\n",
       " 'blue',\n",
       " 'blue',\n",
       " 'blue',\n",
       " 'blue',\n",
       " 'blue',\n",
       " 'blue',\n",
       " 'blue',\n",
       " 'blue',\n",
       " 'blue',\n",
       " 'blue',\n",
       " 'red',\n",
       " 'red',\n",
       " 'red',\n",
       " 'red',\n",
       " 'red',\n",
       " 'red',\n",
       " 'blue',\n",
       " 'blue',\n",
       " 'blue',\n",
       " 'blue',\n",
       " 'green',\n",
       " 'green',\n",
       " 'green',\n",
       " 'green',\n",
       " 'green',\n",
       " 'green',\n",
       " 'green',\n",
       " 'green',\n",
       " 'green',\n",
       " 'green',\n",
       " 'blue',\n",
       " 'green',\n",
       " 'blue',\n",
       " 'blue',\n",
       " 'blue',\n",
       " 'blue',\n",
       " 'blue',\n",
       " 'blue',\n",
       " 'blue',\n",
       " 'blue',\n",
       " 'blue',\n",
       " 'green',\n",
       " 'green',\n",
       " 'green',\n",
       " 'green',\n",
       " 'green',\n",
       " 'green',\n",
       " 'green',\n",
       " 'green',\n",
       " 'green',\n",
       " 'green',\n",
       " 'green',\n",
       " 'green',\n",
       " 'green',\n",
       " 'green',\n",
       " 'green',\n",
       " 'green',\n",
       " 'green',\n",
       " 'green',\n",
       " 'green',\n",
       " 'green',\n",
       " 'green',\n",
       " 'green',\n",
       " 'blue',\n",
       " 'blue',\n",
       " 'blue',\n",
       " 'blue',\n",
       " 'green',\n",
       " 'green',\n",
       " 'green',\n",
       " 'green',\n",
       " 'green',\n",
       " 'green',\n",
       " 'blue',\n",
       " 'blue',\n",
       " 'blue',\n",
       " 'blue',\n",
       " 'green',\n",
       " 'green',\n",
       " 'blue',\n",
       " 'blue',\n",
       " 'green',\n",
       " 'green',\n",
       " 'green',\n",
       " 'green',\n",
       " 'green',\n",
       " 'blue',\n",
       " 'blue',\n",
       " 'blue',\n",
       " 'blue',\n",
       " 'blue',\n",
       " 'blue',\n",
       " 'blue',\n",
       " 'red',\n",
       " 'red',\n",
       " 'red',\n",
       " 'red']"
      ]
     },
     "execution_count": 7,
     "metadata": {},
     "output_type": "execute_result"
    }
   ],
   "source": [
    "color = {0:'red', 1:'green', 2: 'blue'}\n",
    "C_color = [color[c] for c in C]\n",
    "C_color"
   ]
  },
  {
   "cell_type": "code",
   "execution_count": 8,
   "metadata": {},
   "outputs": [
    {
     "data": {
      "image/png": "[encoded data removed]",
      "text/plain": [
       "<Figure size 650x800 with 10 Axes>"
      ]
     },
     "metadata": {},
     "output_type": "display_data"
    }
   ],
   "source": [
    "fig, axs = plt.subplots(10, 1, figsize= (6.5, 8))\n",
    "x_plot = list(range(1,100+1))\n",
    "\n",
    "for i in range(10):\n",
    "    y_plot = X[:, i] \n",
    "    axs[i].plot(x_plot, y_plot, marker='o', markersize=3, color='blue')\n",
    "    y_plot_z = [Z[0][i]*10]\n",
    "    for j in range(1,100):\n",
    "        y_plot_z.append(Z[j][i]*10)\n",
    "    axs[i].plot(x_plot, y_plot_z, marker='o', markersize=1, color = 'green')\n",
    "    #axs[i].text(1.05, 0.5, f'{i + 1}', fontsize=12, rotation=270)\n",
    "\n",
    "fig.suptitle('Generated Data', fontsize=16)\n",
    "fig.supxlabel('t')\n",
    "fig.supylabel('X_t')\n",
    "\n",
    "plt.tight_layout()\n",
    "plt.show()\n"
   ]
  },
  {
   "cell_type": "code",
   "execution_count": 9,
   "metadata": {},
   "outputs": [],
   "source": [
    "X_avg = [None]*100\n",
    "\n",
    "for i in range(100):\n",
    "    X_avg[i] = np.mean(X[i,:])"
   ]
  },
  {
   "cell_type": "code",
   "execution_count": 10,
   "metadata": {},
   "outputs": [
    {
     "data": {
      "text/plain": [
       "Text(0.5, 1.0, 'Average')"
      ]
     },
     "execution_count": 10,
     "metadata": {},
     "output_type": "execute_result"
    },
    {
     "data": {
      "image/png": "[encoded data removed]",
      "text/plain": [
       "<Figure size 640x480 with 1 Axes>"
      ]
     },
     "metadata": {},
     "output_type": "display_data"
    }
   ],
   "source": [
    "plt.plot(x_plot, X_avg, marker='o', markersize=3, color='black')\n",
    "plt.title('Average')"
   ]
  },
  {
   "cell_type": "markdown",
   "metadata": {},
   "source": [
    "## Multinomial logistic regression"
   ]
  },
  {
   "cell_type": "code",
   "execution_count": 11,
   "metadata": {},
   "outputs": [],
   "source": [
    "from sklearn.linear_model import LogisticRegression\n",
    "from sklearn.multioutput import MultiOutputClassifier"
   ]
  },
  {
   "cell_type": "markdown",
   "metadata": {},
   "source": [
    "Simulate lots of data"
   ]
  },
  {
   "cell_type": "code",
   "execution_count": 92,
   "metadata": {},
   "outputs": [],
   "source": [
    "n1 = 1000\n",
    "n2 = 10\n",
    "T = 100\n",
    "\n",
    "np.random.seed(42)\n",
    "\n",
    "C, Z, X = np.empty(shape=(n1,T)), np.empty(shape=(n1,T,n2)), np.empty(shape=(n1,T,n2))\n",
    "\n",
    "for i in range(n1):\n",
    "    C[i], Z[i], X[i] = sim(n2,T)\n"
   ]
  },
  {
   "cell_type": "code",
   "execution_count": 13,
   "metadata": {},
   "outputs": [
    {
     "data": {
      "text/html": [
       "<style>#sk-container-id-1 {\n",
       "  /* Definition of color scheme common for light and dark mode */\n",
       "  --sklearn-color-text: black;\n",
       "  --sklearn-color-line: gray;\n",
       "  /* Definition of color scheme for unfitted estimators */\n",
       "  --sklearn-color-unfitted-level-0: #fff5e6;\n",
       "  --sklearn-color-unfitted-level-1: #f6e4d2;\n",
       "  --sklearn-color-unfitted-level-2: #ffe0b3;\n",
       "  --sklearn-color-unfitted-level-3: chocolate;\n",
       "  /* Definition of color scheme for fitted estimators */\n",
       "  --sklearn-color-fitted-level-0: #f0f8ff;\n",
       "  --sklearn-color-fitted-level-1: #d4ebff;\n",
       "  --sklearn-color-fitted-level-2: #b3dbfd;\n",
       "  --sklearn-color-fitted-level-3: cornflowerblue;\n",
       "\n",
       "  /* Specific color for light theme */\n",
       "  --sklearn-color-text-on-default-background: var(--sg-text-color, var(--theme-code-foreground, var(--jp-content-font-color1, black)));\n",
       "  --sklearn-color-background: var(--sg-background-color, var(--theme-background, var(--jp-layout-color0, white)));\n",
       "  --sklearn-color-border-box: var(--sg-text-color, var(--theme-code-foreground, var(--jp-content-font-color1, black)));\n",
       "  --sklearn-color-icon: #696969;\n",
       "\n",
       "  @media (prefers-color-scheme: dark) {\n",
       "    /* Redefinition of color scheme for dark theme */\n",
       "    --sklearn-color-text-on-default-background: var(--sg-text-color, var(--theme-code-foreground, var(--jp-content-font-color1, white)));\n",
       "    --sklearn-color-background: var(--sg-background-color, var(--theme-background, var(--jp-layout-color0, #111)));\n",
       "    --sklearn-color-border-box: var(--sg-text-color, var(--theme-code-foreground, var(--jp-content-font-color1, white)));\n",
       "    --sklearn-color-icon: #878787;\n",
       "  }\n",
       "}\n",
       "\n",
       "#sk-container-id-1 {\n",
       "  color: var(--sklearn-color-text);\n",
       "}\n",
       "\n",
       "#sk-container-id-1 pre {\n",
       "  padding: 0;\n",
       "}\n",
       "\n",
       "#sk-container-id-1 input.sk-hidden--visually {\n",
       "  border: 0;\n",
       "  clip: rect(1px 1px 1px 1px);\n",
       "  clip: rect(1px, 1px, 1px, 1px);\n",
       "  height: 1px;\n",
       "  margin: -1px;\n",
       "  overflow: hidden;\n",
       "  padding: 0;\n",
       "  position: absolute;\n",
       "  width: 1px;\n",
       "}\n",
       "\n",
       "#sk-container-id-1 div.sk-dashed-wrapped {\n",
       "  border: 1px dashed var(--sklearn-color-line);\n",
       "  margin: 0 0.4em 0.5em 0.4em;\n",
       "  box-sizing: border-box;\n",
       "  padding-bottom: 0.4em;\n",
       "  background-color: var(--sklearn-color-background);\n",
       "}\n",
       "\n",
       "#sk-container-id-1 div.sk-container {\n",
       "  /* jupyter's `normalize.less` sets `[hidden] { display: none; }`\n",
       "     but bootstrap.min.css set `[hidden] { display: none !important; }`\n",
       "     so we also need the `!important` here to be able to override the\n",
       "     default hidden behavior on the sphinx rendered scikit-learn.org.\n",
       "     See: https://github.com/scikit-learn/scikit-learn/issues/21755 */\n",
       "  display: inline-block !important;\n",
       "  position: relative;\n",
       "}\n",
       "\n",
       "#sk-container-id-1 div.sk-text-repr-fallback {\n",
       "  display: none;\n",
       "}\n",
       "\n",
       "div.sk-parallel-item,\n",
       "div.sk-serial,\n",
       "div.sk-item {\n",
       "  /* draw centered vertical line to link estimators */\n",
       "  background-image: linear-gradient(var(--sklearn-color-text-on-default-background), var(--sklearn-color-text-on-default-background));\n",
       "  background-size: 2px 100%;\n",
       "  background-repeat: no-repeat;\n",
       "  background-position: center center;\n",
       "}\n",
       "\n",
       "/* Parallel-specific style estimator block */\n",
       "\n",
       "#sk-container-id-1 div.sk-parallel-item::after {\n",
       "  content: \"\";\n",
       "  width: 100%;\n",
       "  border-bottom: 2px solid var(--sklearn-color-text-on-default-background);\n",
       "  flex-grow: 1;\n",
       "}\n",
       "\n",
       "#sk-container-id-1 div.sk-parallel {\n",
       "  display: flex;\n",
       "  align-items: stretch;\n",
       "  justify-content: center;\n",
       "  background-color: var(--sklearn-color-background);\n",
       "  position: relative;\n",
       "}\n",
       "\n",
       "#sk-container-id-1 div.sk-parallel-item {\n",
       "  display: flex;\n",
       "  flex-direction: column;\n",
       "}\n",
       "\n",
       "#sk-container-id-1 div.sk-parallel-item:first-child::after {\n",
       "  align-self: flex-end;\n",
       "  width: 50%;\n",
       "}\n",
       "\n",
       "#sk-container-id-1 div.sk-parallel-item:last-child::after {\n",
       "  align-self: flex-start;\n",
       "  width: 50%;\n",
       "}\n",
       "\n",
       "#sk-container-id-1 div.sk-parallel-item:only-child::after {\n",
       "  width: 0;\n",
       "}\n",
       "\n",
       "/* Serial-specific style estimator block */\n",
       "\n",
       "#sk-container-id-1 div.sk-serial {\n",
       "  display: flex;\n",
       "  flex-direction: column;\n",
       "  align-items: center;\n",
       "  background-color: var(--sklearn-color-background);\n",
       "  padding-right: 1em;\n",
       "  padding-left: 1em;\n",
       "}\n",
       "\n",
       "\n",
       "/* Toggleable style: style used for estimator/Pipeline/ColumnTransformer box that is\n",
       "clickable and can be expanded/collapsed.\n",
       "- Pipeline and ColumnTransformer use this feature and define the default style\n",
       "- Estimators will overwrite some part of the style using the `sk-estimator` class\n",
       "*/\n",
       "\n",
       "/* Pipeline and ColumnTransformer style (default) */\n",
       "\n",
       "#sk-container-id-1 div.sk-toggleable {\n",
       "  /* Default theme specific background. It is overwritten whether we have a\n",
       "  specific estimator or a Pipeline/ColumnTransformer */\n",
       "  background-color: var(--sklearn-color-background);\n",
       "}\n",
       "\n",
       "/* Toggleable label */\n",
       "#sk-container-id-1 label.sk-toggleable__label {\n",
       "  cursor: pointer;\n",
       "  display: block;\n",
       "  width: 100%;\n",
       "  margin-bottom: 0;\n",
       "  padding: 0.5em;\n",
       "  box-sizing: border-box;\n",
       "  text-align: center;\n",
       "}\n",
       "\n",
       "#sk-container-id-1 label.sk-toggleable__label-arrow:before {\n",
       "  /* Arrow on the left of the label */\n",
       "  content: \"▸\";\n",
       "  float: left;\n",
       "  margin-right: 0.25em;\n",
       "  color: var(--sklearn-color-icon);\n",
       "}\n",
       "\n",
       "#sk-container-id-1 label.sk-toggleable__label-arrow:hover:before {\n",
       "  color: var(--sklearn-color-text);\n",
       "}\n",
       "\n",
       "/* Toggleable content - dropdown */\n",
       "\n",
       "#sk-container-id-1 div.sk-toggleable__content {\n",
       "  max-height: 0;\n",
       "  max-width: 0;\n",
       "  overflow: hidden;\n",
       "  text-align: left;\n",
       "  /* unfitted */\n",
       "  background-color: var(--sklearn-color-unfitted-level-0);\n",
       "}\n",
       "\n",
       "#sk-container-id-1 div.sk-toggleable__content.fitted {\n",
       "  /* fitted */\n",
       "  background-color: var(--sklearn-color-fitted-level-0);\n",
       "}\n",
       "\n",
       "#sk-container-id-1 div.sk-toggleable__content pre {\n",
       "  margin: 0.2em;\n",
       "  border-radius: 0.25em;\n",
       "  color: var(--sklearn-color-text);\n",
       "  /* unfitted */\n",
       "  background-color: var(--sklearn-color-unfitted-level-0);\n",
       "}\n",
       "\n",
       "#sk-container-id-1 div.sk-toggleable__content.fitted pre {\n",
       "  /* unfitted */\n",
       "  background-color: var(--sklearn-color-fitted-level-0);\n",
       "}\n",
       "\n",
       "#sk-container-id-1 input.sk-toggleable__control:checked~div.sk-toggleable__content {\n",
       "  /* Expand drop-down */\n",
       "  max-height: 200px;\n",
       "  max-width: 100%;\n",
       "  overflow: auto;\n",
       "}\n",
       "\n",
       "#sk-container-id-1 input.sk-toggleable__control:checked~label.sk-toggleable__label-arrow:before {\n",
       "  content: \"▾\";\n",
       "}\n",
       "\n",
       "/* Pipeline/ColumnTransformer-specific style */\n",
       "\n",
       "#sk-container-id-1 div.sk-label input.sk-toggleable__control:checked~label.sk-toggleable__label {\n",
       "  color: var(--sklearn-color-text);\n",
       "  background-color: var(--sklearn-color-unfitted-level-2);\n",
       "}\n",
       "\n",
       "#sk-container-id-1 div.sk-label.fitted input.sk-toggleable__control:checked~label.sk-toggleable__label {\n",
       "  background-color: var(--sklearn-color-fitted-level-2);\n",
       "}\n",
       "\n",
       "/* Estimator-specific style */\n",
       "\n",
       "/* Colorize estimator box */\n",
       "#sk-container-id-1 div.sk-estimator input.sk-toggleable__control:checked~label.sk-toggleable__label {\n",
       "  /* unfitted */\n",
       "  background-color: var(--sklearn-color-unfitted-level-2);\n",
       "}\n",
       "\n",
       "#sk-container-id-1 div.sk-estimator.fitted input.sk-toggleable__control:checked~label.sk-toggleable__label {\n",
       "  /* fitted */\n",
       "  background-color: var(--sklearn-color-fitted-level-2);\n",
       "}\n",
       "\n",
       "#sk-container-id-1 div.sk-label label.sk-toggleable__label,\n",
       "#sk-container-id-1 div.sk-label label {\n",
       "  /* The background is the default theme color */\n",
       "  color: var(--sklearn-color-text-on-default-background);\n",
       "}\n",
       "\n",
       "/* On hover, darken the color of the background */\n",
       "#sk-container-id-1 div.sk-label:hover label.sk-toggleable__label {\n",
       "  color: var(--sklearn-color-text);\n",
       "  background-color: var(--sklearn-color-unfitted-level-2);\n",
       "}\n",
       "\n",
       "/* Label box, darken color on hover, fitted */\n",
       "#sk-container-id-1 div.sk-label.fitted:hover label.sk-toggleable__label.fitted {\n",
       "  color: var(--sklearn-color-text);\n",
       "  background-color: var(--sklearn-color-fitted-level-2);\n",
       "}\n",
       "\n",
       "/* Estimator label */\n",
       "\n",
       "#sk-container-id-1 div.sk-label label {\n",
       "  font-family: monospace;\n",
       "  font-weight: bold;\n",
       "  display: inline-block;\n",
       "  line-height: 1.2em;\n",
       "}\n",
       "\n",
       "#sk-container-id-1 div.sk-label-container {\n",
       "  text-align: center;\n",
       "}\n",
       "\n",
       "/* Estimator-specific */\n",
       "#sk-container-id-1 div.sk-estimator {\n",
       "  font-family: monospace;\n",
       "  border: 1px dotted var(--sklearn-color-border-box);\n",
       "  border-radius: 0.25em;\n",
       "  box-sizing: border-box;\n",
       "  margin-bottom: 0.5em;\n",
       "  /* unfitted */\n",
       "  background-color: var(--sklearn-color-unfitted-level-0);\n",
       "}\n",
       "\n",
       "#sk-container-id-1 div.sk-estimator.fitted {\n",
       "  /* fitted */\n",
       "  background-color: var(--sklearn-color-fitted-level-0);\n",
       "}\n",
       "\n",
       "/* on hover */\n",
       "#sk-container-id-1 div.sk-estimator:hover {\n",
       "  /* unfitted */\n",
       "  background-color: var(--sklearn-color-unfitted-level-2);\n",
       "}\n",
       "\n",
       "#sk-container-id-1 div.sk-estimator.fitted:hover {\n",
       "  /* fitted */\n",
       "  background-color: var(--sklearn-color-fitted-level-2);\n",
       "}\n",
       "\n",
       "/* Specification for estimator info (e.g. \"i\" and \"?\") */\n",
       "\n",
       "/* Common style for \"i\" and \"?\" */\n",
       "\n",
       ".sk-estimator-doc-link,\n",
       "a:link.sk-estimator-doc-link,\n",
       "a:visited.sk-estimator-doc-link {\n",
       "  float: right;\n",
       "  font-size: smaller;\n",
       "  line-height: 1em;\n",
       "  font-family: monospace;\n",
       "  background-color: var(--sklearn-color-background);\n",
       "  border-radius: 1em;\n",
       "  height: 1em;\n",
       "  width: 1em;\n",
       "  text-decoration: none !important;\n",
       "  margin-left: 1ex;\n",
       "  /* unfitted */\n",
       "  border: var(--sklearn-color-unfitted-level-1) 1pt solid;\n",
       "  color: var(--sklearn-color-unfitted-level-1);\n",
       "}\n",
       "\n",
       ".sk-estimator-doc-link.fitted,\n",
       "a:link.sk-estimator-doc-link.fitted,\n",
       "a:visited.sk-estimator-doc-link.fitted {\n",
       "  /* fitted */\n",
       "  border: var(--sklearn-color-fitted-level-1) 1pt solid;\n",
       "  color: var(--sklearn-color-fitted-level-1);\n",
       "}\n",
       "\n",
       "/* On hover */\n",
       "div.sk-estimator:hover .sk-estimator-doc-link:hover,\n",
       ".sk-estimator-doc-link:hover,\n",
       "div.sk-label-container:hover .sk-estimator-doc-link:hover,\n",
       ".sk-estimator-doc-link:hover {\n",
       "  /* unfitted */\n",
       "  background-color: var(--sklearn-color-unfitted-level-3);\n",
       "  color: var(--sklearn-color-background);\n",
       "  text-decoration: none;\n",
       "}\n",
       "\n",
       "div.sk-estimator.fitted:hover .sk-estimator-doc-link.fitted:hover,\n",
       ".sk-estimator-doc-link.fitted:hover,\n",
       "div.sk-label-container:hover .sk-estimator-doc-link.fitted:hover,\n",
       ".sk-estimator-doc-link.fitted:hover {\n",
       "  /* fitted */\n",
       "  background-color: var(--sklearn-color-fitted-level-3);\n",
       "  color: var(--sklearn-color-background);\n",
       "  text-decoration: none;\n",
       "}\n",
       "\n",
       "/* Span, style for the box shown on hovering the info icon */\n",
       ".sk-estimator-doc-link span {\n",
       "  display: none;\n",
       "  z-index: 9999;\n",
       "  position: relative;\n",
       "  font-weight: normal;\n",
       "  right: .2ex;\n",
       "  padding: .5ex;\n",
       "  margin: .5ex;\n",
       "  width: min-content;\n",
       "  min-width: 20ex;\n",
       "  max-width: 50ex;\n",
       "  color: var(--sklearn-color-text);\n",
       "  box-shadow: 2pt 2pt 4pt #999;\n",
       "  /* unfitted */\n",
       "  background: var(--sklearn-color-unfitted-level-0);\n",
       "  border: .5pt solid var(--sklearn-color-unfitted-level-3);\n",
       "}\n",
       "\n",
       ".sk-estimator-doc-link.fitted span {\n",
       "  /* fitted */\n",
       "  background: var(--sklearn-color-fitted-level-0);\n",
       "  border: var(--sklearn-color-fitted-level-3);\n",
       "}\n",
       "\n",
       ".sk-estimator-doc-link:hover span {\n",
       "  display: block;\n",
       "}\n",
       "\n",
       "/* \"?\"-specific style due to the `<a>` HTML tag */\n",
       "\n",
       "#sk-container-id-1 a.estimator_doc_link {\n",
       "  float: right;\n",
       "  font-size: 1rem;\n",
       "  line-height: 1em;\n",
       "  font-family: monospace;\n",
       "  background-color: var(--sklearn-color-background);\n",
       "  border-radius: 1rem;\n",
       "  height: 1rem;\n",
       "  width: 1rem;\n",
       "  text-decoration: none;\n",
       "  /* unfitted */\n",
       "  color: var(--sklearn-color-unfitted-level-1);\n",
       "  border: var(--sklearn-color-unfitted-level-1) 1pt solid;\n",
       "}\n",
       "\n",
       "#sk-container-id-1 a.estimator_doc_link.fitted {\n",
       "  /* fitted */\n",
       "  border: var(--sklearn-color-fitted-level-1) 1pt solid;\n",
       "  color: var(--sklearn-color-fitted-level-1);\n",
       "}\n",
       "\n",
       "/* On hover */\n",
       "#sk-container-id-1 a.estimator_doc_link:hover {\n",
       "  /* unfitted */\n",
       "  background-color: var(--sklearn-color-unfitted-level-3);\n",
       "  color: var(--sklearn-color-background);\n",
       "  text-decoration: none;\n",
       "}\n",
       "\n",
       "#sk-container-id-1 a.estimator_doc_link.fitted:hover {\n",
       "  /* fitted */\n",
       "  background-color: var(--sklearn-color-fitted-level-3);\n",
       "}\n",
       "</style><div id=\"sk-container-id-1\" class=\"sk-top-container\"><div class=\"sk-text-repr-fallback\"><pre>LogisticRegression(max_iter=5000)</pre><b>In a Jupyter environment, please rerun this cell to show the HTML representation or trust the notebook. <br />On GitHub, the HTML representation is unable to render, please try loading this page with nbviewer.org.</b></div><div class=\"sk-container\" hidden><div class=\"sk-item\"><div class=\"sk-estimator fitted sk-toggleable\"><input class=\"sk-toggleable__control sk-hidden--visually\" id=\"sk-estimator-id-1\" type=\"checkbox\" checked><label for=\"sk-estimator-id-1\" class=\"sk-toggleable__label fitted sk-toggleable__label-arrow fitted\">&nbsp;&nbsp;LogisticRegression<a class=\"sk-estimator-doc-link fitted\" rel=\"noreferrer\" target=\"_blank\" href=\"https://scikit-learn.org/1.4/modules/generated/sklearn.linear_model.LogisticRegression.html\">?<span>Documentation for LogisticRegression</span></a><span class=\"sk-estimator-doc-link fitted\">i<span>Fitted</span></span></label><div class=\"sk-toggleable__content fitted\"><pre>LogisticRegression(max_iter=5000)</pre></div> </div></div></div></div>"
      ],
      "text/plain": [
       "LogisticRegression(max_iter=5000)"
      ]
     },
     "execution_count": 13,
     "metadata": {},
     "output_type": "execute_result"
    }
   ],
   "source": [
    "X_reg = X.reshape((1000, n2*T))\n",
    "lr = LogisticRegression(max_iter=5000)\n",
    "lr.fit(X_reg, C[:,49])"
   ]
  },
  {
   "cell_type": "markdown",
   "metadata": {},
   "source": [
    "Prediction accuracy"
   ]
  },
  {
   "cell_type": "code",
   "execution_count": 14,
   "metadata": {},
   "outputs": [
    {
     "data": {
      "text/plain": [
       "0.668"
      ]
     },
     "execution_count": 14,
     "metadata": {},
     "output_type": "execute_result"
    }
   ],
   "source": [
    "np.random.seed(80)\n",
    "n1 = 1000\n",
    "\n",
    "C_test, Z_test, X_test = np.empty(shape=(n1,T)), np.empty(shape=(n1,T,n2)), np.empty(shape=(n1, T, n2))\n",
    "\n",
    "for i in range(n1):\n",
    "    C_test[i], Z_test[i], X_test[i] = sim(10,100)\n",
    "\n",
    "X_reg_test = X_test.reshape((1000, 100*10))\n",
    "\n",
    "np.mean(lr.predict(X_reg_test) == C_test[:,49])\n"
   ]
  },
  {
   "cell_type": "code",
   "execution_count": 15,
   "metadata": {},
   "outputs": [
    {
     "data": {
      "text/plain": [
       "array([[ 0.03707576,  0.07556136,  0.02679373, ...,  0.01847613,\n",
       "        -0.02778083,  0.03911787],\n",
       "       [-0.06965838, -0.17429022,  0.01776721, ..., -0.01074624,\n",
       "        -0.03011102, -0.04705927],\n",
       "       [ 0.03258263,  0.09872886, -0.04456094, ..., -0.00772989,\n",
       "         0.05789184,  0.0079414 ]])"
      ]
     },
     "execution_count": 15,
     "metadata": {},
     "output_type": "execute_result"
    }
   ],
   "source": [
    "lr.coef_"
   ]
  },
  {
   "cell_type": "code",
   "execution_count": 16,
   "metadata": {},
   "outputs": [
    {
     "name": "stdout",
     "output_type": "stream",
     "text": [
      "-0.000813642936020122 -9.472616592041926e-05 0.0009083691019386659\n"
     ]
    }
   ],
   "source": [
    "print(np.mean(lr.coef_[0]), np.mean(lr.coef_[1]), np.mean(lr.coef_[2]))"
   ]
  },
  {
   "cell_type": "markdown",
   "metadata": {},
   "source": [
    "Predict from only certain X's"
   ]
  },
  {
   "cell_type": "code",
   "execution_count": 17,
   "metadata": {},
   "outputs": [],
   "source": [
    "new_x_reg = X[:,48:51,:]\n",
    "new_x_reg = new_x_reg.reshape((1000, 10*3))"
   ]
  },
  {
   "cell_type": "code",
   "execution_count": 18,
   "metadata": {},
   "outputs": [
    {
     "data": {
      "text/html": [
       "<style>#sk-container-id-2 {\n",
       "  /* Definition of color scheme common for light and dark mode */\n",
       "  --sklearn-color-text: black;\n",
       "  --sklearn-color-line: gray;\n",
       "  /* Definition of color scheme for unfitted estimators */\n",
       "  --sklearn-color-unfitted-level-0: #fff5e6;\n",
       "  --sklearn-color-unfitted-level-1: #f6e4d2;\n",
       "  --sklearn-color-unfitted-level-2: #ffe0b3;\n",
       "  --sklearn-color-unfitted-level-3: chocolate;\n",
       "  /* Definition of color scheme for fitted estimators */\n",
       "  --sklearn-color-fitted-level-0: #f0f8ff;\n",
       "  --sklearn-color-fitted-level-1: #d4ebff;\n",
       "  --sklearn-color-fitted-level-2: #b3dbfd;\n",
       "  --sklearn-color-fitted-level-3: cornflowerblue;\n",
       "\n",
       "  /* Specific color for light theme */\n",
       "  --sklearn-color-text-on-default-background: var(--sg-text-color, var(--theme-code-foreground, var(--jp-content-font-color1, black)));\n",
       "  --sklearn-color-background: var(--sg-background-color, var(--theme-background, var(--jp-layout-color0, white)));\n",
       "  --sklearn-color-border-box: var(--sg-text-color, var(--theme-code-foreground, var(--jp-content-font-color1, black)));\n",
       "  --sklearn-color-icon: #696969;\n",
       "\n",
       "  @media (prefers-color-scheme: dark) {\n",
       "    /* Redefinition of color scheme for dark theme */\n",
       "    --sklearn-color-text-on-default-background: var(--sg-text-color, var(--theme-code-foreground, var(--jp-content-font-color1, white)));\n",
       "    --sklearn-color-background: var(--sg-background-color, var(--theme-background, var(--jp-layout-color0, #111)));\n",
       "    --sklearn-color-border-box: var(--sg-text-color, var(--theme-code-foreground, var(--jp-content-font-color1, white)));\n",
       "    --sklearn-color-icon: #878787;\n",
       "  }\n",
       "}\n",
       "\n",
       "#sk-container-id-2 {\n",
       "  color: var(--sklearn-color-text);\n",
       "}\n",
       "\n",
       "#sk-container-id-2 pre {\n",
       "  padding: 0;\n",
       "}\n",
       "\n",
       "#sk-container-id-2 input.sk-hidden--visually {\n",
       "  border: 0;\n",
       "  clip: rect(1px 1px 1px 1px);\n",
       "  clip: rect(1px, 1px, 1px, 1px);\n",
       "  height: 1px;\n",
       "  margin: -1px;\n",
       "  overflow: hidden;\n",
       "  padding: 0;\n",
       "  position: absolute;\n",
       "  width: 1px;\n",
       "}\n",
       "\n",
       "#sk-container-id-2 div.sk-dashed-wrapped {\n",
       "  border: 1px dashed var(--sklearn-color-line);\n",
       "  margin: 0 0.4em 0.5em 0.4em;\n",
       "  box-sizing: border-box;\n",
       "  padding-bottom: 0.4em;\n",
       "  background-color: var(--sklearn-color-background);\n",
       "}\n",
       "\n",
       "#sk-container-id-2 div.sk-container {\n",
       "  /* jupyter's `normalize.less` sets `[hidden] { display: none; }`\n",
       "     but bootstrap.min.css set `[hidden] { display: none !important; }`\n",
       "     so we also need the `!important` here to be able to override the\n",
       "     default hidden behavior on the sphinx rendered scikit-learn.org.\n",
       "     See: https://github.com/scikit-learn/scikit-learn/issues/21755 */\n",
       "  display: inline-block !important;\n",
       "  position: relative;\n",
       "}\n",
       "\n",
       "#sk-container-id-2 div.sk-text-repr-fallback {\n",
       "  display: none;\n",
       "}\n",
       "\n",
       "div.sk-parallel-item,\n",
       "div.sk-serial,\n",
       "div.sk-item {\n",
       "  /* draw centered vertical line to link estimators */\n",
       "  background-image: linear-gradient(var(--sklearn-color-text-on-default-background), var(--sklearn-color-text-on-default-background));\n",
       "  background-size: 2px 100%;\n",
       "  background-repeat: no-repeat;\n",
       "  background-position: center center;\n",
       "}\n",
       "\n",
       "/* Parallel-specific style estimator block */\n",
       "\n",
       "#sk-container-id-2 div.sk-parallel-item::after {\n",
       "  content: \"\";\n",
       "  width: 100%;\n",
       "  border-bottom: 2px solid var(--sklearn-color-text-on-default-background);\n",
       "  flex-grow: 1;\n",
       "}\n",
       "\n",
       "#sk-container-id-2 div.sk-parallel {\n",
       "  display: flex;\n",
       "  align-items: stretch;\n",
       "  justify-content: center;\n",
       "  background-color: var(--sklearn-color-background);\n",
       "  position: relative;\n",
       "}\n",
       "\n",
       "#sk-container-id-2 div.sk-parallel-item {\n",
       "  display: flex;\n",
       "  flex-direction: column;\n",
       "}\n",
       "\n",
       "#sk-container-id-2 div.sk-parallel-item:first-child::after {\n",
       "  align-self: flex-end;\n",
       "  width: 50%;\n",
       "}\n",
       "\n",
       "#sk-container-id-2 div.sk-parallel-item:last-child::after {\n",
       "  align-self: flex-start;\n",
       "  width: 50%;\n",
       "}\n",
       "\n",
       "#sk-container-id-2 div.sk-parallel-item:only-child::after {\n",
       "  width: 0;\n",
       "}\n",
       "\n",
       "/* Serial-specific style estimator block */\n",
       "\n",
       "#sk-container-id-2 div.sk-serial {\n",
       "  display: flex;\n",
       "  flex-direction: column;\n",
       "  align-items: center;\n",
       "  background-color: var(--sklearn-color-background);\n",
       "  padding-right: 1em;\n",
       "  padding-left: 1em;\n",
       "}\n",
       "\n",
       "\n",
       "/* Toggleable style: style used for estimator/Pipeline/ColumnTransformer box that is\n",
       "clickable and can be expanded/collapsed.\n",
       "- Pipeline and ColumnTransformer use this feature and define the default style\n",
       "- Estimators will overwrite some part of the style using the `sk-estimator` class\n",
       "*/\n",
       "\n",
       "/* Pipeline and ColumnTransformer style (default) */\n",
       "\n",
       "#sk-container-id-2 div.sk-toggleable {\n",
       "  /* Default theme specific background. It is overwritten whether we have a\n",
       "  specific estimator or a Pipeline/ColumnTransformer */\n",
       "  background-color: var(--sklearn-color-background);\n",
       "}\n",
       "\n",
       "/* Toggleable label */\n",
       "#sk-container-id-2 label.sk-toggleable__label {\n",
       "  cursor: pointer;\n",
       "  display: block;\n",
       "  width: 100%;\n",
       "  margin-bottom: 0;\n",
       "  padding: 0.5em;\n",
       "  box-sizing: border-box;\n",
       "  text-align: center;\n",
       "}\n",
       "\n",
       "#sk-container-id-2 label.sk-toggleable__label-arrow:before {\n",
       "  /* Arrow on the left of the label */\n",
       "  content: \"▸\";\n",
       "  float: left;\n",
       "  margin-right: 0.25em;\n",
       "  color: var(--sklearn-color-icon);\n",
       "}\n",
       "\n",
       "#sk-container-id-2 label.sk-toggleable__label-arrow:hover:before {\n",
       "  color: var(--sklearn-color-text);\n",
       "}\n",
       "\n",
       "/* Toggleable content - dropdown */\n",
       "\n",
       "#sk-container-id-2 div.sk-toggleable__content {\n",
       "  max-height: 0;\n",
       "  max-width: 0;\n",
       "  overflow: hidden;\n",
       "  text-align: left;\n",
       "  /* unfitted */\n",
       "  background-color: var(--sklearn-color-unfitted-level-0);\n",
       "}\n",
       "\n",
       "#sk-container-id-2 div.sk-toggleable__content.fitted {\n",
       "  /* fitted */\n",
       "  background-color: var(--sklearn-color-fitted-level-0);\n",
       "}\n",
       "\n",
       "#sk-container-id-2 div.sk-toggleable__content pre {\n",
       "  margin: 0.2em;\n",
       "  border-radius: 0.25em;\n",
       "  color: var(--sklearn-color-text);\n",
       "  /* unfitted */\n",
       "  background-color: var(--sklearn-color-unfitted-level-0);\n",
       "}\n",
       "\n",
       "#sk-container-id-2 div.sk-toggleable__content.fitted pre {\n",
       "  /* unfitted */\n",
       "  background-color: var(--sklearn-color-fitted-level-0);\n",
       "}\n",
       "\n",
       "#sk-container-id-2 input.sk-toggleable__control:checked~div.sk-toggleable__content {\n",
       "  /* Expand drop-down */\n",
       "  max-height: 200px;\n",
       "  max-width: 100%;\n",
       "  overflow: auto;\n",
       "}\n",
       "\n",
       "#sk-container-id-2 input.sk-toggleable__control:checked~label.sk-toggleable__label-arrow:before {\n",
       "  content: \"▾\";\n",
       "}\n",
       "\n",
       "/* Pipeline/ColumnTransformer-specific style */\n",
       "\n",
       "#sk-container-id-2 div.sk-label input.sk-toggleable__control:checked~label.sk-toggleable__label {\n",
       "  color: var(--sklearn-color-text);\n",
       "  background-color: var(--sklearn-color-unfitted-level-2);\n",
       "}\n",
       "\n",
       "#sk-container-id-2 div.sk-label.fitted input.sk-toggleable__control:checked~label.sk-toggleable__label {\n",
       "  background-color: var(--sklearn-color-fitted-level-2);\n",
       "}\n",
       "\n",
       "/* Estimator-specific style */\n",
       "\n",
       "/* Colorize estimator box */\n",
       "#sk-container-id-2 div.sk-estimator input.sk-toggleable__control:checked~label.sk-toggleable__label {\n",
       "  /* unfitted */\n",
       "  background-color: var(--sklearn-color-unfitted-level-2);\n",
       "}\n",
       "\n",
       "#sk-container-id-2 div.sk-estimator.fitted input.sk-toggleable__control:checked~label.sk-toggleable__label {\n",
       "  /* fitted */\n",
       "  background-color: var(--sklearn-color-fitted-level-2);\n",
       "}\n",
       "\n",
       "#sk-container-id-2 div.sk-label label.sk-toggleable__label,\n",
       "#sk-container-id-2 div.sk-label label {\n",
       "  /* The background is the default theme color */\n",
       "  color: var(--sklearn-color-text-on-default-background);\n",
       "}\n",
       "\n",
       "/* On hover, darken the color of the background */\n",
       "#sk-container-id-2 div.sk-label:hover label.sk-toggleable__label {\n",
       "  color: var(--sklearn-color-text);\n",
       "  background-color: var(--sklearn-color-unfitted-level-2);\n",
       "}\n",
       "\n",
       "/* Label box, darken color on hover, fitted */\n",
       "#sk-container-id-2 div.sk-label.fitted:hover label.sk-toggleable__label.fitted {\n",
       "  color: var(--sklearn-color-text);\n",
       "  background-color: var(--sklearn-color-fitted-level-2);\n",
       "}\n",
       "\n",
       "/* Estimator label */\n",
       "\n",
       "#sk-container-id-2 div.sk-label label {\n",
       "  font-family: monospace;\n",
       "  font-weight: bold;\n",
       "  display: inline-block;\n",
       "  line-height: 1.2em;\n",
       "}\n",
       "\n",
       "#sk-container-id-2 div.sk-label-container {\n",
       "  text-align: center;\n",
       "}\n",
       "\n",
       "/* Estimator-specific */\n",
       "#sk-container-id-2 div.sk-estimator {\n",
       "  font-family: monospace;\n",
       "  border: 1px dotted var(--sklearn-color-border-box);\n",
       "  border-radius: 0.25em;\n",
       "  box-sizing: border-box;\n",
       "  margin-bottom: 0.5em;\n",
       "  /* unfitted */\n",
       "  background-color: var(--sklearn-color-unfitted-level-0);\n",
       "}\n",
       "\n",
       "#sk-container-id-2 div.sk-estimator.fitted {\n",
       "  /* fitted */\n",
       "  background-color: var(--sklearn-color-fitted-level-0);\n",
       "}\n",
       "\n",
       "/* on hover */\n",
       "#sk-container-id-2 div.sk-estimator:hover {\n",
       "  /* unfitted */\n",
       "  background-color: var(--sklearn-color-unfitted-level-2);\n",
       "}\n",
       "\n",
       "#sk-container-id-2 div.sk-estimator.fitted:hover {\n",
       "  /* fitted */\n",
       "  background-color: var(--sklearn-color-fitted-level-2);\n",
       "}\n",
       "\n",
       "/* Specification for estimator info (e.g. \"i\" and \"?\") */\n",
       "\n",
       "/* Common style for \"i\" and \"?\" */\n",
       "\n",
       ".sk-estimator-doc-link,\n",
       "a:link.sk-estimator-doc-link,\n",
       "a:visited.sk-estimator-doc-link {\n",
       "  float: right;\n",
       "  font-size: smaller;\n",
       "  line-height: 1em;\n",
       "  font-family: monospace;\n",
       "  background-color: var(--sklearn-color-background);\n",
       "  border-radius: 1em;\n",
       "  height: 1em;\n",
       "  width: 1em;\n",
       "  text-decoration: none !important;\n",
       "  margin-left: 1ex;\n",
       "  /* unfitted */\n",
       "  border: var(--sklearn-color-unfitted-level-1) 1pt solid;\n",
       "  color: var(--sklearn-color-unfitted-level-1);\n",
       "}\n",
       "\n",
       ".sk-estimator-doc-link.fitted,\n",
       "a:link.sk-estimator-doc-link.fitted,\n",
       "a:visited.sk-estimator-doc-link.fitted {\n",
       "  /* fitted */\n",
       "  border: var(--sklearn-color-fitted-level-1) 1pt solid;\n",
       "  color: var(--sklearn-color-fitted-level-1);\n",
       "}\n",
       "\n",
       "/* On hover */\n",
       "div.sk-estimator:hover .sk-estimator-doc-link:hover,\n",
       ".sk-estimator-doc-link:hover,\n",
       "div.sk-label-container:hover .sk-estimator-doc-link:hover,\n",
       ".sk-estimator-doc-link:hover {\n",
       "  /* unfitted */\n",
       "  background-color: var(--sklearn-color-unfitted-level-3);\n",
       "  color: var(--sklearn-color-background);\n",
       "  text-decoration: none;\n",
       "}\n",
       "\n",
       "div.sk-estimator.fitted:hover .sk-estimator-doc-link.fitted:hover,\n",
       ".sk-estimator-doc-link.fitted:hover,\n",
       "div.sk-label-container:hover .sk-estimator-doc-link.fitted:hover,\n",
       ".sk-estimator-doc-link.fitted:hover {\n",
       "  /* fitted */\n",
       "  background-color: var(--sklearn-color-fitted-level-3);\n",
       "  color: var(--sklearn-color-background);\n",
       "  text-decoration: none;\n",
       "}\n",
       "\n",
       "/* Span, style for the box shown on hovering the info icon */\n",
       ".sk-estimator-doc-link span {\n",
       "  display: none;\n",
       "  z-index: 9999;\n",
       "  position: relative;\n",
       "  font-weight: normal;\n",
       "  right: .2ex;\n",
       "  padding: .5ex;\n",
       "  margin: .5ex;\n",
       "  width: min-content;\n",
       "  min-width: 20ex;\n",
       "  max-width: 50ex;\n",
       "  color: var(--sklearn-color-text);\n",
       "  box-shadow: 2pt 2pt 4pt #999;\n",
       "  /* unfitted */\n",
       "  background: var(--sklearn-color-unfitted-level-0);\n",
       "  border: .5pt solid var(--sklearn-color-unfitted-level-3);\n",
       "}\n",
       "\n",
       ".sk-estimator-doc-link.fitted span {\n",
       "  /* fitted */\n",
       "  background: var(--sklearn-color-fitted-level-0);\n",
       "  border: var(--sklearn-color-fitted-level-3);\n",
       "}\n",
       "\n",
       ".sk-estimator-doc-link:hover span {\n",
       "  display: block;\n",
       "}\n",
       "\n",
       "/* \"?\"-specific style due to the `<a>` HTML tag */\n",
       "\n",
       "#sk-container-id-2 a.estimator_doc_link {\n",
       "  float: right;\n",
       "  font-size: 1rem;\n",
       "  line-height: 1em;\n",
       "  font-family: monospace;\n",
       "  background-color: var(--sklearn-color-background);\n",
       "  border-radius: 1rem;\n",
       "  height: 1rem;\n",
       "  width: 1rem;\n",
       "  text-decoration: none;\n",
       "  /* unfitted */\n",
       "  color: var(--sklearn-color-unfitted-level-1);\n",
       "  border: var(--sklearn-color-unfitted-level-1) 1pt solid;\n",
       "}\n",
       "\n",
       "#sk-container-id-2 a.estimator_doc_link.fitted {\n",
       "  /* fitted */\n",
       "  border: var(--sklearn-color-fitted-level-1) 1pt solid;\n",
       "  color: var(--sklearn-color-fitted-level-1);\n",
       "}\n",
       "\n",
       "/* On hover */\n",
       "#sk-container-id-2 a.estimator_doc_link:hover {\n",
       "  /* unfitted */\n",
       "  background-color: var(--sklearn-color-unfitted-level-3);\n",
       "  color: var(--sklearn-color-background);\n",
       "  text-decoration: none;\n",
       "}\n",
       "\n",
       "#sk-container-id-2 a.estimator_doc_link.fitted:hover {\n",
       "  /* fitted */\n",
       "  background-color: var(--sklearn-color-fitted-level-3);\n",
       "}\n",
       "</style><div id=\"sk-container-id-2\" class=\"sk-top-container\"><div class=\"sk-text-repr-fallback\"><pre>LogisticRegression(max_iter=5000)</pre><b>In a Jupyter environment, please rerun this cell to show the HTML representation or trust the notebook. <br />On GitHub, the HTML representation is unable to render, please try loading this page with nbviewer.org.</b></div><div class=\"sk-container\" hidden><div class=\"sk-item\"><div class=\"sk-estimator fitted sk-toggleable\"><input class=\"sk-toggleable__control sk-hidden--visually\" id=\"sk-estimator-id-2\" type=\"checkbox\" checked><label for=\"sk-estimator-id-2\" class=\"sk-toggleable__label fitted sk-toggleable__label-arrow fitted\">&nbsp;&nbsp;LogisticRegression<a class=\"sk-estimator-doc-link fitted\" rel=\"noreferrer\" target=\"_blank\" href=\"https://scikit-learn.org/1.4/modules/generated/sklearn.linear_model.LogisticRegression.html\">?<span>Documentation for LogisticRegression</span></a><span class=\"sk-estimator-doc-link fitted\">i<span>Fitted</span></span></label><div class=\"sk-toggleable__content fitted\"><pre>LogisticRegression(max_iter=5000)</pre></div> </div></div></div></div>"
      ],
      "text/plain": [
       "LogisticRegression(max_iter=5000)"
      ]
     },
     "execution_count": 18,
     "metadata": {},
     "output_type": "execute_result"
    }
   ],
   "source": [
    "lr2 = LogisticRegression(max_iter=5000)\n",
    "lr2.fit(new_x_reg, C[:,49])"
   ]
  },
  {
   "cell_type": "markdown",
   "metadata": {},
   "source": [
    "Accuracy"
   ]
  },
  {
   "cell_type": "code",
   "execution_count": 19,
   "metadata": {},
   "outputs": [
    {
     "data": {
      "text/plain": [
       "0.882"
      ]
     },
     "execution_count": 19,
     "metadata": {},
     "output_type": "execute_result"
    }
   ],
   "source": [
    "X_reg_test = X_test[:,48:51,:]\n",
    "X_reg_test = X_reg_test.reshape((1000, 10*3))\n",
    "\n",
    "np.mean(lr2.predict(X_reg_test) == C_test[:,49])"
   ]
  },
  {
   "cell_type": "markdown",
   "metadata": {},
   "source": [
    "# Inference"
   ]
  },
  {
   "cell_type": "code",
   "execution_count": 7,
   "metadata": {},
   "outputs": [
    {
     "data": {
      "text/plain": [
       "array([[0.9, 0.1],\n",
       "       [0.1, 0.9],\n",
       "       [0.5, 0.5]])"
      ]
     },
     "execution_count": 7,
     "metadata": {},
     "output_type": "execute_result"
    }
   ],
   "source": [
    "#n = 3\n",
    "#T = 5\n",
    "#p_zc = np.array([[alpha, 1-alpha],[1-alpha,alpha], [0.5,0.5]]) #(C_i,Z_ij)\n",
    "#\n",
    "#p_zc"
   ]
  },
  {
   "cell_type": "markdown",
   "metadata": {},
   "source": [
    "Clique potentials"
   ]
  },
  {
   "cell_type": "code",
   "execution_count": 22,
   "metadata": {},
   "outputs": [],
   "source": [
    "#psi_l_1 = np.array([big_gamma[0]*0, big_gamma[1]*0, big_gamma[2]*1]) #(C_1,C_2)\n",
    "#psi_l_i = big_gamma #(C_i,C_i+1) # i = 1,..,T-1\n",
    "#psi_m_i = np.zeros(shape = [3,n+1]) #(C_i, #Z_ij = 1) i = 1,..,T-1, j=1,..,n \n",
    "#for c_val in range(3):\n",
    "#    psi_m_i[c_val,:] = [(p_zc[c_val,0]**(n-sum_z_ij))*(p_zc[c_val,1]**(sum_z_ij)) for sum_z_ij in range(n+1)]"
   ]
  },
  {
   "cell_type": "code",
   "execution_count": 23,
   "metadata": {},
   "outputs": [],
   "source": [
    "#def psi_n_i(xs):\n",
    "#    def func(zs):\n",
    "#        k = sum(zs)\n",
    "#        lambdas = reduce(lambda x, y: x * y, [lambda_p[z]**x for z,x in zip(zs, xs)])\n",
    "#        factorials = reduce(lambda x,y: x*y, [math.factorial(x) for x in xs])\n",
    "#        exponentials = np.exp( - ((len(zs) - k) * lambda_p[0] + k * lambda_p[1]))\n",
    "#        return exponentials * lambdas / factorials\n",
    "#    return func\n",
    "#"
   ]
  },
  {
   "cell_type": "markdown",
   "metadata": {},
   "source": [
    "Data"
   ]
  },
  {
   "cell_type": "code",
   "execution_count": 39,
   "metadata": {},
   "outputs": [],
   "source": [
    "#C, Z, X = sim(n,T)"
   ]
  },
  {
   "cell_type": "markdown",
   "metadata": {},
   "source": [
    "Messages: Upwards pass"
   ]
  },
  {
   "cell_type": "code",
   "execution_count": 40,
   "metadata": {},
   "outputs": [],
   "source": [
    "# Sending messag from N_i clique (consists of X's and Z's) to M_i (consists of Z's and C_i) clique \n",
    "#delta_ni_mi_list = [None]*T\n",
    "#for i in range(T):\n",
    "#    delta_ni_mi_list[i] = psi_n_i(X[i,:]) # function of Zs"
   ]
  },
  {
   "cell_type": "code",
   "execution_count": 41,
   "metadata": {},
   "outputs": [],
   "source": [
    "# Sending messag from M_i clique (consists of Z's and C_i) to L_i clique (C_i and C_{i+1}) \n",
    "#delta_mi_li_list = np.empty(shape = (T,3)) #(t,C_t) t=1,...,T\n",
    "#for t in range(T):\n",
    "#    for c_val in range(3):\n",
    "#        delta_mi_li_list[t, c_val] = sum([psi_m_i[c_val,sum(zs)] * delta_ni_mi_list[t](zs) for zs in list(product([0, 1], repeat=n))])"
   ]
  },
  {
   "cell_type": "code",
   "execution_count": 42,
   "metadata": {},
   "outputs": [],
   "source": [
    "# Sending messag from L_i clique (consists of C_i and C_i+1) to L_i+1 clique (C_i+1 and C_{i+2}) \n",
    "#delta_li_i1_list = np.empty(shape = (T-1,3)) #(t, C_t+1) t=1,...,T-1\n",
    "#\n",
    "#for t in range(T-1):\n",
    "#    for c_i_ in range(3):\n",
    "#        if t == 0:\n",
    "#            delta_li_i1_list[t,c_i_] = sum([psi_l_1[c_i,c_i_] * delta_mi_li_list[0,c_i] for c_i in [0,1,2]])\n",
    "#        delta_li_i1_list[t, c_i_] = sum([psi_l_i[c_i,c_i_] * delta_mi_li_list[t,c_i] for c_i in [0,1,2]])"
   ]
  },
  {
   "cell_type": "markdown",
   "metadata": {},
   "source": [
    "## Downward pass\n",
    "Clique belief of clique L_{T-1}"
   ]
  },
  {
   "cell_type": "code",
   "execution_count": 134,
   "metadata": {},
   "outputs": [
    {
     "data": {
      "text/plain": [
       "array([[3.46183122e-04, 0.00000000e+00, 1.77186831e-03],\n",
       "       [0.00000000e+00, 6.97602461e-01, 1.54231058e-02],\n",
       "       [4.73952423e-04, 1.09722695e-01, 1.74659734e-01]])"
      ]
     },
     "execution_count": 134,
     "metadata": {},
     "output_type": "execute_result"
    }
   ],
   "source": [
    "#beta_l_T_minus_1 = np.empty(shape = (3,3)) \n",
    "#beta_l_T_minus_1[0,:] = psi_l_i[0,:]*delta_mi_li_list[T-1,:]*delta_li_i1_list[T-2,0]*delta_mi_li_list[T-2,0]\n",
    "#beta_l_T_minus_1[1,:] = psi_l_i[1,:]*delta_mi_li_list[T-1,:]*delta_li_i1_list[T-2,1]*delta_mi_li_list[T-2,1]\n",
    "#beta_l_T_minus_1[2,:] = psi_l_i[2,:]*delta_mi_li_list[T-1,:]*delta_li_i1_list[T-2,2]*delta_mi_li_list[T-2,2]\n",
    "##Normalizing\n",
    "#beta_l_T_minus_1 /= sum(sum(beta_l_T_minus_1))\n",
    "#beta_l_T_minus_1"
   ]
  },
  {
   "cell_type": "code",
   "execution_count": 144,
   "metadata": {},
   "outputs": [
    {
     "data": {
      "text/plain": [
       "array([[[1.48854343e-09, 0.00000000e+00, 1.47011315e-09],\n",
       "        [0.00000000e+00, 5.72025892e-04, 6.34020187e-05],\n",
       "        [8.52045651e-07, 7.59214892e-06, 6.05877205e-05]],\n",
       "\n",
       "       [[1.28342658e-08, 0.00000000e+00, 3.07606613e-08],\n",
       "        [0.00000000e+00, 1.81140144e-02, 5.10844092e-04],\n",
       "        [2.53655861e-06, 2.15573748e-04, 4.37725691e-04]],\n",
       "\n",
       "       [[5.43542240e-10, 0.00000000e+00, 2.18732195e-09],\n",
       "        [0.00000000e+00, 2.79231181e-04, 7.29434018e-06],\n",
       "        [2.37189616e-08, 3.65386910e-06, 6.87238658e-06]],\n",
       "\n",
       "       [[3.46183122e-04, 0.00000000e+00, 1.77186831e-03],\n",
       "        [0.00000000e+00, 6.97602461e-01, 1.54231058e-02],\n",
       "        [4.73952423e-04, 1.09722695e-01, 1.74659734e-01]]])"
      ]
     },
     "execution_count": 144,
     "metadata": {},
     "output_type": "execute_result"
    }
   ],
   "source": [
    "#beliefs_l_t = np.empty(shape = (T-1,3,3)) # (t,C_t,C_{t+1})\n",
    "#delta_li1_i_list = np.empty(shape = (T-1,3)) #(t, C_t+1) t=1,...,T-1\n",
    "#for t in range(T-2,0,-1):\n",
    "#    if t == T-2:\n",
    "#        beliefs_l_t[t,0,:] = psi_l_i[0,:]*delta_mi_li_list[t+1,:]*delta_li_i1_list[t,0]*delta_mi_li_list[t,0]\n",
    "#        beliefs_l_t[t,1,:] = psi_l_i[1,:]*delta_mi_li_list[t+1,:]*delta_li_i1_list[t,1]*delta_mi_li_list[t,1]\n",
    "#        beliefs_l_t[t,2,:] = psi_l_i[2,:]*delta_mi_li_list[t+1,:]*delta_li_i1_list[t,2]*delta_mi_li_list[t,2]\n",
    "#        beliefs_l_t[t,:,:] /= sum(sum(beliefs_l_t[t,:,:]))\n",
    "#    for c_i in range(3):                                                                            # compute delta_{L_t+1} to L_t\n",
    "#        delta_li1_i_list[t-1,c_i] =  sum([beliefs_l_t[t,c_i,c] / delta_li_i1_list[t,c_i] for c in [0,1,2]])\n",
    "#    beliefs_l_t[t-1,0,:] = psi_l_i[0,:]*delta_mi_li_list[t-1,:]*delta_li_i1_list[t-2,0]*delta_li1_i_list[t-1,0]\n",
    "#    beliefs_l_t[t-1,1,:] = psi_l_i[1,:]*delta_mi_li_list[t-1,:]*delta_li_i1_list[t-2,1]*delta_li1_i_list[t-1,1]\n",
    "#    beliefs_l_t[t-1,2,:] = psi_l_i[2,:]*delta_mi_li_list[t-1,:]*delta_li_i1_list[t-2,2]*delta_li1_i_list[t-1,2]\n",
    "#    beliefs_l_t[t-1,:,:] /= sum(sum(beliefs_l_t[t,:,:]))\n",
    "#\n",
    "#beliefs_l_t"
   ]
  },
  {
   "cell_type": "code",
   "execution_count": 159,
   "metadata": {},
   "outputs": [
    {
     "data": {
      "text/plain": [
       "array([[1.87136016e-05, 4.51052666e-01, 4.91225587e-02],\n",
       "       [1.33234389e-03, 6.69764905e+00, 9.29198458e-01],\n",
       "       [2.07002836e-03, 1.40988014e+00, 2.20803365e-01],\n",
       "       [6.06599131e+00, 6.09241676e+02, 1.91755288e+02],\n",
       "       [1.03245115e-05, 2.39018343e-03, 5.98946980e+02]])"
      ]
     },
     "execution_count": 159,
     "metadata": {},
     "output_type": "execute_result"
    }
   ],
   "source": [
    "#delta_li_mi_list = np.empty(shape = (T,3)) #(t,C_t) t=1,...,T\n",
    "#for t in range(T-1):\n",
    "#    for c_val in range(3):\n",
    "#        delta_li_mi_list[t, c_val] = sum([beliefs_l_t[t,c_val, c_1]/delta_mi_li_list[t,c_val]  for c_1 in [0,1,2]])\n",
    "#delta_li_mi_list[T-1, c_val] = sum([beliefs_l_t[T-2,c_val, c_1]/delta_mi_li_list[T-1,c_val]  for c_1 in [0,1,2]]) \n",
    "#\n",
    "#delta_li_mi_list"
   ]
  },
  {
   "cell_type": "code",
   "execution_count": null,
   "metadata": {},
   "outputs": [],
   "source": [
    "#beliefs_m_t = np.empty(shape = (T,3,n+1)) # (t,C_t,k_i)\n",
    "#for t in range(T-1,-1,-1):\n",
    "#    beliefs_m_t = psi_m_i[2,:]*delta_li_mi_list[t-1,:]*delta_ni_mi_list[t-2,2]\n"
   ]
  },
  {
   "cell_type": "code",
   "execution_count": 145,
   "metadata": {},
   "outputs": [
    {
     "data": {
      "text/plain": [
       "array([[0.729, 0.081, 0.009, 0.001],\n",
       "       [0.001, 0.009, 0.081, 0.729],\n",
       "       [0.125, 0.125, 0.125, 0.125]])"
      ]
     },
     "execution_count": 145,
     "metadata": {},
     "output_type": "execute_result"
    }
   ],
   "source": [
    "#psi_m_i * delta_li_mi * delta_ni_mi_list[t] #(C_i, #Z_ij = 1)"
   ]
  },
  {
   "cell_type": "markdown",
   "metadata": {},
   "source": [
    "# Inference part two"
   ]
  },
  {
   "cell_type": "markdown",
   "metadata": {},
   "source": [
    "We use the clique graph $\\{C_{t}, C_{t+1}\\} \\text{––} \\{C_t, Z_{tj}\\} \\text{––} \\{Z_{tj}, X_{tj}\\}$. First we initialize three arrays with the **initial factors**"
   ]
  },
  {
   "cell_type": "markdown",
   "metadata": {},
   "source": [
    "We start by defining the clique potentials"
   ]
  },
  {
   "cell_type": "code",
   "execution_count": 194,
   "metadata": {},
   "outputs": [],
   "source": [
    "psi_l_i = big_gamma                                                         # (C_t, C_{t+1})\n",
    "psi_l_1 = np.array([big_gamma[0]*0, big_gamma[1]*0, big_gamma[2]*1])        # (C_1,C_2)\n",
    "psi_m = np.array([[alpha, 1-alpha], [1-alpha, alpha], [0.5,0.5]])           # (C_t, Z_{ti})\n",
    "def psi_n(x):                                                               # (Z_{ti}, X_{ti})\n",
    "    def func(z):\n",
    "        return np.exp(-lambda_p[z])*lambda_p[z]**x / math.factorial(x)\n",
    "    return func"
   ]
  },
  {
   "cell_type": "markdown",
   "metadata": {},
   "source": [
    "Data"
   ]
  },
  {
   "cell_type": "code",
   "execution_count": 195,
   "metadata": {},
   "outputs": [],
   "source": [
    "n=10\n",
    "T=100\n",
    "C, Z, X = sim(n,T)"
   ]
  },
  {
   "cell_type": "markdown",
   "metadata": {},
   "source": [
    "We then implement the computation of the four messages: $\\delta_{n \\to m}$, $\\delta_{m \\to l}$ and $\\delta_{{l_{t-1}} \\to l_{t}}$."
   ]
  },
  {
   "cell_type": "code",
   "execution_count": 196,
   "metadata": {},
   "outputs": [],
   "source": [
    "# Sending messag from N_ti clique (consists of X_{ti} and Z_{ti}) to M_ti (consists of Z_{ti} and C_t) clique \n",
    "delta_ni_mi_list = [[None]*n]*T\n",
    "for i in range(T):\n",
    "    for j in range(n):\n",
    "        delta_ni_mi_list[i][j] = psi_n(X[i,j]) # function of Z_{ti}"
   ]
  },
  {
   "cell_type": "code",
   "execution_count": 197,
   "metadata": {},
   "outputs": [],
   "source": [
    "# Sending message from M_i clique (consists of Z_ti and C_t) to L_i clique (C_t and C_{t+1}) \n",
    "delta_mi_li_list = np.empty(shape = (T,n,3)) #(t,i,C_t) t=1,...,T\n",
    "for t in range(T):\n",
    "    for i in range(n):\n",
    "        for c_val in range(3):\n",
    "            delta_mi_li_list[t, i, c_val] = sum([psi_m[c_val,z] * \n",
    "                                                 delta_ni_mi_list[t][i](z) for z in [0, 1]])  # Summing out Z_{ti}, leaving a factor of C_t "
   ]
  },
  {
   "cell_type": "code",
   "execution_count": 198,
   "metadata": {},
   "outputs": [],
   "source": [
    "# Sending messag from L_t clique (consists of C_t and C_{t+1}) to L_t+1 clique (C_t+1 and C_{t+2}) \n",
    "delta_li_i1_list = np.empty(shape = (T-2,3)) #(t,C_{t+1}) t=1,...,T-1\n",
    "\n",
    "delta_li_i1_list[0,:] = [sum([psi_l_1[c_i,c_i_] * np.prod(delta_mi_li_list[1,:,:], axis = 0)[c_i] \n",
    "                              for c_i in [0,1,2]]) for c_i_ in [0,1,2]] # Summing out C_{t}, leaving a factor of C_{t+1} \n",
    "\n",
    "delta_li_i1_list[0,:] /= sum(delta_li_i1_list[0,:])                     # Normalizing\n",
    "\n",
    "for t in range(1,T-2):\n",
    "    for c_i_ in range(3):\n",
    "        delta_li_i1_list[t, c_i_] = sum([psi_l_i[c_i,c_i_] * np.prod(delta_mi_li_list[t,:,:], axis = 0)[c_i]\n",
    "                                         * delta_li_i1_list[t-1,c_i] for c_i in [0,1,2]])  # Summing out C_{t}, leaving a factor of C_{t+1} \n",
    "    # Normalizing\n",
    "    delta_li_i1_list[t,:] /= sum(delta_li_i1_list[t,:])\n"
   ]
  },
  {
   "cell_type": "markdown",
   "metadata": {},
   "source": [
    "## Clique beliefs\n",
    "\n",
    "From the initial factors and messages, we can compute the clique beliefs, and the backward pass messages. By normalizing the clique beliefs, we can compare them to the marginal probability distributions we get from simply marginalizing the joint distribution represented in our data frame of all outcomes and probabilities. "
   ]
  },
  {
   "cell_type": "markdown",
   "metadata": {},
   "source": [
    "We here calculate the beliefs of the $C_t, C_{t+1}$ cliques"
   ]
  },
  {
   "cell_type": "code",
   "execution_count": 199,
   "metadata": {},
   "outputs": [],
   "source": [
    "beliefs_l_T_minus_1 = np.empty(shape = (3,3))                                  # (C_{T-1}, C_{T})\n",
    "for c_val in [0,1,2]:\n",
    "    beliefs_l_T_minus_1[c_val,:] = psi_l_i[c_val,:] * np.prod(delta_mi_li_list[T-1,:,:], axis = 0) * np.prod(delta_mi_li_list[T-2,:,:], axis = 0)[c_val] * delta_li_i1_list[T-3,c_val]"
   ]
  },
  {
   "cell_type": "code",
   "execution_count": 200,
   "metadata": {},
   "outputs": [
    {
     "data": {
      "text/plain": [
       "array([[[4.30242545e-01, 0.00000000e+00, 3.75372445e-01],\n",
       "        [0.00000000e+00, 1.01992295e-01, 9.23927150e-02],\n",
       "        [3.17619087e-25, 3.05904076e-25, 1.99520776e-23]],\n",
       "\n",
       "       [[4.28568585e-01, 0.00000000e+00, 3.73911970e-01],\n",
       "        [0.00000000e+00, 1.03636909e-01, 9.38825367e-02],\n",
       "        [6.58437143e-25, 6.34151453e-25, 4.13614594e-23]],\n",
       "\n",
       "       [[4.27270708e-01, 0.00000000e+00, 3.72779615e-01],\n",
       "        [0.00000000e+00, 1.04912032e-01, 9.50376450e-02],\n",
       "        [1.19961406e-24, 1.15536769e-24, 7.53569098e-23]],\n",
       "\n",
       "       [[4.26062784e-01, 0.00000000e+00, 3.71725742e-01],\n",
       "        [0.00000000e+00, 1.06098780e-01, 9.61126947e-02],\n",
       "        [2.14979083e-24, 2.07049829e-24, 1.35044760e-22]],\n",
       "\n",
       "       [[4.24866102e-01, 0.00000000e+00, 3.70681676e-01],\n",
       "        [0.00000000e+00, 1.07274483e-01, 9.71777398e-02],\n",
       "        [3.84383124e-24, 3.70205599e-24, 2.41460360e-22]],\n",
       "\n",
       "       [[4.23663606e-01, 0.00000000e+00, 3.69632538e-01],\n",
       "        [0.00000000e+00, 1.08455897e-01, 9.82479587e-02],\n",
       "        [6.87045632e-24, 6.61704751e-24, 4.31585768e-22]],\n",
       "\n",
       "       [[4.22452048e-01, 0.00000000e+00, 3.68575494e-01],\n",
       "        [0.00000000e+00, 1.09646215e-01, 9.93262430e-02],\n",
       "        [1.22793397e-23, 1.18264306e-23, 7.71358994e-22]],\n",
       "\n",
       "       [[4.21230853e-01, 0.00000000e+00, 3.67510041e-01],\n",
       "        [0.00000000e+00, 1.10846002e-01, 1.00413105e-01],\n",
       "        [2.19456427e-23, 2.11362032e-23, 1.37857322e-21]],\n",
       "\n",
       "       [[4.19999921e-01, 0.00000000e+00, 3.66436093e-01],\n",
       "        [0.00000000e+00, 1.12055354e-01, 1.01508632e-01],\n",
       "        [3.92199929e-23, 3.77734090e-23, 2.46370691e-21]],\n",
       "\n",
       "       [[4.18759238e-01, 0.00000000e+00, 3.65353638e-01],\n",
       "        [0.00000000e+00, 1.13274286e-01, 1.02612838e-01],\n",
       "        [7.00894776e-23, 6.75043086e-23, 4.40285472e-21]],\n",
       "\n",
       "       [[4.17508805e-01, 0.00000000e+00, 3.64262677e-01],\n",
       "        [0.00000000e+00, 1.14502797e-01, 1.03725721e-01],\n",
       "        [1.25251857e-22, 1.20632088e-22, 7.86802454e-21]],\n",
       "\n",
       "       [[4.16248625e-01, 0.00000000e+00, 3.63163212e-01],\n",
       "        [0.00000000e+00, 1.15740884e-01, 1.04847278e-01],\n",
       "        [2.23821323e-22, 2.15565934e-22, 1.40599246e-20]],\n",
       "\n",
       "       [[4.14978706e-01, 0.00000000e+00, 3.62055249e-01],\n",
       "        [0.00000000e+00, 1.16988540e-01, 1.05977504e-01],\n",
       "        [3.99948960e-22, 3.85197307e-22, 2.51238449e-20]],\n",
       "\n",
       "       [[4.13699056e-01, 0.00000000e+00, 3.60938796e-01],\n",
       "        [0.00000000e+00, 1.18245757e-01, 1.07116391e-01],\n",
       "        [7.14650004e-22, 6.88290969e-22, 4.48926180e-20]],\n",
       "\n",
       "       [[4.12409685e-01, 0.00000000e+00, 3.59813862e-01],\n",
       "        [0.00000000e+00, 1.19512524e-01, 1.08263929e-01],\n",
       "        [1.27693220e-21, 1.22983404e-21, 8.02138516e-20]],\n",
       "\n",
       "       [[4.11110606e-01, 0.00000000e+00, 3.58680459e-01],\n",
       "        [0.00000000e+00, 1.20788829e-01, 1.09420107e-01],\n",
       "        [2.28153836e-21, 2.19738647e-21, 1.43320828e-19]],\n",
       "\n",
       "       [[4.09801833e-01, 0.00000000e+00, 3.57538598e-01],\n",
       "        [0.00000000e+00, 1.22074657e-01, 1.10584912e-01],\n",
       "        [4.07636537e-21, 3.92601337e-21, 2.56067603e-19]],\n",
       "\n",
       "       [[4.08483384e-01, 0.00000000e+00, 3.56388294e-01],\n",
       "        [0.00000000e+00, 1.23369992e-01, 1.11758330e-01],\n",
       "        [7.28288939e-21, 7.01426847e-21, 4.57493835e-19]],\n",
       "\n",
       "       [[4.07155277e-01, 0.00000000e+00, 3.55229565e-01],\n",
       "        [0.00000000e+00, 1.24674816e-01, 1.12940343e-01],\n",
       "        [1.30112643e-20, 1.25313589e-20, 8.17336757e-19]],\n",
       "\n",
       "       [[4.05817533e-01, 0.00000000e+00, 3.54062427e-01],\n",
       "        [0.00000000e+00, 1.25989108e-01, 1.14130932e-01],\n",
       "        [2.32445075e-20, 2.23871608e-20, 1.46016482e-18]],\n",
       "\n",
       "       [[4.04470175e-01, 0.00000000e+00, 3.52886902e-01],\n",
       "        [0.00000000e+00, 1.27312845e-01, 1.15330079e-01],\n",
       "        [4.15246669e-20, 3.99930778e-20, 2.60848107e-18]],\n",
       "\n",
       "       [[4.03113228e-01, 0.00000000e+00, 3.51703010e-01],\n",
       "        [0.00000000e+00, 1.28646003e-01, 1.16537759e-01],\n",
       "        [7.41782898e-20, 7.14423097e-20, 4.65970420e-18]],\n",
       "\n",
       "       [[4.01746721e-01, 0.00000000e+00, 3.50510777e-01],\n",
       "        [0.00000000e+00, 1.29988554e-01, 1.17753948e-01],\n",
       "        [1.32504985e-19, 1.27617693e-19, 8.32364886e-18]],\n",
       "\n",
       "       [[4.00370681e-01, 0.00000000e+00, 3.49310228e-01],\n",
       "        [0.00000000e+00, 1.31340470e-01, 1.18978621e-01],\n",
       "        [2.36685829e-19, 2.27955947e-19, 1.48680423e-17]],\n",
       "\n",
       "       [[3.98985142e-01, 0.00000000e+00, 3.48101391e-01],\n",
       "        [0.00000000e+00, 1.32701719e-01, 1.20211748e-01],\n",
       "        [4.22762858e-19, 4.07169741e-19, 2.65569599e-17]],\n",
       "\n",
       "       [[3.97590137e-01, 0.00000000e+00, 3.46884296e-01],\n",
       "        [0.00000000e+00, 1.34072267e-01, 1.21453300e-01],\n",
       "        [7.55102341e-19, 7.27251268e-19, 4.74337378e-17]],\n",
       "\n",
       "       [[3.96185704e-01, 0.00000000e+00, 3.45658973e-01],\n",
       "        [0.00000000e+00, 1.35452079e-01, 1.22703243e-01],\n",
       "        [1.34864959e-18, 1.29890622e-18, 8.47189683e-17]],\n",
       "\n",
       "       [[3.94771880e-01, 0.00000000e+00, 3.44425459e-01],\n",
       "        [0.00000000e+00, 1.36841118e-01, 1.23961544e-01],\n",
       "        [2.40866636e-18, 2.31982550e-18, 1.51306707e-16]],\n",
       "\n",
       "       [[3.93348706e-01, 0.00000000e+00, 3.43183787e-01],\n",
       "        [0.00000000e+00, 1.38239341e-01, 1.25228166e-01],\n",
       "        [4.30168174e-18, 4.14301920e-18, 2.70221443e-16]],\n",
       "\n",
       "       [[3.91916227e-01, 0.00000000e+00, 3.41933996e-01],\n",
       "        [0.00000000e+00, 1.39646707e-01, 1.26503070e-01],\n",
       "        [7.68216989e-18, 7.39882197e-18, 4.82575689e-16]],\n",
       "\n",
       "       [[3.90474487e-01, 0.00000000e+00, 3.40676125e-01],\n",
       "        [0.00000000e+00, 1.41063172e-01, 1.27786216e-01],\n",
       "        [1.37187151e-17, 1.32127162e-17, 8.61777139e-16]],\n",
       "\n",
       "       [[3.89023535e-01, 0.00000000e+00, 3.39410217e-01],\n",
       "        [0.00000000e+00, 1.42488687e-01, 1.29077561e-01],\n",
       "        [2.44977818e-17, 2.35942096e-17, 1.53889254e-15]],\n",
       "\n",
       "       [[3.87563422e-01, 0.00000000e+00, 3.38136316e-01],\n",
       "        [0.00000000e+00, 1.43923203e-01, 1.30377059e-01],\n",
       "        [4.37445324e-17, 4.21310662e-17, 2.74792776e-15]],\n",
       "\n",
       "       [[3.86094199e-01, 0.00000000e+00, 3.36854468e-01],\n",
       "        [0.00000000e+00, 1.45366668e-01, 1.31684665e-01],\n",
       "        [7.81095950e-17, 7.52286133e-17, 4.90665947e-15]],\n",
       "\n",
       "       [[3.84615923e-01, 0.00000000e+00, 3.35564721e-01],\n",
       "        [0.00000000e+00, 1.46819028e-01, 1.33000328e-01],\n",
       "        [1.39466044e-16, 1.34322001e-16, 8.76092603e-15]],\n",
       "\n",
       "       [[3.83128651e-01, 0.00000000e+00, 3.34267125e-01],\n",
       "        [0.00000000e+00, 1.48280227e-01, 1.34323997e-01],\n",
       "        [2.49009527e-16, 2.39825100e-16, 1.56421878e-14]],\n",
       "\n",
       "       [[3.81632443e-01, 0.00000000e+00, 3.32961733e-01],\n",
       "        [0.00000000e+00, 1.49750205e-01, 1.35655620e-01],\n",
       "        [4.44576735e-16, 4.28179039e-16, 2.79272559e-14]],\n",
       "\n",
       "       [[3.80127361e-01, 0.00000000e+00, 3.31648598e-01],\n",
       "        [0.00000000e+00, 1.51228901e-01, 1.36995140e-01],\n",
       "        [7.93707872e-16, 7.64432879e-16, 4.98588457e-14]],\n",
       "\n",
       "       [[3.78613471e-01, 0.00000000e+00, 3.30327779e-01],\n",
       "        [0.00000000e+00, 1.52716250e-01, 1.38342499e-01],\n",
       "        [1.41696046e-15, 1.36469752e-15, 8.90100947e-14]],\n",
       "\n",
       "       [[3.77090840e-01, 0.00000000e+00, 3.28999334e-01],\n",
       "        [0.00000000e+00, 1.54212188e-01, 1.39697638e-01],\n",
       "        [2.52951794e-15, 2.43621961e-15, 1.58898316e-13]],\n",
       "\n",
       "       [[3.75559537e-01, 0.00000000e+00, 3.27663323e-01],\n",
       "        [0.00000000e+00, 1.55716645e-01, 1.41060495e-01],\n",
       "        [4.51544637e-15, 4.34889937e-15, 2.83649629e-13]],\n",
       "\n",
       "       [[3.74019636e-01, 0.00000000e+00, 3.26319809e-01],\n",
       "        [0.00000000e+00, 1.57229550e-01, 1.42431005e-01],\n",
       "        [8.06021094e-15, 7.76291942e-15, 5.06323331e-13]],\n",
       "\n",
       "       [[3.72471210e-01, 0.00000000e+00, 3.24968859e-01],\n",
       "        [0.00000000e+00, 1.58750830e-01, 1.43809101e-01],\n",
       "        [1.43871518e-14, 1.38564984e-14, 9.03766749e-13]],\n",
       "\n",
       "       [[3.70914337e-01, 0.00000000e+00, 3.23610539e-01],\n",
       "        [0.00000000e+00, 1.60280409e-01, 1.45194715e-01],\n",
       "        [2.56794578e-14, 2.47323008e-14, 1.61312262e-12]],\n",
       "\n",
       "       [[3.69349097e-01, 0.00000000e+00, 3.22244918e-01],\n",
       "        [0.00000000e+00, 1.61818209e-01, 1.46587776e-01],\n",
       "        [4.58331158e-14, 4.41426146e-14, 2.87912761e-12]],\n",
       "\n",
       "       [[3.67775572e-01, 0.00000000e+00, 3.20872069e-01],\n",
       "        [0.00000000e+00, 1.63364148e-01, 1.47988210e-01],\n",
       "        [8.18003820e-14, 7.87832699e-14, 5.13850596e-12]],\n",
       "\n",
       "       [[3.66193846e-01, 0.00000000e+00, 3.19492065e-01],\n",
       "        [0.00000000e+00, 1.64918145e-01, 1.49395944e-01],\n",
       "        [1.45986806e-13, 1.40602252e-13, 9.17054482e-12]],\n",
       "\n",
       "       [[3.64604006e-01, 0.00000000e+00, 3.18104983e-01],\n",
       "        [0.00000000e+00, 1.66480113e-01, 1.50810898e-01],\n",
       "        [2.60527824e-13, 2.50918558e-13, 1.63657399e-11]],\n",
       "\n",
       "       [[3.63006142e-01, 0.00000000e+00, 3.16710899e-01],\n",
       "        [0.00000000e+00, 1.68049965e-01, 1.52232995e-01],\n",
       "        [4.64918429e-13, 4.47770453e-13, 2.92050728e-11]],\n",
       "\n",
       "       [[3.61400346e-01, 0.00000000e+00, 3.15309894e-01],\n",
       "        [0.00000000e+00, 1.69627609e-01, 1.53662151e-01],\n",
       "        [8.29624299e-13, 7.99024570e-13, 5.21150305e-11]],\n",
       "\n",
       "       [[3.59786711e-01, 0.00000000e+00, 3.13902052e-01],\n",
       "        [0.00000000e+00, 1.71212955e-01, 1.55098282e-01],\n",
       "        [1.48036269e-12, 1.42576123e-12, 9.29928725e-11]],\n",
       "\n",
       "       [[3.58165335e-01, 0.00000000e+00, 3.12487455e-01],\n",
       "        [0.00000000e+00, 1.72805906e-01, 1.56541304e-01],\n",
       "        [2.64141521e-12, 2.54398968e-12, 1.65927438e-10]],\n",
       "\n",
       "       [[3.56536317e-01, 0.00000000e+00, 3.11066190e-01],\n",
       "        [0.00000000e+00, 1.74406365e-01, 1.57991127e-01],\n",
       "        [4.71288682e-12, 4.53905747e-12, 2.96052370e-10]],\n",
       "\n",
       "       [[3.54899759e-01, 0.00000000e+00, 3.09638347e-01],\n",
       "        [0.00000000e+00, 1.76014233e-01, 1.59447661e-01],\n",
       "        [8.40851014e-12, 8.09837201e-12, 5.28202661e-10]],\n",
       "\n",
       "       [[3.53255764e-01, 0.00000000e+00, 3.08204015e-01],\n",
       "        [0.00000000e+00, 1.77629407e-01, 1.60910814e-01],\n",
       "        [1.50014320e-11, 1.44481216e-11, 9.42354369e-10]],\n",
       "\n",
       "       [[3.51604438e-01, 0.00000000e+00, 3.06763288e-01],\n",
       "        [0.00000000e+00, 1.79251783e-01, 1.62380490e-01],\n",
       "        [2.67625764e-11, 2.57754698e-11, 1.68116156e-09]],\n",
       "\n",
       "       [[3.49945890e-01, 0.00000000e+00, 3.05316259e-01],\n",
       "        [0.00000000e+00, 1.80881253e-01, 1.63856594e-01],\n",
       "        [4.77424367e-11, 4.59815124e-11, 2.99906662e-09]],\n",
       "\n",
       "       [[3.48280231e-01, 0.00000000e+00, 3.03863027e-01],\n",
       "        [0.00000000e+00, 1.82517710e-01, 1.65339027e-01],\n",
       "        [8.51652880e-11, 8.20240653e-11, 5.34988137e-09]],\n",
       "\n",
       "       [[3.46607574e-01, 0.00000000e+00, 3.02403689e-01],\n",
       "        [0.00000000e+00, 1.84161041e-01, 1.66827687e-01],\n",
       "        [1.51915454e-10, 1.46312229e-10, 9.54296845e-09]],\n",
       "\n",
       "       [[3.44928033e-01, 0.00000000e+00, 3.00938345e-01],\n",
       "        [0.00000000e+00, 1.85811133e-01, 1.68322471e-01],\n",
       "        [2.70970812e-10, 2.60976368e-10, 1.70217436e-08]],\n",
       "\n",
       "       [[3.43241727e-01, 0.00000000e+00, 2.99467098e-01],\n",
       "        [0.00000000e+00, 1.87467870e-01, 1.69823274e-01],\n",
       "        [4.83308251e-10, 4.65481988e-10, 3.03602779e-08]],\n",
       "\n",
       "       [[3.41548773e-01, 0.00000000e+00, 2.97990051e-01],\n",
       "        [0.00000000e+00, 1.89131132e-01, 1.71329989e-01],\n",
       "        [8.61999418e-10, 8.30205570e-10, 5.41487586e-08]],\n",
       "\n",
       "       [[3.39849290e-01, 0.00000000e+00, 2.96507309e-01],\n",
       "        [0.00000000e+00, 1.90800797e-01, 1.72842504e-01],\n",
       "        [1.53734281e-09, 1.48063971e-09, 9.65722288e-08]],\n",
       "\n",
       "       [[3.38143399e-01, 0.00000000e+00, 2.95018975e-01],\n",
       "        [0.00000000e+00, 1.92476742e-01, 1.74360708e-01],\n",
       "        [2.74167127e-09, 2.64054791e-09, 1.72225285e-07]],\n",
       "\n",
       "       [[3.36431216e-01, 0.00000000e+00, 2.93525152e-01],\n",
       "        [0.00000000e+00, 1.94158834e-01, 1.75884481e-01],\n",
       "        [4.88923447e-09, 4.70890073e-09, 3.07130111e-07]],\n",
       "\n",
       "       [[3.34712856e-01, 0.00000000e+00, 2.92025939e-01],\n",
       "        [0.00000000e+00, 1.95846940e-01, 1.77413701e-01],\n",
       "        [8.71860665e-09, 8.39703097e-09, 5.47682188e-07]],\n",
       "\n",
       "       [[3.32988420e-01, 0.00000000e+00, 2.90521426e-01],\n",
       "        [0.00000000e+00, 1.97540912e-01, 1.78948235e-01],\n",
       "        [1.55465466e-08, 1.49731303e-08, 9.76597181e-07]],\n",
       "\n",
       "       [[3.31257993e-01, 0.00000000e+00, 2.89011685e-01],\n",
       "        [0.00000000e+00, 1.99240588e-01, 1.80487937e-01],\n",
       "        [2.77205142e-08, 2.66980752e-08, 1.74133694e-06]],\n",
       "\n",
       "       [[3.29521622e-01, 0.00000000e+00, 2.87496759e-01],\n",
       "        [0.00000000e+00, 2.00945781e-01, 1.82032636e-01],\n",
       "        [4.94252579e-08, 4.76022647e-08, 3.10477746e-06]],\n",
       "\n",
       "       [[3.27779289e-01, 0.00000000e+00, 2.85976631e-01],\n",
       "        [0.00000000e+00, 2.02656254e-01, 1.83582118e-01],\n",
       "        [8.81204382e-08, 8.48702181e-08, 5.53551689e-06]],\n",
       "\n",
       "       [[3.26030857e-01, 0.00000000e+00, 2.84451181e-01],\n",
       "        [0.00000000e+00, 2.04371689e-01, 1.85136095e-01],\n",
       "        [1.57102811e-07, 1.51308257e-07, 9.86882594e-06]],\n",
       "\n",
       "       [[3.24275981e-01, 0.00000000e+00, 2.82920109e-01],\n",
       "        [0.00000000e+00, 2.06091621e-01, 1.86694146e-01],\n",
       "        [2.80072291e-07, 2.69742150e-07, 1.75934769e-05]],\n",
       "\n",
       "       [[3.22513937e-01, 0.00000000e+00, 2.81382784e-01],\n",
       "        [0.00000000e+00, 2.07815323e-01, 1.88255612e-01],\n",
       "        [4.99268265e-07, 4.80853335e-07, 3.13628481e-05]],\n",
       "\n",
       "       [[3.20743341e-01, 0.00000000e+00, 2.79837997e-01],\n",
       "        [0.00000000e+00, 2.09541599e-01, 1.89819410e-01],\n",
       "        [8.89965630e-07, 8.57140281e-07, 5.59055297e-05]],\n",
       "\n",
       "       [[3.18961625e-01, 0.00000000e+00, 2.78283509e-01],\n",
       "        [0.00000000e+00, 2.11268411e-01, 1.91383694e-01],\n",
       "        [1.58629565e-06, 1.52778698e-06, 9.96473298e-05]],\n",
       "\n",
       "       [[3.17164132e-01, 0.00000000e+00, 2.76715256e-01],\n",
       "        [0.00000000e+00, 2.12992213e-01, 1.92945250e-01],\n",
       "        [2.82722178e-06, 2.72294299e-06, 1.77599366e-04]],\n",
       "\n",
       "       [[3.15342504e-01, 0.00000000e+00, 2.75125945e-01],\n",
       "        [0.00000000e+00, 2.14706749e-01, 1.94498413e-01],\n",
       "        [5.03835117e-06, 4.85251744e-06, 3.16497269e-04]],\n",
       "\n",
       "       [[3.13481834e-01, 0.00000000e+00, 2.73502572e-01],\n",
       "        [0.00000000e+00, 2.16400913e-01, 1.96033121e-01],\n",
       "        [8.97735529e-06, 8.64623596e-06, 5.63936163e-04]],\n",
       "\n",
       "       [[3.11555646e-01, 0.00000000e+00, 2.71822037e-01],\n",
       "        [0.00000000e+00, 2.18054906e-01, 1.97531439e-01],\n",
       "        [1.59919629e-05, 1.54021179e-05, 1.00457717e-03]],\n",
       "\n",
       "       [[3.09517080e-01, 0.00000000e+00, 2.70043454e-01],\n",
       "        [0.00000000e+00, 2.19633399e-01, 1.98961363e-01],\n",
       "        [2.84761241e-05, 2.74258153e-05, 1.78880257e-03]],\n",
       "\n",
       "       [[3.07283485e-01, 0.00000000e+00, 2.68094716e-01],\n",
       "        [0.00000000e+00, 2.21073409e-01, 2.00265839e-01],\n",
       "        [5.06717134e-05, 4.88027461e-05, 3.18307683e-03]],\n",
       "\n",
       "       [[3.04709833e-01, 0.00000000e+00, 2.65849290e-01],\n",
       "        [0.00000000e+00, 2.22263058e-01, 2.01343517e-01],\n",
       "        [9.00622830e-05, 8.67404403e-05, 5.65749897e-03]],\n",
       "\n",
       "       [[3.01543731e-01, 0.00000000e+00, 2.63086970e-01],\n",
       "        [0.00000000e+00, 2.23005023e-01, 2.02015648e-01],\n",
       "        [1.59748540e-04, 1.53856400e-04, 1.00350243e-02]],\n",
       "\n",
       "       [[2.97352157e-01, 0.00000000e+00, 2.59429960e-01],\n",
       "        [0.00000000e+00, 2.22955895e-01, 2.01971144e-01],\n",
       "        [2.82350004e-04, 2.71935852e-04, 1.77365575e-02]],\n",
       "\n",
       "       [[2.91410792e-01, 0.00000000e+00, 2.54246315e-01],\n",
       "        [0.00000000e+00, 2.21532284e-01, 2.00681524e-01],\n",
       "        [4.95966620e-04, 4.77673467e-04, 3.11554466e-02]],\n",
       "\n",
       "       [[2.82562135e-01, 0.00000000e+00, 2.46526153e-01],\n",
       "        [0.00000000e+00, 2.17785461e-01, 1.97287354e-01],\n",
       "        [8.61967504e-04, 8.30174834e-04, 5.41467539e-02]],\n",
       "\n",
       "       [[2.69105795e-01, 0.00000000e+00, 2.34785940e-01],\n",
       "        [0.00000000e+00, 2.10291392e-01, 1.90498632e-01],\n",
       "        [1.47139776e-03, 1.41712696e-03, 9.24297170e-02]],\n",
       "\n",
       "       [[2.48921173e-01, 0.00000000e+00, 2.17175522e-01],\n",
       "        [0.00000000e+00, 1.97216756e-01, 1.78654589e-01],\n",
       "        [2.43948972e-03, 2.34951198e-03, 1.53242957e-01]],\n",
       "\n",
       "       [[2.20199298e-01, 0.00000000e+00, 1.92116633e-01],\n",
       "        [0.00000000e+00, 1.76881100e-01, 1.60232937e-01],\n",
       "        [3.86797089e-03, 3.72530527e-03, 2.42976756e-01]],\n",
       "\n",
       "       [[1.83007816e-01, 0.00000000e+00, 1.59668290e-01],\n",
       "        [0.00000000e+00, 1.49045430e-01, 1.35017179e-01],\n",
       "        [5.76191724e-03, 5.54939561e-03, 3.61949973e-01]],\n",
       "\n",
       "       [[1.40807131e-01, 0.00000000e+00, 1.22849583e-01],\n",
       "        [0.00000000e+00, 1.16267197e-01, 1.05324054e-01],\n",
       "        [7.94606550e-03, 7.65298410e-03, 4.99152985e-01]],\n",
       "\n",
       "       [[9.97957360e-02, 0.00000000e+00, 8.70684917e-02],\n",
       "        [0.00000000e+00, 8.35464618e-02, 7.56830155e-02],\n",
       "        [1.00941461e-02, 9.72183525e-03, 6.34090314e-01]],\n",
       "\n",
       "       [[6.56399184e-02, 0.00000000e+00, 5.72686662e-02],\n",
       "        [0.00000000e+00, 5.57144228e-02, 5.04705458e-02],\n",
       "        [1.19002407e-02, 1.14613142e-02, 7.47544892e-01]],\n",
       "\n",
       "       [[4.07113692e-02, 0.00000000e+00, 3.55193283e-02],\n",
       "        [0.00000000e+00, 3.50347351e-02, 3.17372435e-02],\n",
       "        [1.32291985e-02, 1.27412549e-02, 8.31026870e-01]],\n",
       "\n",
       "       [[2.42330453e-02, 0.00000000e+00, 2.11425336e-02],\n",
       "        [0.00000000e+00, 2.11433914e-02, 1.91533619e-02],\n",
       "        [1.41141891e-02, 1.35936036e-02, 8.86619875e-01]],\n",
       "\n",
       "       [[1.40477018e-02, 0.00000000e+00, 1.22561570e-02],\n",
       "        [0.00000000e+00, 1.24266899e-02, 1.12570819e-02],\n",
       "        [1.46650426e-02, 1.41241395e-02, 9.21223187e-01]],\n",
       "\n",
       "       [[8.01306610e-03, 0.00000000e+00, 6.99113616e-03],\n",
       "        [0.00000000e+00, 7.18674826e-03, 6.51032693e-03],\n",
       "        [1.49936333e-02, 1.44406106e-02, 9.41864479e-01]],\n",
       "\n",
       "       [[4.52759649e-03, 0.00000000e+00, 3.95017877e-03],\n",
       "        [0.00000000e+00, 4.11703869e-03, 3.72954038e-03],\n",
       "        [1.51846920e-02, 1.46246223e-02, 9.53866331e-01]],\n",
       "\n",
       "       [[1.10064536e-21, 0.00000000e+00, 9.60276818e-22],\n",
       "        [0.00000000e+00, 1.01472455e-21, 9.19218029e-22],\n",
       "        [6.61630921e-21, 6.37227433e-21, 4.15620850e-19]]])"
      ]
     },
     "execution_count": 200,
     "metadata": {},
     "output_type": "execute_result"
    }
   ],
   "source": [
    "beliefs_l_t = np.empty(shape = (T-1,3,3))                                       # Initializing beliefs (t,C_t,C_{t+1})\n",
    "beliefs_l_t[T-2,:,:] = beliefs_l_T_minus_1                                         # Defining first belief       \n",
    "delta_li1_i_list = np.empty(shape = (T-2,3))                                    # Initializing messages (t, C_{t+1}) t=1,...,T-1\n",
    "for t in range(T-3,-1,-1):                                                       # Compute delta_{L_t+1} to L_t\n",
    "    for c_val in range(3):                                                      \n",
    "        delta_li1_i_list[t,c_val] =  sum([beliefs_l_t[t+1,c_val,c] / delta_li_i1_list[t,c_val] for c in [0,1,2]])         # Summing out C_{t+1}\n",
    "    delta_li1_i_list[t,:] /= sum(delta_li1_i_list[t,:])                                                                 # Normalizing\n",
    "    for c_val in range(3):\n",
    "        beliefs_l_t[t, c_val,:] = psi_l_i[c_val,:] * np.prod(delta_mi_li_list[t,:,:], axis = 0) * delta_li1_i_list[t,c_val] # Calculating beliefs \n",
    "    beliefs_l_t[t,:,:] /= np.sum(np.sum(beliefs_l_t[t,:,:], axis = 1), axis = 0)\n",
    "\n",
    "beliefs_l_t"
   ]
  },
  {
   "cell_type": "markdown",
   "metadata": {},
   "source": [
    "We here calculate the meesages from the $C_t,C_{t+1}$ cliques to $Z_{ti},C_t$ cliques."
   ]
  },
  {
   "cell_type": "code",
   "execution_count": 201,
   "metadata": {},
   "outputs": [
    {
     "data": {
      "text/plain": [
       "array([[[6.91740547e-01, 3.08259453e-01, 2.29227897e-23],\n",
       "        [3.48666021e-01, 6.51333979e-01, 1.57727575e-23],\n",
       "        [6.91740547e-01, 3.08259453e-01, 2.29227897e-23],\n",
       "        ...,\n",
       "        [6.91740547e-01, 3.08259453e-01, 2.29227897e-23],\n",
       "        [9.73101393e-01, 2.68986074e-02, 5.10911568e-24],\n",
       "        [9.54719943e-01, 4.52800574e-02, 8.01109973e-24]],\n",
       "\n",
       "       [[6.87482211e-01, 3.12517789e-01, 4.74118010e-23],\n",
       "        [3.44161711e-01, 6.55838289e-01, 3.24012154e-23],\n",
       "        [6.87482211e-01, 3.12517789e-01, 4.74118010e-23],\n",
       "        ...,\n",
       "        [6.87482211e-01, 3.12517789e-01, 4.74118010e-23],\n",
       "        [9.72575720e-01, 2.74242799e-02, 1.06270278e-23],\n",
       "        [9.53852082e-01, 4.61479182e-02, 1.66570437e-23]],\n",
       "\n",
       "       [[6.84193888e-01, 3.15806112e-01, 8.62280606e-23],\n",
       "        [3.40725170e-01, 6.59274830e-01, 5.86202148e-23],\n",
       "        [6.84193888e-01, 3.15806112e-01, 8.62280606e-23],\n",
       "        ...,\n",
       "        [6.84193888e-01, 3.15806112e-01, 8.62280606e-23],\n",
       "        [9.72165708e-01, 2.78342915e-02, 1.94121273e-23],\n",
       "        [9.53175616e-01, 4.68243836e-02, 3.04182523e-23]],\n",
       "\n",
       "       ...,\n",
       "\n",
       "       [[6.52505603e-03, 1.11537431e-02, 9.82321201e-01],\n",
       "        [4.67988541e-03, 3.35345553e-02, 9.61785559e-01],\n",
       "        [6.52505603e-03, 1.11537431e-02, 9.82321201e-01],\n",
       "        ...,\n",
       "        [6.52505603e-03, 1.11537431e-02, 9.82321201e-01],\n",
       "        [4.00665681e-02, 4.24831852e-03, 9.55685113e-01],\n",
       "        [2.54435750e-02, 4.62884171e-03, 9.69927583e-01]],\n",
       "\n",
       "       [[3.66879888e-03, 6.35834113e-03, 9.89972860e-01],\n",
       "        [2.65515628e-03, 1.92899431e-02, 9.78054901e-01],\n",
       "        [3.66879888e-03, 6.35834113e-03, 9.89972860e-01],\n",
       "        ...,\n",
       "        [3.66879888e-03, 6.35834113e-03, 9.89972860e-01],\n",
       "        [2.27997512e-02, 2.45102962e-03, 9.74749219e-01],\n",
       "        [1.43861538e-02, 2.65352035e-03, 9.82960326e-01]],\n",
       "\n",
       "       [[3.51068316e-01, 1.53703439e-01, 4.95228245e-01],\n",
       "        [2.10039037e-01, 3.85489812e-01, 4.04471150e-01],\n",
       "        [3.51068316e-01, 1.53703439e-01, 4.95228245e-01],\n",
       "        ...,\n",
       "        [3.51068316e-01, 1.53703439e-01, 4.95228245e-01],\n",
       "        [7.99579510e-01, 2.17146151e-02, 1.78705875e-01],\n",
       "        [7.12356566e-01, 3.31930518e-02, 2.54450383e-01]]])"
      ]
     },
     "execution_count": 201,
     "metadata": {},
     "output_type": "execute_result"
    }
   ],
   "source": [
    "delta_li_mi_list = np.empty(shape = (T,n,3)) #(t,n, C_t) t=1,...,T\n",
    "for t in range(T-1):\n",
    "        for i in range(n):\n",
    "            for c_val in range(3):\n",
    "                # Summing out C_{t+1}\n",
    "                delta_li_mi_list[t, i, c_val] = sum([beliefs_l_t[t, c_val, c_plus] / delta_mi_li_list[t, i , c_val]  for c_plus in [0,1,2]])\n",
    "            # Normalizing\n",
    "            delta_li_mi_list[t,i,:] /= sum(delta_li_mi_list[t,i,:]) \n",
    "# The last clique is special\n",
    "for i in range(n): \n",
    "    for c_plus in range(3):\n",
    "        # Summing out C_{T-1}\n",
    "        delta_li_mi_list[T-1, i, c_plus] = sum([beliefs_l_t[0, c_val, c_plus] / delta_mi_li_list[T-1 , i, c_plus] for c_val in [0,1,2]])\n",
    "    # Normalizing\n",
    "    delta_li_mi_list[T-1,i,:] /= sum(delta_li_mi_list[T-1,i,:])            \n",
    "\n",
    "delta_li_mi_list"
   ]
  },
  {
   "cell_type": "code",
   "execution_count": 202,
   "metadata": {},
   "outputs": [],
   "source": [
    "beliefs_m_t_i = np.empty(shape = (T,n,3,2)) # (t,i,C_t,Z_{ti})\n",
    "for t in range(T-1):\n",
    "    for i in range(n):\n",
    "        for c_val in range(3):\n",
    "            beliefs_m_t_i[t,i,c_val,:] = [psi_m[c_val,z] * delta_li_mi_list[t,i,c_val] * delta_ni_mi_list[t][i](z) for z in [0,1]]\n",
    "        beliefs_m_t_i[t,i,:,:] /= np.sum(np.sum(beliefs_m_t_i, axis = 3), axis = 2)[t,i]         #(t,i,C_t,Z_{ti})"
   ]
  },
  {
   "cell_type": "markdown",
   "metadata": {},
   "source": [
    "Infering $P(C_t | X)$"
   ]
  },
  {
   "cell_type": "code",
   "execution_count": 203,
   "metadata": {},
   "outputs": [],
   "source": [
    "def p_c_t_cond_x(t):\n",
    "    if t == T:\n",
    "        return np.sum(beliefs_l_t[t-2,:,:], axis = 0)\n",
    "    return np.sum(beliefs_l_t[t-1,:,:], axis = 1)"
   ]
  },
  {
   "cell_type": "code",
   "execution_count": 205,
   "metadata": {},
   "outputs": [
    {
     "data": {
      "text/plain": [
       "array([6.76710240e-01, 3.23289760e-01, 5.37436793e-11])"
      ]
     },
     "execution_count": 205,
     "metadata": {},
     "output_type": "execute_result"
    }
   ],
   "source": [
    "p_c_t_cond_x(50)"
   ]
  },
  {
   "cell_type": "markdown",
   "metadata": {},
   "source": [
    "Infering $P(Z_ti|X)$"
   ]
  },
  {
   "cell_type": "code",
   "execution_count": 207,
   "metadata": {},
   "outputs": [],
   "source": [
    "def p_z_t_i_cond_x(t,i):\n",
    "    return np.sum(beliefs_m_t_i[t-1,i-1,:,:], axis = 1)"
   ]
  },
  {
   "cell_type": "code",
   "execution_count": 208,
   "metadata": {},
   "outputs": [
    {
     "data": {
      "text/plain": [
       "array([6.45866378e-01, 3.54133604e-01, 1.75536908e-08])"
      ]
     },
     "execution_count": 208,
     "metadata": {},
     "output_type": "execute_result"
    }
   ],
   "source": [
    "p_z_t_i_cond_x(60,7)"
   ]
  },
  {
   "cell_type": "markdown",
   "metadata": {},
   "source": [
    "## Checks"
   ]
  },
  {
   "cell_type": "markdown",
   "metadata": {},
   "source": [
    "We can check by logistic regression:"
   ]
  },
  {
   "cell_type": "code",
   "execution_count": 209,
   "metadata": {},
   "outputs": [],
   "source": [
    "from sklearn.linear_model import LogisticRegression\n",
    "from sklearn.multioutput import MultiOutputClassifier\n",
    "lr_model = LogisticRegression(max_iter=10000)"
   ]
  },
  {
   "cell_type": "markdown",
   "metadata": {},
   "source": [
    "We first simulate data so that we can learn the logistic model"
   ]
  },
  {
   "cell_type": "code",
   "execution_count": 210,
   "metadata": {},
   "outputs": [],
   "source": [
    "n1 = 1000\n",
    "n2 = 10\n",
    "T = 100\n",
    "\n",
    "np.random.seed(42)\n",
    "\n",
    "C_train, Z_train, X_train = np.empty(shape=(n1,T)), np.empty(shape=(n1,T,n2)), np.empty(shape=(n1,T,n2))\n",
    "\n",
    "for i in range(n1):\n",
    "    C_train[i], Z_train[i], X_train[i] = sim(n2,T)"
   ]
  },
  {
   "cell_type": "code",
   "execution_count": 211,
   "metadata": {},
   "outputs": [],
   "source": [
    "# Function that returns probabilities of the Y -variables cond the Xs\n",
    "\n",
    "def logistic_reg_check(Y_train, X_train, Xs):\n",
    "    # Fit model\n",
    "    lr_model.fit(X_train, Y_train)\n",
    "    # Return predicted probabilities\n",
    "    return lr_model.predict_proba(Xs)"
   ]
  },
  {
   "cell_type": "code",
   "execution_count": 214,
   "metadata": {},
   "outputs": [
    {
     "data": {
      "text/plain": [
       "array([[0.00231345, 0.00702152, 0.99066504]])"
      ]
     },
     "execution_count": 214,
     "metadata": {},
     "output_type": "execute_result"
    }
   ],
   "source": [
    "logistic_reg_check(C_train[:,6], X_train[:,5:8,:].reshape((n1, 3*n2)), [X[5:8,:].reshape(3*n2)])"
   ]
  },
  {
   "cell_type": "code",
   "execution_count": 215,
   "metadata": {},
   "outputs": [
    {
     "data": {
      "text/plain": [
       "array([7.93296144e-01, 2.06703856e-01, 4.45073272e-22])"
      ]
     },
     "execution_count": 215,
     "metadata": {},
     "output_type": "execute_result"
    }
   ],
   "source": [
    "p_c_t_cond_x(6)                                                               "
   ]
  },
  {
   "cell_type": "markdown",
   "metadata": {},
   "source": [
    "## Checking the mean of the random variable $1(Z_{ti} = z)-P(Z_{ti} = z | X = x)$"
   ]
  },
  {
   "cell_type": "markdown",
   "metadata": {},
   "source": [
    "Using simulations you can compute such quantities, with $P(Z_{t,i} = z | X =x)$ computed by the inference algorithm, and empirically\n",
    "check if their averages across many replications of the simulations are zero."
   ]
  },
  {
   "cell_type": "code",
   "execution_count": null,
   "metadata": {},
   "outputs": [],
   "source": [
    "n1 = 1000\n",
    "n2 = 10\n",
    "T = 100\n",
    "\n",
    "np.random.seed(42)\n",
    "\n",
    "C_train, Z_train, X_train = np.empty(shape=(n1,T)), np.empty(shape=(n1,T,n2)), np.empty(shape=(n1,T,n2))\n",
    "\n",
    "for i in range(n1):\n",
    "    C_train[i], Z_train[i], X_train[i] = sim(n2,T)"
   ]
  },
  {
   "cell_type": "code",
   "execution_count": 187,
   "metadata": {},
   "outputs": [],
   "source": [
    "# An indicator of z\n",
    "# An entry i in the k'th column is == 1 if Z_ti == k and 0 if not\n",
    "def oneHot(z):\n",
    "    zs = np.zeros(shape = (len(z), 2))\n",
    "    for k in range(2):\n",
    "        zs[:, k] = [z[i]==k for i in range(len(z))]\n",
    "    return(zs)"
   ]
  },
  {
   "cell_type": "code",
   "execution_count": 221,
   "metadata": {},
   "outputs": [
    {
     "data": {
      "text/plain": [
       "-0.1442696787004029"
      ]
     },
     "execution_count": 221,
     "metadata": {},
     "output_type": "execute_result"
    }
   ],
   "source": [
    "np.mean(oneHot(Z_train[:,68,5])[:,0] - p_z_t_i_cond_x(68,5)[0])"
   ]
  },
  {
   "cell_type": "markdown",
   "metadata": {},
   "source": [
    "# Learning"
   ]
  },
  {
   "cell_type": "code",
   "execution_count": 38,
   "metadata": {},
   "outputs": [],
   "source": [
    "n = 3\n",
    "T = 5\n",
    "C, Z, X = sim(n,T)"
   ]
  },
  {
   "cell_type": "code",
   "execution_count": 184,
   "metadata": {},
   "outputs": [],
   "source": [
    "# A simple implementation of one-hot encoding\n",
    "# An entry i in the k'th column is == 1 if Z_i == k and 0 if not\n",
    "def oneHot(c):\n",
    "    cs = np.zeros(shape = (len(C), 3))\n",
    "    for k in range(3):\n",
    "        cs[:, k] = [C[i]==k for i in range(len(C))]\n",
    "    return(cs)"
   ]
  },
  {
   "cell_type": "code",
   "execution_count": 223,
   "metadata": {},
   "outputs": [],
   "source": [
    "def learn_par(C,Z,X):\n",
    "    n = X.shape[1]\n",
    "    T = X.shape[0]\n",
    "    lambda0 = sum(sum((Z[t]*X[t,:] for t in range(T))))/(n*T)\n",
    "    lambda1 = sum(sum(((np.ones(shape = 3)-Z[t])*X[t,:] for t in range(T))))/(n*T)\n",
    "    \n",
    "    return lambda0,lambda1\n",
    "    return(mu, sigma)"
   ]
  },
  {
   "cell_type": "code",
   "execution_count": 219,
   "metadata": {},
   "outputs": [
    {
     "ename": "TypeError",
     "evalue": "'numpy.int64' object is not iterable",
     "output_type": "error",
     "traceback": [
      "\u001b[0;31m---------------------------------------------------------------------------\u001b[0m",
      "\u001b[0;31mTypeError\u001b[0m                                 Traceback (most recent call last)",
      "Cell \u001b[0;32mIn[219], line 1\u001b[0m\n\u001b[0;32m----> 1\u001b[0m \u001b[43mlearn_par\u001b[49m\u001b[43m(\u001b[49m\u001b[43mC\u001b[49m\u001b[43m,\u001b[49m\u001b[43mZ\u001b[49m\u001b[43m,\u001b[49m\u001b[43mX\u001b[49m\u001b[43m)\u001b[49m\n",
      "Cell \u001b[0;32mIn[218], line 4\u001b[0m, in \u001b[0;36mlearn_par\u001b[0;34m(C, Z, X)\u001b[0m\n\u001b[1;32m      2\u001b[0m n \u001b[38;5;241m=\u001b[39m X\u001b[38;5;241m.\u001b[39mshape[\u001b[38;5;241m1\u001b[39m]\n\u001b[1;32m      3\u001b[0m T \u001b[38;5;241m=\u001b[39m X\u001b[38;5;241m.\u001b[39mshape[\u001b[38;5;241m0\u001b[39m]\n\u001b[0;32m----> 4\u001b[0m lambda0 \u001b[38;5;241m=\u001b[39m \u001b[38;5;28;43msum\u001b[39;49m\u001b[43m(\u001b[49m\u001b[38;5;28;43msum\u001b[39;49m\u001b[43m(\u001b[49m\u001b[43m(\u001b[49m\u001b[43mZ\u001b[49m\u001b[43m[\u001b[49m\u001b[43mt\u001b[49m\u001b[43m]\u001b[49m\u001b[38;5;241;43m*\u001b[39;49m\u001b[43mX\u001b[49m\u001b[43m[\u001b[49m\u001b[43mt\u001b[49m\u001b[43m,\u001b[49m\u001b[43m:\u001b[49m\u001b[43m]\u001b[49m\u001b[43m)\u001b[49m\u001b[43m)\u001b[49m\u001b[43m)\u001b[49m\u001b[38;5;241m/\u001b[39m(n\u001b[38;5;241m*\u001b[39mT)\n\u001b[1;32m      5\u001b[0m \u001b[38;5;66;03m#lambda1 = \u001b[39;00m\n\u001b[1;32m      6\u001b[0m \u001b[38;5;28;01mreturn\u001b[39;00m lambda0\n",
      "\u001b[0;31mTypeError\u001b[0m: 'numpy.int64' object is not iterable"
     ]
    }
   ],
   "source": [
    "learn_par(C,Z,X)"
   ]
  },
  {
   "cell_type": "code",
   "execution_count": 221,
   "metadata": {},
   "outputs": [
    {
     "data": {
      "text/plain": [
       "array([1., 1., 0.])"
      ]
     },
     "execution_count": 221,
     "metadata": {},
     "output_type": "execute_result"
    }
   ],
   "source": [
    "np.ones(shape = 3)-Z[0]"
   ]
  },
  {
   "cell_type": "code",
   "execution_count": 222,
   "metadata": {},
   "outputs": [
    {
     "data": {
      "text/plain": [
       "array([0, 0, 1])"
      ]
     },
     "execution_count": 222,
     "metadata": {},
     "output_type": "execute_result"
    }
   ],
   "source": [
    "Z[0]"
   ]
  },
  {
   "cell_type": "code",
   "execution_count": null,
   "metadata": {},
   "outputs": [],
   "source": []
  }
 ],
 "metadata": {
  "kernelspec": {
   "display_name": "Python 3",
   "language": "python",
   "name": "python3"
  },
  "language_info": {
   "codemirror_mode": {
    "name": "ipython",
    "version": 3
   },
   "file_extension": ".py",
   "mimetype": "text/x-python",
   "name": "python",
   "nbconvert_exporter": "python",
   "pygments_lexer": "ipython3",
   "version": "3.11.1"
  }
 },
 "nbformat": 4,
 "nbformat_minor": 2
}
