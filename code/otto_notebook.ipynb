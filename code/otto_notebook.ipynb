{
 "cells": [
  {
   "cell_type": "code",
   "execution_count": 73,
   "metadata": {},
   "outputs": [],
   "source": [
    "import numpy as np\n",
    "from scipy  import stats"
   ]
  },
  {
   "cell_type": "markdown",
   "metadata": {},
   "source": []
  },
  {
   "cell_type": "code",
   "execution_count": 68,
   "metadata": {},
   "outputs": [
    {
     "ename": "KeyboardInterrupt",
     "evalue": "",
     "output_type": "error",
     "traceback": [
      "\u001b[1;31m---------------------------------------------------------------------------\u001b[0m",
      "\u001b[1;31mKeyboardInterrupt\u001b[0m                         Traceback (most recent call last)",
      "Cell \u001b[1;32mIn[68], line 24\u001b[0m\n\u001b[0;32m     21\u001b[0m     Xs \u001b[38;5;241m=\u001b[39m np\u001b[38;5;241m.\u001b[39mreshape([np\u001b[38;5;241m.\u001b[39mrandom\u001b[38;5;241m.\u001b[39mpoisson(\u001b[38;5;241m1\u001b[39m\u001b[38;5;241m+\u001b[39m\u001b[38;5;241m4\u001b[39m\u001b[38;5;241m*\u001b[39mz) \u001b[38;5;28;01mfor\u001b[39;00m z \u001b[38;5;129;01min\u001b[39;00m Z_flat], newshape\u001b[38;5;241m=\u001b[39m(T, n))\n\u001b[0;32m     22\u001b[0m     \u001b[38;5;28;01mreturn\u001b[39;00m [Cs, Zs, Xs]\n\u001b[1;32m---> 24\u001b[0m ls \u001b[38;5;241m=\u001b[39m \u001b[43msim\u001b[49m\u001b[43m(\u001b[49m\u001b[43mn\u001b[49m\u001b[43m \u001b[49m\u001b[38;5;241;43m=\u001b[39;49m\u001b[43m \u001b[49m\u001b[38;5;241;43m10000\u001b[39;49m\u001b[43m,\u001b[49m\u001b[43m \u001b[49m\u001b[43mT\u001b[49m\u001b[43m \u001b[49m\u001b[38;5;241;43m=\u001b[39;49m\u001b[43m \u001b[49m\u001b[38;5;241;43m10000\u001b[39;49m\u001b[43m,\u001b[49m\u001b[43m \u001b[49m\u001b[43mC1\u001b[49m\u001b[43m \u001b[49m\u001b[38;5;241;43m=\u001b[39;49m\u001b[43m \u001b[49m\u001b[38;5;241;43m2\u001b[39;49m\u001b[43m)\u001b[49m\n",
      "Cell \u001b[1;32mIn[68], line 21\u001b[0m, in \u001b[0;36msim\u001b[1;34m(n, T, C1)\u001b[0m\n\u001b[0;32m     19\u001b[0m Zs \u001b[38;5;241m=\u001b[39m [generate_z_t(C, n \u001b[38;5;241m=\u001b[39m n) \u001b[38;5;28;01mfor\u001b[39;00m C \u001b[38;5;129;01min\u001b[39;00m Cs]\n\u001b[0;32m     20\u001b[0m Z_flat \u001b[38;5;241m=\u001b[39m np\u001b[38;5;241m.\u001b[39marray(Zs)\u001b[38;5;241m.\u001b[39mflat\n\u001b[1;32m---> 21\u001b[0m Xs \u001b[38;5;241m=\u001b[39m np\u001b[38;5;241m.\u001b[39mreshape([np\u001b[38;5;241m.\u001b[39mrandom\u001b[38;5;241m.\u001b[39mpoisson(\u001b[38;5;241m1\u001b[39m\u001b[38;5;241m+\u001b[39m\u001b[38;5;241m4\u001b[39m\u001b[38;5;241m*\u001b[39mz) \u001b[38;5;28;01mfor\u001b[39;00m z \u001b[38;5;129;01min\u001b[39;00m Z_flat], newshape\u001b[38;5;241m=\u001b[39m(T, n))\n\u001b[0;32m     22\u001b[0m \u001b[38;5;28;01mreturn\u001b[39;00m [Cs, Zs, Xs]\n",
      "Cell \u001b[1;32mIn[68], line 21\u001b[0m, in \u001b[0;36m<listcomp>\u001b[1;34m(.0)\u001b[0m\n\u001b[0;32m     19\u001b[0m Zs \u001b[38;5;241m=\u001b[39m [generate_z_t(C, n \u001b[38;5;241m=\u001b[39m n) \u001b[38;5;28;01mfor\u001b[39;00m C \u001b[38;5;129;01min\u001b[39;00m Cs]\n\u001b[0;32m     20\u001b[0m Z_flat \u001b[38;5;241m=\u001b[39m np\u001b[38;5;241m.\u001b[39marray(Zs)\u001b[38;5;241m.\u001b[39mflat\n\u001b[1;32m---> 21\u001b[0m Xs \u001b[38;5;241m=\u001b[39m np\u001b[38;5;241m.\u001b[39mreshape([np\u001b[38;5;241m.\u001b[39mrandom\u001b[38;5;241m.\u001b[39mpoisson(\u001b[38;5;241m1\u001b[39m\u001b[38;5;241m+\u001b[39m\u001b[38;5;241m4\u001b[39m\u001b[38;5;241m*\u001b[39mz) \u001b[38;5;28;01mfor\u001b[39;00m z \u001b[38;5;129;01min\u001b[39;00m Z_flat], newshape\u001b[38;5;241m=\u001b[39m(T, n))\n\u001b[0;32m     22\u001b[0m \u001b[38;5;28;01mreturn\u001b[39;00m [Cs, Zs, Xs]\n",
      "\u001b[1;31mKeyboardInterrupt\u001b[0m: "
     ]
    }
   ],
   "source": [
    "#Generate full data\n",
    "def sim(alpha = 0.9, beta = 0.2, \n",
    "        gamma = 0.1, lambda0 = 1, lambda1 =5, n = 100, T = 10, C1 = 2):\n",
    "    \n",
    "    matrix_CPD = np.array([1-gamma, 0 , gamma]\n",
    "                          , [0, 1-gamma, gamma], \n",
    "                          [beta/2, beta/2, 1-beta])\n",
    "    \n",
    "    translate_val = {(1,0,0): 0, (0,1,0): 1, (0,0,1): 2}\n",
    "    z_t_i_CPD = {0: 1-alpha, 1: alpha, 2: 0.5}\n",
    "\n",
    "    def generate_C(T = T, C1 = C1):\n",
    "        C_list = [C1]\n",
    "        for i in range(T-1):\n",
    "            C = translate_val[tuple(np.random.multinomial(1, pvals = CPD_C_plus(C_list[i]),))]\n",
    "            C_list.append(C)\n",
    "        return C_list\n",
    "\n",
    "    def generate_z_t(C_i, n = n):\n",
    "        return np.random.binomial(1, p = z_t_i_CPD[C_i], size = n)\n",
    "    \n",
    "    def CPD_C_plus(C_minus):\n",
    "        return list(matrix_CPD[C_minus])\n",
    "    \n",
    "    Cs = generate_C(T, C1)\n",
    "    Zs = [generate_z_t(C, n = n) for C in Cs]\n",
    "    Z_flat = np.array(Zs).flat\n",
    "    Xs = np.reshape([np.random.poisson(1+4*z) for z in Z_flat], newshape=(T, n))\n",
    "    return [Cs, Zs, Xs]\n",
    "\n",
    "ls = sim(n = 10000, T = 10000, C1 = 2)\n",
    "\n"
   ]
  }
 ],
 "metadata": {
  "kernelspec": {
   "display_name": "code",
   "language": "python",
   "name": "python3"
  },
  "language_info": {
   "codemirror_mode": {
    "name": "ipython",
    "version": 3
   },
   "file_extension": ".py",
   "mimetype": "text/x-python",
   "name": "python",
   "nbconvert_exporter": "python",
   "pygments_lexer": "ipython3",
   "version": "3.10.2"
  }
 },
 "nbformat": 4,
 "nbformat_minor": 2
}
