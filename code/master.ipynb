{
 "cells": [
  {
   "cell_type": "code",
   "execution_count": 23,
   "metadata": {},
   "outputs": [],
   "source": [
    "import numpy as np\n",
    "from scipy import stats\n",
    "import matplotlib.pyplot as plt\n",
    "import math\n",
    "from sklearn.linear_model import LogisticRegression\n",
    "#from sklearn.multioutput import MultiOutputClassifi"
   ]
  },
  {
   "cell_type": "markdown",
   "metadata": {},
   "source": [
    "## Part 1"
   ]
  },
  {
   "cell_type": "code",
   "execution_count": 275,
   "metadata": {},
   "outputs": [],
   "source": [
    "class Markov_model:\n",
    "    def __init__(self, T = 10, n = 2, alpha = 0.9, beta = 0.2, gamma = 0.1, lamb0 = 1, lamb1  = 5) -> None:\n",
    "        #Customizable values\n",
    "        self.alpha = alpha\n",
    "        self.beta = beta\n",
    "        self.gamma = gamma\n",
    "        self.lamb0 = lamb0\n",
    "        self.lamb1 = lamb1\n",
    "        self.T = T\n",
    "        self.n = n\n",
    "\n",
    "\n",
    "        #--- Given probabilities---\n",
    "        self.prob_C1 = np.array([0,0,1])\n",
    "        self.Z_given_C = np.array([[self.alpha, 1-self.alpha],[1-self.alpha, self.alpha], [0.5, 0.5]])  #(C, Z)\n",
    "        self.alpha_C = np.array([1-self.alpha, self.alpha, 0.5])\n",
    "\n",
    "        self.rates = [self.lamb0, self.lamb1]\n",
    "        self.Gamma = np.array([[1-self.gamma, 0, self.gamma], #(Ci, Ci_plus1)\n",
    "                          [0, 1-self.gamma, self.gamma], \n",
    "                          [self.beta/2, self.beta/2, 1-self.beta]])\n",
    "        self.model_values = [self.lamb0, self.lamb1, self.alpha, self.beta, self.gamma] \n",
    "        \n",
    "    def update_values(self):\n",
    "        self.Z_given_C = np.array([[self.alpha, 1-self.alpha],[1-self.alpha, self.alpha], [0.5, 0.5]])  #(C, Z)\n",
    "        self.rates = [self.lamb0, self.lamb1]\n",
    "        self.Gamma = np.array([[1-self.gamma, 0, self.gamma], #(Ci, Ci_plus1)\n",
    "                          [0, 1-self.gamma, self.gamma], \n",
    "                          [self.beta/2, self.beta/2, 1-self.beta]])\n",
    "        self.alpha_C = np.array([1-self.alpha, self.alpha, 0.5])\n",
    "        self.model_values = [self.lamb0, self.lamb1, self.alpha, self.beta, self.gamma]\n",
    "    \n",
    "    \n",
    "    def sim_data(self, n = 0 , T = 0, return_output = True):\n",
    "        if n == 0:\n",
    "            n = self.n\n",
    "        else:\n",
    "            self.n = n\n",
    "\n",
    "        if T == 0:\n",
    "            T = self.T\n",
    "        else:\n",
    "            self.T = T\n",
    "            \n",
    "        #Defining the three possible values of C\n",
    "        ck = np.arange(3)   \n",
    "\n",
    "        #Creating   random variables with probabilities based of the gamma matrix\n",
    "        C_transition = [\n",
    "            stats.rv_discrete(values=(ck,self.Gamma[0,])),#P(C_t |C_{t-1} = 0)\n",
    "            stats.rv_discrete(values=(ck,self.Gamma[1,])),#P(C_t |C_{t-1} = 1)\n",
    "            stats.rv_discrete(values=(ck,self.Gamma[2,])),#P(C_t |C_{t-1} = 2)\n",
    "        ]\n",
    "        \n",
    "        #Creating output vector of C's\n",
    "        C = np.zeros(self.T, np.int64)\n",
    "        \n",
    "        #Initializing the C vector\n",
    "        C[0] = 2\n",
    "\n",
    "        #Filling up the C-vector with values\n",
    "        for i in range(self.T-1):\n",
    "            C[i+1] = C_transition[C[i]].rvs()\n",
    "        self.C = C\n",
    "        \n",
    "        #Initializing Z. size=[n,T] specifies we need to create n copies of a series of T simulations\n",
    "        self.Z = stats.bernoulli([self.Z_given_C[c,1] for c in C]).rvs(size=[self.n,self.T])\n",
    "        #input:\n",
    "        '''\n",
    "        [C_1, C_2, ... C_T]\n",
    "        '''\n",
    "        #output: \n",
    "        '''[   \n",
    "            [Z_11, Z_21, Z_31, ... , Z_T1]\n",
    "            [Z_12, Z_22, Z_32, ... , Z_T2]\n",
    "            ...\n",
    "            [Z_1n, Z_2n, Z_3n, ... , Z_Tn]\n",
    "        ]'''\n",
    "\n",
    "        #Initialize X   \n",
    "        self.X = stats.poisson(np.where(self.Z, self.lamb1, self.lamb0)).rvs() #(n, T)\n",
    "        #input\n",
    "        '''[   \n",
    "            [f(Z_11), f(Z_21), f(Z_31), ... , f(Z_T1)]\n",
    "            [f(Z_12), f(Z_22), f(Z_32), ... , f(Z_T2)]\n",
    "            ...\n",
    "            [f(Z_1n), f(Z_2n), f(Z_3n), ... , f(Z_Tn)]\n",
    "            ]    \n",
    "            where\n",
    "            f(z) = lamb0+(lamb1-lamb0)*z\n",
    "        '''\n",
    "\n",
    "        #output\n",
    "        '''[   \n",
    "            [X_11, X_21, X_31, ... , X_T1]\n",
    "            [X_12, X_22, X_32, ... , X_T2]\n",
    "            ...\n",
    "            [X_1n, X_2n, X_3n, ... , X_Tn]\n",
    "        ]'''\n",
    "        if return_output:\n",
    "            return self.C, self.Z, self.X\n",
    "        else:\n",
    "            return\n",
    "    \n",
    "    def find_P_X_given_C(self):\n",
    "        self.P_X_given_Z = np.array([stats.poisson.pmf(k = self.X, mu = self.lamb0), #All of the potentials\n",
    "                            stats.poisson.pmf(k = self.X, mu = self.lamb1)]) #(Z, n, T)\n",
    "        \n",
    "        self.P_X_given_C = np.einsum(\"ZnT, CZ -> TnC\",self.P_X_given_Z, self.Z_given_C) #(Time, n, C)\n",
    "\n",
    "    def upwards_passing(self):\n",
    "        #Defining properties\n",
    "        delta_Mi_to_Li = np.empty(shape = (self.T-1, 3)) #(Time, Ci)\n",
    "        delta_Li_to_Mi_plus = np.empty(shape = (self.T-1, 3)) #(C_{i+1})\n",
    "        belief_Li = np.empty(shape = (self.T, 3, 3)) #(T, C_i, C_{i+1})\n",
    "    \n",
    "        for i in range(self.T-1):\n",
    "            #----------------Sending messages-------------\n",
    "            #finding message Ci, Zi -> Ci+, Ci+\n",
    "            if i == 0:\n",
    "                delta_Mi_to_Li[i] = np.prod(self.P_X_given_C[i,:,:], axis = 0)*self.prob_C1 #C1\n",
    "            else:\n",
    "                delta_Mi_to_Li[i] = np.prod(self.P_X_given_C[i,:,:], axis = 0)*delta_Li_to_Mi_plus[i-1] #Ci\n",
    "\n",
    "            #normalizing\n",
    "            delta_Mi_to_Li[i] /= np.sum(delta_Mi_to_Li[i])\n",
    "\n",
    "            #Finding belief Li\n",
    "            belief_Li[i] = np.einsum(\"cC,c -> cC\", self.Gamma, delta_Mi_to_Li[i]) #c old (C_{i}), C new (C_{i+1})\n",
    "            #normalizing\n",
    "            belief_Li[i] /= np.sum(belief_Li[i])\n",
    "            \n",
    "            #finding message Ci Ci+ -> Ci+, Zi+\n",
    "            delta_Li_to_Mi_plus[i] = np.sum(belief_Li[i], axis=0) #Summing out c old\n",
    "            \n",
    "            #normalizing\n",
    "            delta_Li_to_Mi_plus[i] /= np.sum(delta_Li_to_Mi_plus[i])\n",
    "\n",
    "        self.delta_Mi_to_Li = delta_Mi_to_Li\n",
    "        self.delta_Li_to_Mi_plus = delta_Li_to_Mi_plus\n",
    "        self.belief_Li = belief_Li\n",
    "        return \n",
    "    \n",
    "    def backwards_passing(self):\n",
    "        delta_Mi_plus_to_Li = np.empty(shape= (self.T-1, 3)) #T, C\n",
    "        delta_Li_to_Mi = np.empty(shape= (self.T -1, 3)) #T, C\n",
    "        updated_belief_Li = np.empty(shape = (self.T-1, 3, 3)) #T, c old (C_{i}), C new (C_{i+1})       \n",
    "\n",
    "        for i in range(self.T-1):\n",
    "            #---- SENDING MESSAGES ----- #\n",
    "            #find downwards message Mi+ -> Li\n",
    "            j = self.T -1 - i -1 #finding opposite direvtion\n",
    "            if i == 0: #then j = T-2, aka the last entry index in messages\n",
    "                delta_Mi_plus_to_Li[j] = np.prod(self.P_X_given_C[j+1,:,:], axis = 0) #(C)\n",
    "            else:\n",
    "                delta_Mi_plus_to_Li[j] = np.prod(self.P_X_given_C[j+1,:,:], axis = 0)*delta_Li_to_Mi[j+1] #(C)\n",
    "            #normalize\n",
    "            delta_Mi_plus_to_Li[j] /= np.max(delta_Mi_plus_to_Li[j])\n",
    "\n",
    "            # find message Li -> Mi\n",
    "            delta_Li_to_Mi[j] = np.einsum(\"cC,C -> c\", self.Gamma, delta_Mi_plus_to_Li[j]) #Summing out Ci+\n",
    "\n",
    "            #normalize\n",
    "            delta_Li_to_Mi[j] /= np.sum(delta_Li_to_Mi[j])\n",
    "\n",
    "            #----Update clique belief of Li\n",
    "\n",
    "            #find belief\n",
    "            updated_belief_Li[j] = np.einsum(\"cC, C -> cC\", \n",
    "                                             np.einsum(\"cC, c -> cC\", self.Gamma, self.delta_Mi_to_Li[j]), \n",
    "                                             delta_Mi_plus_to_Li[j]) #old c (ci), new C (C_{i+1})\n",
    "            #normalize\n",
    "            updated_belief_Li[j] /= np.sum(updated_belief_Li[j])\n",
    "            \n",
    "\n",
    "\n",
    "        self.updated_belief_Li = updated_belief_Li\n",
    "        self.delta_Li_to_Mi = delta_Li_to_Mi\n",
    "        self.delta_Mi_plus_to_Li = delta_Mi_plus_to_Li\n",
    "        \n",
    "    def find_C_probabilites(self):\n",
    "        #Define structures\n",
    "        C_prob = np.empty(shape = (self.T, 3, 2)) #Time, C, the two methods\n",
    "\n",
    "        for i in range(self.T-1):\n",
    "            #\n",
    "            guess_0 = np.sum(self.updated_belief_Li[i], axis=1) #summing out C_{i+1}\n",
    "            guess_1 = np.sum(self.updated_belief_Li[i], axis= 0) #summing out C_i\n",
    "            C_prob[i,:,0] = guess_0     #Time, C_val, left_cliques\n",
    "            C_prob[i+1,:,1] = guess_1   #Time, C_val, right_cliques\n",
    "        \n",
    "        #Filling in gaps\n",
    "        C_prob[0,:,1] = C_prob[0,:,0]   #First probability\n",
    "        C_prob[-1,:,0] = C_prob[-1,:,1] #last probability\n",
    "\n",
    "\n",
    "        self.C_probs = C_prob\n",
    "        self.C_prob = C_prob[:,:,0]\n",
    "        return \n",
    "\n",
    "    def find_Z_probabilities(self):\n",
    "        delta_Mi_to_Nij = np.empty(shape = (self.T, 2)) #Time, Z_val: This message is the same accross neurons, it is only time dependent\n",
    "\n",
    "        #Finding first T-1 messages\n",
    "        for i in range(self.T-1):\n",
    "            delta_Mi_to_Nij[i] = np.einsum(\"c, cZ -> Z\", self.delta_Li_to_Mi[i], self.Z_given_C)\n",
    "\n",
    "        #Finding last message\n",
    "        delta_Mi_to_Nij[-1] = np.einsum(\"C, CZ -> Z\", self.delta_Li_to_Mi_plus[-1], self.Z_given_C)      \n",
    "        \n",
    "        belief_Zij = np.einsum(\"TZ, ZnT -> nTZ\", delta_Mi_to_Nij, self.P_X_given_Z) #(T,Z) x (Z, n, T) -> (n, T,Z)\n",
    "        \n",
    "        row_sums = np.sum(belief_Zij, axis=-1)\n",
    "\n",
    "        #normalize\n",
    "        belief_Zij/= row_sums[..., np.newaxis]\n",
    "\n",
    "        self.belief_Zij = belief_Zij #(n, T, Z)\n",
    "        self.delta_MI_to_Nij = delta_Mi_to_Nij #(Time, Z)\n",
    "        return \n",
    "\n",
    "    def message_pass(self):\n",
    "        self.find_P_X_given_C() #time, C\n",
    "        self.upwards_passing()\n",
    "        self.backwards_passing()\n",
    "        self.find_C_probabilites()\n",
    "        self.find_Z_probabilities()\n",
    "        return self.C_prob, self.belief_Zij\n",
    "\n",
    "    def find_probabilities(self):\n",
    "        self.sim_data()\n",
    "        self.find_P_X_given_C() #time, C\n",
    "        self.upwards_passing()\n",
    "        self.backwards_passing()\n",
    "        self.find_C_probabilites()\n",
    "        self.find_Z_probabilities()\n",
    "        \n",
    "\n",
    "    def variable_prediction_precision(self):\n",
    "        self.find_probabilities()\n",
    "\n",
    "        self.accuracy_Z = [(self.Z == z) - self.belief_Zij[:,:,z] for z in range(2)] #Average distance from true value for Z\n",
    "        self.accuracy_C = [(self.C == i) - self.C_prob[:,i] for i in range(3)] #Average distance from true value for C's\n",
    "        return self.accuracy_C, self.accuracy_Z\n",
    "    \n",
    "    \n",
    "        \n",
    "\n",
    "def check_simulation(N, model):\n",
    "    val_c = np.empty(shape = (N, 3, model.T)) #N, C, T\n",
    "    val_Z = np.empty(shape = (N, 2, model.n, model.T)) #N, Z, n, T\n",
    "    for i in range(N):\n",
    "        sim_i = Markov_model(T = model.T, n = model.n)\n",
    "        val_c[i], val_Z[i] = sim_i.variable_prediction_precision()\n",
    "\n",
    "    print(\"Did N = \", N, \" simulations with n = \", model.n, \" and T = \", model.T)\n",
    "    print(\"greatest error for C is:\", np.around(np.max(np.abs(np.mean(val_c, axis = 0)))*100, decimals = 2), \"%\")\n",
    "    print(\"greatest error for Z is:\", np.around(np.max(np.abs(np.mean(val_Z, axis = 0)))*100, decimals = 2), \"%\")\n",
    "    print(\"Accuracy for estimates of C: \\n\", np.around(np.mean(val_c, axis = 0), decimals= 2))\n",
    "    print(\"Accuracy for estimates of Z: \\n\", np.around(np.mean(val_Z, axis = 0), decimals= 2))\n",
    "    return \n",
    "\n",
    "model = Markov_model(T = 10, n = 100)"
   ]
  },
  {
   "cell_type": "markdown",
   "metadata": {},
   "source": [
    "# Forward Simulation"
   ]
  },
  {
   "cell_type": "code",
   "execution_count": 16,
   "metadata": {},
   "outputs": [
    {
     "data": {
      "text/plain": [
       "array([[0, 0],\n",
       "       [0, 1],\n",
       "       [1, 1],\n",
       "       [0, 0],\n",
       "       [1, 0]], dtype=int64)"
      ]
     },
     "execution_count": 16,
     "metadata": {},
     "output_type": "execute_result"
    }
   ],
   "source": [
    "C, Z, X = model.sim_data(n = 5, T = 2)"
   ]
  },
  {
   "cell_type": "markdown",
   "metadata": {},
   "source": [
    "# Visualizing"
   ]
  },
  {
   "cell_type": "markdown",
   "metadata": {},
   "source": []
  },
  {
   "cell_type": "markdown",
   "metadata": {},
   "source": [
    "# Logistic regression"
   ]
  },
  {
   "cell_type": "markdown",
   "metadata": {},
   "source": [
    "Packages:"
   ]
  },
  {
   "cell_type": "code",
   "execution_count": 3,
   "metadata": {},
   "outputs": [],
   "source": [
    "from sklearn.linear_model import LogisticRegression\n",
    "from sklearn.multioutput import MultiOutputClassifier"
   ]
  },
  {
   "cell_type": "markdown",
   "metadata": {},
   "source": [
    "Simulate lots of data"
   ]
  },
  {
   "cell_type": "code",
   "execution_count": 24,
   "metadata": {},
   "outputs": [],
   "source": [
    "N = 100\n",
    "\n",
    "n2 = 10\n",
    "T = 100\n",
    "\n",
    "#Training set\n",
    "np.random.seed(42)\n",
    "C, Z, X = np.empty(shape=(N,T)), np.empty(shape=(N,n2,T)), np.empty(shape=(N, n2,T))\n",
    "for i in range(N):\n",
    "    C[i], Z[i], X[i] = model.sim_data(n = n2, T = T)\n",
    "\n",
    "#Benchmark set\n",
    "np.random.seed(80)\n",
    "N_test = 100\n",
    "C_test, Z_test, X_test = np.empty(shape=(N_test,T)), np.empty(shape=(N_test,n2,T)), np.empty(shape=(N_test, n2, T))\n",
    "for i in range(N_test):\n",
    "    C_test[i], Z_test[i], X_test[i] = model.sim_data(n = n2,T = T)"
   ]
  },
  {
   "cell_type": "markdown",
   "metadata": {},
   "source": [
    "Logistic regression using all the X's to predict $C_{50}$"
   ]
  },
  {
   "cell_type": "markdown",
   "metadata": {},
   "source": [
    "#### Model 1"
   ]
  },
  {
   "cell_type": "code",
   "execution_count": 25,
   "metadata": {},
   "outputs": [],
   "source": [
    "#Defining regression models\n",
    "lr_model1 = LogisticRegression(max_iter=10000)\n",
    "\n",
    "#Model 1 - using all X's\n",
    "X_model1 = X[:,:,:].reshape((N, 100*n2))\n",
    "lr_model1.fit(X_model1, C[:,49])   # [49] is C_50 because of zero-indexing\n",
    "X_model1_test = X_test[:,:,:].reshape((N_test, 100*n2))"
   ]
  },
  {
   "cell_type": "code",
   "execution_count": 26,
   "metadata": {
    "scrolled": true
   },
   "outputs": [
    {
     "data": {
      "text/plain": [
       "0.63"
      ]
     },
     "execution_count": 26,
     "metadata": {},
     "output_type": "execute_result"
    }
   ],
   "source": [
    "#model1\n",
    "np.mean(lr_model1.predict(X_model1_test) == C_test[:,49])"
   ]
  },
  {
   "cell_type": "markdown",
   "metadata": {},
   "source": [
    "#### Model 2"
   ]
  },
  {
   "cell_type": "code",
   "execution_count": 27,
   "metadata": {},
   "outputs": [],
   "source": [
    "lr_model2 = LogisticRegression(max_iter=10000)\n",
    "\n",
    "#Model 2 - using only neighbouring X's\n",
    "X_model2 = X[:,:,48:51].reshape((N, 3*n2))\n",
    "lr_model2.fit(X_model2, C[:,49])\n",
    "X_model2_test = X_test[:,:,48:51].reshape((N_test, 3*n2))\n"
   ]
  },
  {
   "cell_type": "code",
   "execution_count": 28,
   "metadata": {},
   "outputs": [
    {
     "data": {
      "text/plain": [
       "0.8"
      ]
     },
     "execution_count": 28,
     "metadata": {},
     "output_type": "execute_result"
    }
   ],
   "source": [
    "#model 2\n",
    "np.mean(lr_model2.predict(X_model2_test) == C_test[:,49])"
   ]
  },
  {
   "cell_type": "markdown",
   "metadata": {},
   "source": [
    "#### Model 3"
   ]
  },
  {
   "cell_type": "code",
   "execution_count": 29,
   "metadata": {},
   "outputs": [],
   "source": [
    "lr_model3 = LogisticRegression(max_iter=10000)\n",
    "\n",
    "#Model 3 - using only descendant X's\n",
    "X_model3 = X[:,:,49].reshape((N, n2))\n",
    "lr_model3.fit(X_model3, C[:,49])\n",
    "X_model3_test = X_test[:,:,49].reshape((N_test, n2))\n"
   ]
  },
  {
   "cell_type": "code",
   "execution_count": 30,
   "metadata": {},
   "outputs": [
    {
     "data": {
      "text/plain": [
       "0.67"
      ]
     },
     "execution_count": 30,
     "metadata": {},
     "output_type": "execute_result"
    }
   ],
   "source": [
    "#model 3\n",
    "np.mean(lr_model3.predict(X_model3_test) == C_test[:,49])\n"
   ]
  },
  {
   "cell_type": "markdown",
   "metadata": {},
   "source": [
    "#### Model 4"
   ]
  },
  {
   "cell_type": "code",
   "execution_count": 31,
   "metadata": {},
   "outputs": [],
   "source": [
    "lr_model4 = LogisticRegression(max_iter=5000)\n",
    "\n",
    "#Model 4 - using only neighbouring X's\n",
    "X_model4 = X[:,:,0:39].reshape((N, 39*n2))\n",
    "lr_model4.fit(X_model4, C[:,49])\n",
    "X_model4_test = X_test[:,:,0:39].reshape((N_test, 39*n2))\n"
   ]
  },
  {
   "cell_type": "code",
   "execution_count": 32,
   "metadata": {},
   "outputs": [
    {
     "data": {
      "text/plain": [
       "0.31"
      ]
     },
     "execution_count": 32,
     "metadata": {},
     "output_type": "execute_result"
    }
   ],
   "source": [
    "#model 4\n",
    "np.mean(lr_model4.predict(X_model4_test) == C_test[:,49])"
   ]
  },
  {
   "cell_type": "markdown",
   "metadata": {},
   "source": [
    "# Learning"
   ]
  },
  {
   "cell_type": "code",
   "execution_count": 144,
   "metadata": {},
   "outputs": [],
   "source": [
    "model = Markov_model()\n",
    "model.sim_data(T = 100, return_output=False)\n"
   ]
  },
  {
   "cell_type": "markdown",
   "metadata": {},
   "source": [
    "Below is a function for computing parameter estimates"
   ]
  },
  {
   "cell_type": "code",
   "execution_count": 288,
   "metadata": {},
   "outputs": [
    {
     "data": {
      "text/plain": [
       "1"
      ]
     },
     "execution_count": 288,
     "metadata": {},
     "output_type": "execute_result"
    }
   ],
   "source": [
    "a = np.array([[1,1,0], [0,3,0]])\n",
    "b = np.array([1,0,1])\n",
    "np.einsum(\"nT, T -> \", a, b) "
   ]
  },
  {
   "cell_type": "code",
   "execution_count": 178,
   "metadata": {},
   "outputs": [],
   "source": [
    "def learn_par(model, Print = False):\n",
    "    n = model.n\n",
    "    T = model.T\n",
    "    Z = model.Z #n, T\n",
    "    C = model.C #T\n",
    "    X = model.X #n, T\n",
    "    \n",
    "    # Estimating lambda's\n",
    "    lambda0 = np.sum((1-Z) * X) / (np.sum(1-Z))\n",
    "    lambda1 = np.sum(Z * X) / np.sum(Z)\n",
    "\n",
    "    # Indicator functions of C \n",
    "    C_indicator = np.array([(C == i )for i in range(3)]) #C_val, boolean\n",
    "\n",
    "    # Estimating alpha_hat\n",
    "    if(np.sum(C_indicator[2]) == T):\n",
    "        return print(\"WARNING: No C==1 nor C== 0 have been observed and learning cannot proceed\")\n",
    "\n",
    "    if np.sum(C_indicator[0]) != 0:  \n",
    "        sum0 = np.einsum(\"nT, T -> \", 1-Z, C_indicator[0]) / ( 2* np.sum(C_indicator[0]) * n)\n",
    "    else:\n",
    "        sum0 = 0\n",
    "\n",
    "    if np.sum(C_indicator[1]) != 0:\n",
    "        sum1 = np.sum(np.einsum(\"nT, T -> \", Z, C_indicator[1]) )/ (2* np.sum(C_indicator[1]) * n)\n",
    "    else:\n",
    "        sum1 = 0\n",
    "\n",
    "    alpha_hat = (sum0 + sum1)\n",
    "\n",
    "    # Estimating beta hat\n",
    "    beta_hat = np.sum( [sum(C_indicator[0:2,t+1])*C_indicator[2, t] for t in range(T-1)])  / np.sum(C_indicator[2, 0:(T-1)])\n",
    "\n",
    "    # Estimating gamma hat\n",
    "    gamma_hat = np.sum([C_indicator[2, t+1]*(np.sum(C_indicator[0:2,t])) for t in range(T-1)]) / np.sum(C_indicator[0:2, 0:(T-1)])\n",
    "\n",
    "    if (Print == True):\n",
    "        print(\"lambda0_hat is: \", lambda0, \"\\n lambda1_hat is: \", lambda1, \"\\nalpha_hat is:\", alpha_hat, \"\\nbeta_hat is: \", beta_hat, \"\\ngamme_hat is: \", gamma_hat)\n",
    "    \n",
    "    model.estimates = {}\n",
    "    model.estimates[\"lamb0_hat\"] = lambda0\n",
    "    model.estimates[\"lamb1_hat\"] = lambda1\n",
    "    model.estimates[\"alpha_hat\"] = alpha_hat\n",
    "    model.estimates[\"beta_hat\"] = beta_hat\n",
    "    model.estimates[\"gamma_hat\"] = gamma_hat\n",
    "\n",
    "    return model.estimates"
   ]
  },
  {
   "cell_type": "code",
   "execution_count": 176,
   "metadata": {},
   "outputs": [
    {
     "data": {
      "text/plain": [
       "array([2, 2, 2, 2, 2, 2, 2, 2, 2, 2], dtype=int64)"
      ]
     },
     "execution_count": 176,
     "metadata": {},
     "output_type": "execute_result"
    }
   ],
   "source": [
    "model.C"
   ]
  },
  {
   "cell_type": "code",
   "execution_count": 177,
   "metadata": {},
   "outputs": [
    {
     "name": "stdout",
     "output_type": "stream",
     "text": [
      "No C==1 nor C== 0 have been observed and learning cannot proceed\n"
     ]
    }
   ],
   "source": [
    "learn_par(model)"
   ]
  },
  {
   "cell_type": "code",
   "execution_count": 291,
   "metadata": {},
   "outputs": [
    {
     "name": "stdout",
     "output_type": "stream",
     "text": [
      "{'lamb0_hat': 0.9915876414805751, 'lamb1_hat': 4.9716926632004625, 'alpha_hat': 0.8956477987421383, 'beta_hat': 0.21875, 'gamma_hat': 0.08955223880597014}\n",
      "[1, 5, 0.9, 0.2, 0.1]\n"
     ]
    }
   ],
   "source": [
    "model.sim_data(T = 100)\n",
    "print(learn_par(model))\n",
    "print(model.model_values)"
   ]
  },
  {
   "cell_type": "markdown",
   "metadata": {},
   "source": [
    "Test the implementation using simulated data"
   ]
  },
  {
   "cell_type": "code",
   "execution_count": 132,
   "metadata": {},
   "outputs": [],
   "source": [
    "N_rep = 100\n",
    "\n",
    "model = Markov_model(gamma = 0.4, T = 1000, n = 100)\n",
    "par_estimates = np.empty(shape =(N_rep,5))\n",
    "for i in range(N_rep):\n",
    "    model.sim_data(return_output=False)\n",
    "    estimate_i = learn_par(model)\n",
    "    par_estimates[i, 0] = estimate_i[\"lamb0_hat\"]\n",
    "    par_estimates[i, 1] = estimate_i[\"lamb1_hat\"]\n",
    "    par_estimates[i, 2] = estimate_i[\"alpha_hat\"]\n",
    "    par_estimates[i, 3] = estimate_i[\"beta_hat\"]\n",
    "    par_estimates[i, 4] = estimate_i[\"gamma_hat\"]   "
   ]
  },
  {
   "cell_type": "code",
   "execution_count": 133,
   "metadata": {},
   "outputs": [],
   "source": [
    "names = [\"lambda0\", \"lambda1\", \"alpha\", \"beta\", \"gamma\"]\n",
    "true_vals = [model.lamb0, model.lamb1, model.alpha, model.beta, model.gamma]"
   ]
  },
  {
   "cell_type": "code",
   "execution_count": 134,
   "metadata": {},
   "outputs": [
    {
     "data": {
      "image/png": "[encoded data removed]",
      "text/plain": [
       "<Figure size 1500x500 with 5 Axes>"
      ]
     },
     "metadata": {},
     "output_type": "display_data"
    }
   ],
   "source": [
    "# Create subplots with 1 row and 5 columns\n",
    "fig, axes = plt.subplots(1, 5, figsize=(15, 5), sharey=True)\n",
    "\n",
    "# Iterate through each subplot\n",
    "for i, ax in enumerate(axes):\n",
    "    # Plot histogram\n",
    "    ax.hist(par_estimates[:,i], bins=20, alpha=0.7)\n",
    "    \n",
    "    # Calculate mean\n",
    "    mean_value = np.mean(par_estimates[:,i])\n",
    "    \n",
    "    # Add vertical line for the mean\n",
    "    ax.axvline(mean_value, color='red', linestyle='dashed', linewidth=1)\n",
    "\n",
    "    # Add vertical line for the mean\n",
    "    ax.axvline(mean_value, color='red', linestyle='dashed', linewidth=1)\n",
    "\n",
    "    # Add vertical line for true value\n",
    "    ax.axvline(true_vals[i], color='green', linestyle='dashed', linewidth=1)\n",
    "    \n",
    "    # Set title\n",
    "    ax.set_title(f'{names[i]} estimate\\nMean: {mean_value:.2f}\\nTrue value: {true_vals[i]:.2f}')\n",
    "    \n",
    "    # Set labels\n",
    "    ax.set_xlabel('Value')\n",
    "    ax.set_ylabel('Frequency')\n",
    "\n",
    "# Adjust layout\n",
    "plt.tight_layout()\n",
    "\n",
    "# Save plot\n",
    "plt.savefig('histograms_with_means.png')\n",
    "\n",
    "# Show plot\n",
    "plt.show()"
   ]
  },
  {
   "cell_type": "code",
   "execution_count": 193,
   "metadata": {},
   "outputs": [
    {
     "data": {
      "text/plain": [
       "(array([2, 2, 2, 2, 2, 2, 2, 2, 2, 2], dtype=int64),\n",
       " array([[1, 0, 0, 0, 0, 1, 1, 1, 0, 0],\n",
       "        [0, 1, 1, 0, 0, 0, 0, 1, 1, 0],\n",
       "        [1, 0, 0, 0, 1, 0, 1, 0, 0, 0],\n",
       "        [1, 1, 0, 1, 0, 1, 0, 1, 1, 0],\n",
       "        [1, 1, 0, 0, 0, 1, 1, 0, 0, 1],\n",
       "        [1, 0, 1, 0, 0, 0, 1, 0, 1, 0],\n",
       "        [0, 0, 0, 0, 0, 0, 1, 1, 1, 1],\n",
       "        [1, 1, 1, 1, 1, 1, 0, 1, 1, 1],\n",
       "        [1, 0, 0, 1, 1, 0, 0, 0, 0, 0],\n",
       "        [0, 1, 0, 0, 0, 0, 0, 0, 1, 1],\n",
       "        [1, 0, 1, 0, 0, 0, 1, 0, 1, 0],\n",
       "        [1, 0, 1, 1, 0, 0, 1, 1, 1, 0],\n",
       "        [1, 1, 1, 1, 1, 0, 0, 1, 1, 1],\n",
       "        [1, 1, 1, 1, 0, 0, 0, 1, 1, 0],\n",
       "        [0, 1, 0, 1, 0, 0, 0, 1, 1, 1],\n",
       "        [0, 1, 0, 0, 1, 0, 1, 0, 0, 1],\n",
       "        [1, 0, 0, 1, 0, 1, 0, 0, 1, 0],\n",
       "        [1, 0, 1, 1, 0, 1, 1, 1, 1, 1],\n",
       "        [1, 0, 0, 0, 0, 1, 0, 1, 0, 0],\n",
       "        [0, 0, 1, 1, 1, 1, 1, 0, 1, 0],\n",
       "        [0, 0, 1, 0, 1, 0, 0, 0, 1, 0],\n",
       "        [0, 0, 1, 0, 0, 0, 0, 0, 1, 1],\n",
       "        [1, 0, 1, 1, 1, 0, 1, 1, 1, 0],\n",
       "        [0, 1, 1, 0, 1, 1, 0, 0, 0, 0],\n",
       "        [1, 0, 1, 1, 1, 0, 0, 1, 1, 0],\n",
       "        [0, 1, 0, 1, 1, 1, 0, 0, 0, 1],\n",
       "        [0, 1, 1, 0, 0, 1, 0, 1, 1, 0],\n",
       "        [1, 1, 1, 1, 1, 1, 0, 1, 1, 0],\n",
       "        [0, 1, 0, 1, 1, 0, 0, 0, 1, 1],\n",
       "        [1, 1, 1, 1, 0, 0, 1, 0, 0, 1],\n",
       "        [1, 0, 0, 1, 0, 1, 0, 0, 1, 1],\n",
       "        [0, 1, 0, 0, 0, 1, 0, 0, 0, 1],\n",
       "        [0, 0, 1, 1, 0, 1, 0, 1, 1, 0],\n",
       "        [1, 1, 0, 1, 0, 1, 1, 0, 0, 0],\n",
       "        [0, 0, 0, 0, 1, 0, 1, 1, 1, 1],\n",
       "        [0, 0, 0, 1, 1, 0, 0, 1, 1, 0],\n",
       "        [1, 0, 1, 0, 0, 1, 1, 0, 0, 0],\n",
       "        [1, 0, 1, 0, 0, 1, 0, 0, 0, 1],\n",
       "        [0, 1, 1, 0, 0, 1, 1, 0, 0, 0],\n",
       "        [0, 0, 1, 1, 0, 0, 1, 0, 0, 1],\n",
       "        [1, 0, 0, 1, 1, 1, 1, 0, 0, 0],\n",
       "        [1, 0, 1, 1, 0, 1, 1, 0, 0, 0],\n",
       "        [1, 0, 0, 1, 0, 1, 0, 0, 0, 0],\n",
       "        [0, 0, 1, 0, 1, 1, 0, 0, 0, 1],\n",
       "        [0, 1, 0, 0, 1, 0, 0, 0, 1, 1],\n",
       "        [1, 0, 0, 1, 0, 1, 1, 1, 1, 1],\n",
       "        [1, 0, 1, 1, 1, 0, 0, 1, 1, 0],\n",
       "        [0, 1, 0, 1, 0, 0, 1, 0, 1, 1],\n",
       "        [1, 1, 0, 1, 1, 1, 0, 1, 0, 0],\n",
       "        [0, 1, 1, 0, 0, 1, 0, 1, 0, 0],\n",
       "        [1, 1, 0, 0, 0, 0, 0, 0, 1, 1],\n",
       "        [1, 1, 0, 0, 0, 1, 1, 1, 1, 1],\n",
       "        [0, 0, 0, 0, 0, 0, 1, 1, 0, 1],\n",
       "        [0, 1, 0, 0, 0, 0, 1, 1, 0, 1],\n",
       "        [1, 0, 0, 1, 1, 0, 1, 0, 1, 1],\n",
       "        [0, 0, 0, 1, 1, 1, 0, 0, 1, 0],\n",
       "        [0, 0, 1, 1, 0, 1, 1, 1, 0, 1],\n",
       "        [0, 0, 1, 1, 0, 0, 0, 0, 1, 0],\n",
       "        [1, 0, 1, 1, 1, 1, 1, 0, 0, 1],\n",
       "        [0, 0, 0, 0, 1, 1, 1, 1, 1, 1],\n",
       "        [1, 1, 0, 0, 1, 0, 1, 0, 1, 1],\n",
       "        [1, 1, 0, 0, 0, 0, 1, 0, 0, 1],\n",
       "        [0, 0, 1, 1, 1, 1, 0, 0, 0, 1],\n",
       "        [0, 1, 0, 0, 0, 1, 1, 1, 1, 1],\n",
       "        [1, 0, 1, 1, 0, 0, 1, 1, 0, 0],\n",
       "        [0, 1, 0, 0, 1, 1, 1, 1, 0, 1],\n",
       "        [0, 0, 1, 0, 1, 1, 1, 1, 1, 0],\n",
       "        [1, 0, 1, 0, 1, 0, 1, 1, 0, 1],\n",
       "        [0, 1, 0, 1, 1, 1, 0, 0, 0, 1],\n",
       "        [1, 1, 1, 0, 0, 1, 0, 0, 0, 0],\n",
       "        [1, 1, 1, 0, 0, 1, 0, 0, 0, 0],\n",
       "        [0, 0, 0, 1, 1, 1, 0, 1, 0, 0],\n",
       "        [1, 1, 0, 1, 1, 1, 1, 1, 0, 0],\n",
       "        [1, 0, 1, 1, 1, 0, 1, 1, 0, 0],\n",
       "        [1, 0, 1, 0, 0, 1, 0, 1, 1, 1],\n",
       "        [1, 1, 0, 0, 0, 0, 1, 1, 1, 0],\n",
       "        [1, 0, 1, 0, 0, 0, 0, 1, 0, 0],\n",
       "        [0, 1, 1, 1, 1, 1, 1, 0, 0, 1],\n",
       "        [1, 1, 0, 1, 0, 1, 0, 0, 0, 1],\n",
       "        [0, 0, 1, 0, 0, 1, 0, 0, 1, 0],\n",
       "        [1, 0, 0, 1, 0, 1, 1, 1, 0, 1],\n",
       "        [1, 0, 0, 0, 1, 0, 0, 0, 0, 1],\n",
       "        [1, 0, 1, 1, 0, 0, 1, 1, 1, 1],\n",
       "        [1, 0, 0, 0, 0, 0, 1, 1, 1, 0],\n",
       "        [0, 1, 0, 0, 0, 0, 0, 0, 0, 0],\n",
       "        [1, 0, 1, 1, 0, 1, 0, 0, 0, 1],\n",
       "        [1, 1, 0, 0, 1, 1, 0, 0, 1, 1],\n",
       "        [0, 1, 1, 1, 1, 1, 1, 1, 1, 1],\n",
       "        [1, 0, 1, 1, 0, 1, 0, 1, 0, 0],\n",
       "        [0, 0, 0, 0, 0, 0, 0, 0, 1, 0],\n",
       "        [1, 0, 0, 0, 1, 1, 0, 0, 1, 1],\n",
       "        [0, 0, 0, 0, 1, 1, 1, 1, 0, 0],\n",
       "        [1, 0, 0, 0, 1, 1, 1, 0, 1, 0],\n",
       "        [1, 0, 0, 1, 0, 1, 1, 0, 1, 0],\n",
       "        [1, 0, 1, 1, 0, 1, 1, 1, 1, 0],\n",
       "        [0, 1, 0, 1, 0, 1, 0, 0, 1, 1],\n",
       "        [0, 0, 0, 0, 0, 0, 1, 0, 0, 0],\n",
       "        [1, 0, 1, 1, 0, 1, 0, 1, 0, 0],\n",
       "        [1, 0, 1, 0, 0, 1, 1, 1, 1, 0],\n",
       "        [0, 0, 0, 0, 0, 0, 1, 0, 1, 1]], dtype=int64),\n",
       " array([[ 6,  0,  0,  1,  0, 10,  4,  4,  3,  0],\n",
       "        [ 1,  5,  7,  3,  2,  2,  1,  5,  4,  1],\n",
       "        [ 6,  2,  2,  3,  8,  1,  4,  1,  1,  0],\n",
       "        [ 4,  5,  1,  6,  3,  4,  1,  2,  2,  1],\n",
       "        [ 6,  7,  0,  1,  0,  4,  3,  2,  1,  5],\n",
       "        [ 5,  2,  9,  0,  1,  1,  4,  1,  8,  1],\n",
       "        [ 3,  1,  0,  1,  1,  1,  5,  4,  3,  4],\n",
       "        [ 3,  4,  4,  3,  5,  3,  1,  4,  3,  3],\n",
       "        [ 3,  2,  0,  4,  9,  0,  0,  0,  0,  1],\n",
       "        [ 1,  3,  2,  2,  1,  1,  3,  0,  8,  4],\n",
       "        [ 3,  0,  5,  0,  2,  1,  3,  2,  4,  1],\n",
       "        [ 4,  2,  5,  3,  0,  3,  6,  4,  4,  0],\n",
       "        [ 8,  4,  7,  6,  6,  1,  0,  6,  8,  2],\n",
       "        [ 4,  4,  6,  2,  2,  2,  1,  4,  5,  1],\n",
       "        [ 0,  6,  0,  3,  0,  0,  2,  4,  5,  4],\n",
       "        [ 2,  3,  1,  1,  4,  0,  7,  3,  2,  2],\n",
       "        [ 8,  3,  1,  5,  1,  5,  2,  2,  1,  1],\n",
       "        [ 6,  0,  7,  2,  1,  2,  4,  6,  5,  9],\n",
       "        [ 5,  1,  1,  2,  0,  7,  1,  5,  1,  0],\n",
       "        [ 1,  1,  4,  6,  6,  6,  8,  0,  2,  1],\n",
       "        [ 1,  1,  9,  1,  6,  0,  1,  2,  8,  1],\n",
       "        [ 1,  0,  4,  0,  0,  0,  1,  1,  7,  5],\n",
       "        [ 6,  0,  6,  2,  2,  0,  3,  7,  5,  1],\n",
       "        [ 0,  6,  3,  1,  3, 13,  1,  2,  1,  1],\n",
       "        [ 3,  0,  6, 10,  3,  0,  2,  6,  4,  3],\n",
       "        [ 1,  7,  0,  2,  6,  6,  1,  0,  0,  1],\n",
       "        [ 1,  6, 10,  0,  1,  4,  0,  6,  3,  1],\n",
       "        [ 5,  2,  3,  2,  5,  7,  2,  4,  5,  5],\n",
       "        [ 2,  6,  0,  7,  4,  0,  1,  0,  2,  3],\n",
       "        [ 6,  2,  7,  4,  0,  0,  4,  1,  1,  3],\n",
       "        [ 4,  1,  0,  2,  0,  6,  0,  0,  4,  7],\n",
       "        [ 0,  5,  2,  0,  2,  3,  1,  2,  1,  5],\n",
       "        [ 1,  1,  1,  2,  0,  4,  3,  1,  4,  0],\n",
       "        [ 6,  2,  1,  4,  1,  7,  7,  0,  0,  1],\n",
       "        [ 1,  2,  2,  2,  6,  2,  8,  6,  6,  4],\n",
       "        [ 3,  0,  0,  5, 11,  4,  0,  6,  4,  0],\n",
       "        [ 3,  0,  5,  0,  1,  3,  9,  2,  2,  1],\n",
       "        [ 9,  0,  1,  1,  1, 12,  0,  2,  0,  6],\n",
       "        [ 1,  6,  7,  0,  0,  9,  5,  0,  1,  0],\n",
       "        [ 1,  2,  4,  8,  1,  0,  5,  1,  0,  2],\n",
       "        [ 6,  2,  1,  4,  7,  4,  4,  0,  1,  0],\n",
       "        [ 8,  1,  3,  4,  1,  3,  2,  1,  0,  2],\n",
       "        [ 2,  1,  1,  5,  0,  1,  0,  3,  0,  0],\n",
       "        [ 0,  4,  7,  0,  3,  3,  2,  1,  0,  3],\n",
       "        [ 1,  6,  0,  0,  5,  0,  1,  1,  4,  5],\n",
       "        [ 8,  0,  1,  3,  2,  4,  4,  8,  7,  5],\n",
       "        [ 5,  1,  2,  6,  8,  0,  0,  7,  6,  2],\n",
       "        [ 0,  2,  2,  4,  1,  0,  4,  2,  1,  2],\n",
       "        [ 4, 11,  0,  7,  7,  2,  2,  5,  1,  1],\n",
       "        [ 3,  3,  6,  1,  0,  3,  0,  6,  2,  2],\n",
       "        [ 9,  4,  0,  1,  0,  1,  1,  0,  9,  3],\n",
       "        [ 4,  5,  0,  1,  0,  9,  3,  9,  6,  5],\n",
       "        [ 3,  2,  1,  0,  2,  0,  4,  4,  1,  7],\n",
       "        [ 0,  6,  0,  1,  0,  1,  4,  1,  2,  5],\n",
       "        [ 6,  2,  2,  5,  6,  0,  3,  2,  7,  4],\n",
       "        [ 0,  3,  3,  1,  8,  7,  0,  0,  3,  1],\n",
       "        [ 0,  0,  2,  4,  1,  5,  2,  0,  2,  5],\n",
       "        [ 0,  0,  2,  1,  1,  0,  1,  0,  4,  0],\n",
       "        [ 7,  0,  3,  6,  2,  9,  5,  1,  0,  3],\n",
       "        [ 0,  1,  0,  4,  5,  3, 12,  4,  4,  2],\n",
       "        [ 5,  9,  2,  1,  4,  1,  4,  0,  6,  8],\n",
       "        [ 5,  6,  2,  1,  3,  3,  1,  0,  0,  7],\n",
       "        [ 1,  1,  5,  5,  6,  6,  1,  1,  2,  5],\n",
       "        [ 2,  4,  0,  2,  0, 13,  2,  4,  4,  7],\n",
       "        [ 1,  1,  6,  6,  1,  0,  2,  5,  3,  2],\n",
       "        [ 0, 10,  0,  0,  3,  6,  7, 10,  1,  6],\n",
       "        [ 0,  0,  4,  0,  7,  8,  7,  6,  4,  1],\n",
       "        [10,  2,  6,  1,  5,  1,  6,  6,  1,  3],\n",
       "        [ 3,  9,  4,  7,  5, 10,  1,  0,  0,  3],\n",
       "        [ 6,  5,  6,  0,  3,  6,  1,  1,  0,  2],\n",
       "        [ 4,  3,  1,  2,  1,  3,  3,  0,  2,  2],\n",
       "        [ 1,  1,  0,  6,  5,  3,  0,  5,  1,  0],\n",
       "        [ 4,  2,  3,  7,  5,  7,  2,  5,  0,  1],\n",
       "        [ 6,  0,  4,  3,  6,  0,  7,  4,  0,  2],\n",
       "        [ 7,  1,  4,  2,  0,  3,  2,  6,  5,  3],\n",
       "        [ 6,  3,  1,  0,  0,  0,  4,  5,  9,  0],\n",
       "        [ 5,  0, 10,  1,  1,  1,  1,  4,  3,  0],\n",
       "        [ 0,  4,  7,  7,  6,  8,  3,  1,  0,  5],\n",
       "        [ 4,  2,  1,  2,  3,  6,  0,  0,  1,  3],\n",
       "        [ 0,  0,  4,  1,  0,  4,  0,  0,  7,  2],\n",
       "        [ 5,  0,  1,  5,  4, 11,  2,  8,  1,  6],\n",
       "        [ 4,  0,  0,  1,  5,  1,  0,  0,  0,  2],\n",
       "        [ 8,  3,  5,  6,  0,  1,  0,  4,  3,  9],\n",
       "        [ 8,  3,  0,  2,  0,  0,  3,  4,  4,  1],\n",
       "        [ 2,  3,  0,  0,  1,  1,  0,  2,  1,  2],\n",
       "        [ 9,  2,  7,  4,  0,  5,  3,  1,  0,  5],\n",
       "        [ 7,  3,  2,  0,  2,  3,  2,  2,  4,  6],\n",
       "        [ 1,  3,  3,  4,  2,  4,  2,  4,  7,  6],\n",
       "        [ 5,  0,  7,  3,  2,  5,  1,  5,  1,  0],\n",
       "        [ 1,  0,  0,  4,  0,  1,  2,  0,  6,  1],\n",
       "        [ 0,  0,  0,  1,  3,  6,  1,  1,  6,  4],\n",
       "        [ 3,  0,  1,  2,  5,  6,  2,  2,  0,  1],\n",
       "        [ 4,  4,  0,  2,  9, 10,  9,  1,  5,  1],\n",
       "        [ 3,  0,  2,  4,  3,  6,  2,  2,  2,  2],\n",
       "        [ 4,  0,  5,  6,  1,  5,  5,  7,  7,  0],\n",
       "        [ 2,  5,  2,  5,  2,  5,  0,  1,  0,  6],\n",
       "        [ 2,  1,  0,  0,  1,  2,  4,  1,  0,  1],\n",
       "        [ 6,  1,  6,  4,  1,  5,  0,  5,  1,  0],\n",
       "        [ 7,  1,  5,  1,  0,  4,  1,  5,  6,  2],\n",
       "        [ 0,  1,  0,  2,  2,  0,  2,  0,  4,  1]], dtype=int64))"
      ]
     },
     "execution_count": 193,
     "metadata": {},
     "output_type": "execute_result"
    }
   ],
   "source": [
    "model = Markov_model(T = 10, n = 100)\n",
    "model.sim_data()"
   ]
  },
  {
   "cell_type": "code",
   "execution_count": 201,
   "metadata": {},
   "outputs": [
    {
     "data": {
      "text/plain": [
       "(2, 100)"
      ]
     },
     "execution_count": 201,
     "metadata": {},
     "output_type": "execute_result"
    }
   ],
   "source": [
    "model.X.shape"
   ]
  },
  {
   "cell_type": "code",
   "execution_count": 306,
   "metadata": {},
   "outputs": [],
   "source": [
    "#---- EM ----\n",
    "def hardEM(X, convergence_limit = 0.01, limit = 100, initial_dic = {'lamb0_hat': 1, 'lamb1_hat': 10, 'alpha_hat': 0.9, 'beta_hat': 0.5, 'gamma_hat': 0.5} ):\n",
    "    data_n = X.shape[0]\n",
    "    data_T = X.shape[1]\n",
    "    model = Markov_model(n = data_n, T = data_T)\n",
    "    model.X = X\n",
    "\n",
    "    \n",
    "    #Updating working model\n",
    "    distance = 100,\n",
    "    model.alpha = initial_dic[\"alpha_hat\"]\n",
    "    model.beta = initial_dic[\"beta_hat\"]\n",
    "    model.gamma = initial_dic[\"gamma_hat\"]\n",
    "    model.lamb0 = initial_dic[\"lamb0_hat\"]\n",
    "    model.lamb1 = initial_dic[\"lamb1_hat\"]\n",
    "\n",
    "    print(\"initial_values are\", model.model_values)\n",
    "\n",
    "    current_est  = np.empty(shape = (limit+1,5 ))\n",
    "    current_est[0] = list(initial_dic.values())\n",
    "    #Resetting the timer\n",
    "    N = 0\n",
    "    distance = 10\n",
    "    while min((N<limit), (distance > 0.01)):\n",
    "        N += 1\n",
    "        \n",
    "        model.message_pass()\n",
    "        C_guess = np.argmax(model.C_prob, axis = 1) #(T)\n",
    "        Z_guess = np.argmax(model.belief_Zij, axis = 2) #(n T Z)\n",
    "        model.C = C_guess\n",
    "        model.Z = Z_guess\n",
    "        \n",
    "        parameter_guess = learn_par(model)\n",
    "\n",
    "        #Update model values\n",
    "        model.alpha = parameter_guess[\"alpha_hat\"]\n",
    "        model.beta = parameter_guess[\"beta_hat\"]\n",
    "        model.gamma = parameter_guess[\"gamma_hat\"]\n",
    "        model.lamb0 = parameter_guess[\"lamb0_hat\"]\n",
    "        model.lamb1 = parameter_guess[\"lamb1_hat\"]\n",
    "        model.update_values()\n",
    "\n",
    "        list_parameter_guess = list(parameter_guess.values())\n",
    "        #Save current estimate\n",
    "        current_est[N] = list_parameter_guess\n",
    "        #calculate distance\n",
    "        distance = np.max(current_est[N-1]-current_est[N])\n",
    "\n",
    "    if(N < limit):\n",
    "        print(\"Convergence acheived after N =  \", N, \"steps\")\n",
    "        current_est = current_est[0:(N+1),:]\n",
    "    else:\n",
    "        print(\"No convergence after N = \", limit, \"steps\")\n",
    "    \n",
    "    model.estimates = parameter_guess\n",
    "\n",
    "\n",
    "    return model.estimates, current_est\n"
   ]
  },
  {
   "cell_type": "code",
   "execution_count": 311,
   "metadata": {},
   "outputs": [
    {
     "data": {
      "text/plain": [
       "0.9"
      ]
     },
     "execution_count": 311,
     "metadata": {},
     "output_type": "execute_result"
    }
   ],
   "source": [
    "true_model = Markov_model()\n",
    "true_model.sim_data(T = 100, n = 100)\n",
    "test_X = true_model.X\n",
    "true_model.alpha\n"
   ]
  },
  {
   "cell_type": "code",
   "execution_count": 315,
   "metadata": {},
   "outputs": [
    {
     "name": "stdout",
     "output_type": "stream",
     "text": [
      "initial_values are [1, 5, 0.9, 0.2, 0.1]\n",
      "Convergence acheived after N =   5 steps\n"
     ]
    },
    {
     "data": {
      "text/plain": [
       "({'lamb0_hat': 0.8421052631578947,\n",
       "  'lamb1_hat': 5.147235576923077,\n",
       "  'alpha_hat': 0.8935079575596817,\n",
       "  'beta_hat': 0.21428571428571427,\n",
       "  'gamma_hat': 0.08450704225352113},\n",
       " [1, 5, 0.9, 0.2, 0.1])"
      ]
     },
     "execution_count": 315,
     "metadata": {},
     "output_type": "execute_result"
    }
   ],
   "source": [
    "initial_dic = {'lamb0_hat': 1, 'lamb1_hat': 10, 'alpha_hat': 0.5, 'beta_hat': 0.5, 'gamma_hat': 0.5} \n",
    "final, est_list = hardEM(test_X, limit = 50, initial_dic=initial_dic)\n",
    "final, true_model.model_values\n"
   ]
  },
  {
   "cell_type": "code",
   "execution_count": 308,
   "metadata": {},
   "outputs": [
    {
     "data": {
      "text/plain": [
       "array([[ 1.        , 10.        ,  0.2       ,  0.5       ,  0.5       ],\n",
       "       [ 1.40252013,  5.98530098,  0.85416667,  0.10294118,  0.22580645],\n",
       "       [ 1.18618916,  5.5948241 ,  0.86315705,  0.23076923,  0.06849315],\n",
       "       [ 0.91823308,  5.1808844 ,  0.88784455,  0.23076923,  0.06849315],\n",
       "       [ 0.91185482,  5.1759597 ,  0.88919872,  0.23076923,  0.06849315]])"
      ]
     },
     "execution_count": 308,
     "metadata": {},
     "output_type": "execute_result"
    }
   ],
   "source": [
    "est_list"
   ]
  }
 ],
 "metadata": {
  "kernelspec": {
   "display_name": "Python 3 (ipykernel)",
   "language": "python",
   "name": "python3"
  },
  "language_info": {
   "codemirror_mode": {
    "name": "ipython",
    "version": 3
   },
   "file_extension": ".py",
   "mimetype": "text/x-python",
   "name": "python",
   "nbconvert_exporter": "python",
   "pygments_lexer": "ipython3",
   "version": "3.10.2"
  }
 },
 "nbformat": 4,
 "nbformat_minor": 2
}
