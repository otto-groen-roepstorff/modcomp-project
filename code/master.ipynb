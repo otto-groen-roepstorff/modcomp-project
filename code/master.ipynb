{
 "cells": [
  {
   "cell_type": "code",
   "execution_count": 2,
   "metadata": {},
   "outputs": [],
   "source": [
    "import numpy as np\n",
    "from scipy import stats\n",
    "import matplotlib.pyplot as plt"
   ]
  },
  {
   "cell_type": "markdown",
   "metadata": {},
   "source": [
    "## Part 1"
   ]
  },
  {
   "cell_type": "markdown",
   "metadata": {},
   "source": [
    "# Forward Simulation"
   ]
  },
  {
   "cell_type": "code",
   "execution_count": 3,
   "metadata": {},
   "outputs": [],
   "source": [
    "def sim(n=2, T=1000, alpha = 0.9, beta = 0.2, gamma = 0.1, lamb0=1, lamb1=5):\n",
    "    #Defining the three possible values of C\n",
    "    ck = np.arange(3)   \n",
    "    \n",
    "    #Gamma matrix for assigning P(C_t | C_{t-1})\n",
    "    Gamma = np.array([[1-gamma, 0, gamma], \n",
    "                      [0, 1-gamma, gamma], \n",
    "                      [beta/2, beta/2, 1-beta]])\n",
    "    \n",
    "    #Creating random variables with probabilities based of the gamma matrix\n",
    "    C_transition = [\n",
    "        stats.rv_discrete(values=(ck,Gamma[0,])),#P(C_t |C_{t-1} = 0)\n",
    "        stats.rv_discrete(values=(ck,Gamma[1,])),#P(C_t |C_{t-1} = 1)\n",
    "        stats.rv_discrete(values=(ck,Gamma[2,])),#P(C_t |C_{t-1} = 2)\n",
    "    ]\n",
    "\n",
    "    #Creating output vector of C's\n",
    "    C = np.zeros(T, np.int64)\n",
    "    #Initializing the C vector\n",
    "    C[0] = 2\n",
    "\n",
    "    #Filling up the C-vector with values\n",
    "    for i in range(T-1):\n",
    "        C[i+1] = C_transition[C[i]].rvs()\n",
    "    \n",
    "    #CPT of Z\n",
    "    Z_given_C = np.array([1-alpha, alpha, 0.5])  #P(Z = 1| C =c)\n",
    "    \n",
    "    #Initializing Z. size=[n,T] specifies we need to create n copies of a series of T simulations\n",
    "    Z = stats.bernoulli(Z_given_C[C]).rvs(size=[n,T])\n",
    "    #input:\n",
    "    '''\n",
    "    [C_1, C_2, ... C_T]\n",
    "    '''\n",
    "    #output: \n",
    "    '''[   \n",
    "        [Z_11, Z_21, Z_31, ... , Z_T1]\n",
    "        [Z_12, Z_22, Z_32, ... , Z_T2]\n",
    "        ...\n",
    "        [Z_1n, Z_2n, Z_3n, ... , Z_Tn]\n",
    "    ]'''\n",
    "\n",
    "    #Initialize X   \n",
    "    X = stats.poisson(np.where(Z, lamb1, lamb0)).rvs()\n",
    "    #input\n",
    "    '''[   \n",
    "        [f(Z_11), f(Z_21), f(Z_31), ... , f(Z_T1)]\n",
    "        [f(Z_12), f(Z_22), f(Z_32), ... , f(Z_T2)]\n",
    "        ...\n",
    "        [f(Z_1n), f(Z_2n), f(Z_3n), ... , f(Z_Tn)]\n",
    "        ]    \n",
    "        where\n",
    "        f(z) = lamb0+(lamb1-lamb0)*z\n",
    "    '''\n",
    "\n",
    "    #output\n",
    "    '''[   \n",
    "        [X_11, X_21, X_31, ... , X_T1]\n",
    "        [X_12, X_22, X_32, ... , X_T2]\n",
    "        ...\n",
    "        [X_1n, X_2n, X_3n, ... , X_Tn]\n",
    "    ]'''\n",
    "\n",
    "    return C,Z,X\n",
    "\n",
    "\n",
    "C, Z, X = sim(n = 2,T=10)"
   ]
  },
  {
   "cell_type": "markdown",
   "metadata": {},
   "source": [
    "# Visualizing"
   ]
  },
  {
   "cell_type": "markdown",
   "metadata": {},
   "source": []
  },
  {
   "cell_type": "markdown",
   "metadata": {},
   "source": [
    "# Logistic regression"
   ]
  },
  {
   "cell_type": "markdown",
   "metadata": {},
   "source": [
    "Packages:"
   ]
  },
  {
   "cell_type": "code",
   "execution_count": 3,
   "metadata": {},
   "outputs": [],
   "source": [
    "from sklearn.linear_model import LogisticRegression\n",
    "from sklearn.multioutput import MultiOutputClassifier"
   ]
  },
  {
   "cell_type": "markdown",
   "metadata": {},
   "source": [
    "Simulate lots of data"
   ]
  },
  {
   "cell_type": "code",
   "execution_count": 4,
   "metadata": {},
   "outputs": [],
   "source": [
    "N = 100\n",
    "\n",
    "n2 = 10\n",
    "T = 100\n",
    "\n",
    "#Training set\n",
    "np.random.seed(42)\n",
    "C, Z, X = np.empty(shape=(N,T)), np.empty(shape=(N,n2,T)), np.empty(shape=(N, n2,T))\n",
    "for i in range(N):\n",
    "    C[i], Z[i], X[i] = sim(n2,T)\n",
    "\n",
    "#Benchmark set\n",
    "np.random.seed(80)\n",
    "N_test = 100\n",
    "C_test, Z_test, X_test = np.empty(shape=(N_test,T)), np.empty(shape=(N_test,n2,T)), np.empty(shape=(N_test, n2, T))\n",
    "for i in range(N_test):\n",
    "    C_test[i], Z_test[i], X_test[i] = sim(n2,T)"
   ]
  },
  {
   "cell_type": "markdown",
   "metadata": {},
   "source": [
    "Logistic regression using all the X's to predict $C_{50}$"
   ]
  },
  {
   "cell_type": "code",
   "execution_count": null,
   "metadata": {},
   "outputs": [],
   "source": []
  },
  {
   "cell_type": "code",
   "execution_count": null,
   "metadata": {},
   "outputs": [],
   "source": []
  },
  {
   "cell_type": "markdown",
   "metadata": {},
   "source": [
    "#### Model 1"
   ]
  },
  {
   "cell_type": "code",
   "execution_count": 68,
   "metadata": {},
   "outputs": [],
   "source": [
    "#Defining regression models\n",
    "lr_model1 = LogisticRegression(max_iter=10000)\n",
    "\n",
    "#Model 1 - using all X's\n",
    "X_model1 = X[:,:,:].reshape((N, 100*n2))\n",
    "lr_model1.fit(X_model1, C[:,49])   # [49] is C_50 because of zero-indexing\n",
    "X_model1_test = X_test[:,:,:].reshape((N_test, 100*n2))"
   ]
  },
  {
   "cell_type": "code",
   "execution_count": 69,
   "metadata": {
    "scrolled": true
   },
   "outputs": [
    {
     "data": {
      "text/plain": [
       "0.67"
      ]
     },
     "execution_count": 69,
     "metadata": {},
     "output_type": "execute_result"
    }
   ],
   "source": [
    "#model1\n",
    "np.mean(lr_model1.predict(X_model1_test) == C_test[:,49])"
   ]
  },
  {
   "cell_type": "markdown",
   "metadata": {},
   "source": [
    "#### Model 2"
   ]
  },
  {
   "cell_type": "code",
   "execution_count": 70,
   "metadata": {},
   "outputs": [],
   "source": [
    "lr_model2 = LogisticRegression(max_iter=10000)\n",
    "\n",
    "#Model 2 - using only neighbouring X's\n",
    "X_model2 = X[:,:,48:51].reshape((N, 3*n2))\n",
    "lr_model2.fit(X_model2, C[:,49])\n",
    "X_model2_test = X_test[:,:,48:51].reshape((N_test, 3*n2))\n"
   ]
  },
  {
   "cell_type": "code",
   "execution_count": 71,
   "metadata": {},
   "outputs": [
    {
     "data": {
      "text/plain": [
       "0.8"
      ]
     },
     "execution_count": 71,
     "metadata": {},
     "output_type": "execute_result"
    }
   ],
   "source": [
    "#model 2\n",
    "np.mean(lr_model2.predict(X_model2_test) == C_test[:,49])"
   ]
  },
  {
   "cell_type": "markdown",
   "metadata": {},
   "source": [
    "#### Model 3"
   ]
  },
  {
   "cell_type": "code",
   "execution_count": 72,
   "metadata": {},
   "outputs": [],
   "source": [
    "lr_model3 = LogisticRegression(max_iter=10000)\n",
    "\n",
    "#Model 3 - using only descendant X's\n",
    "X_model3 = X[:,:,49].reshape((N, n2))\n",
    "lr_model3.fit(X_model3, C[:,49])\n",
    "X_model3_test = X_test[:,:,49].reshape((N_test, n2))\n"
   ]
  },
  {
   "cell_type": "code",
   "execution_count": 73,
   "metadata": {},
   "outputs": [
    {
     "data": {
      "text/plain": [
       "0.67"
      ]
     },
     "execution_count": 73,
     "metadata": {},
     "output_type": "execute_result"
    }
   ],
   "source": [
    "#model 3\n",
    "np.mean(lr_model3.predict(X_model3_test) == C_test[:,49])\n"
   ]
  },
  {
   "cell_type": "markdown",
   "metadata": {},
   "source": [
    "#### Model 4"
   ]
  },
  {
   "cell_type": "code",
   "execution_count": 74,
   "metadata": {},
   "outputs": [],
   "source": [
    "lr_model4 = LogisticRegression(max_iter=5000)\n",
    "\n",
    "#Model 4 - using only neighbouring X's\n",
    "X_model4 = X[:,:,0:39].reshape((N, 39*n2))\n",
    "lr_model4.fit(X_model4, C[:,49])\n",
    "X_model4_test = X_test[:,:,0:39].reshape((N_test, 39*n2))\n"
   ]
  },
  {
   "cell_type": "code",
   "execution_count": 75,
   "metadata": {},
   "outputs": [
    {
     "data": {
      "text/plain": [
       "0.34"
      ]
     },
     "execution_count": 75,
     "metadata": {},
     "output_type": "execute_result"
    }
   ],
   "source": [
    "#model 4\n",
    "np.mean(lr_model4.predict(X_model4_test) == C_test[:,49])"
   ]
  },
  {
   "cell_type": "markdown",
   "metadata": {},
   "source": [
    "# Learning"
   ]
  },
  {
   "cell_type": "markdown",
   "metadata": {},
   "source": [
    "Below is a function for computing parameter estimates"
   ]
  },
  {
   "cell_type": "code",
   "execution_count": 23,
   "metadata": {},
   "outputs": [],
   "source": [
    "def learn_par(C,Z,X, Print = False):\n",
    "    n = X.shape[0]\n",
    "    T = X.shape[1]\n",
    "\n",
    "    # Estimating lambda's\n",
    "    lambda1 = sum(sum((Z[:,t] * X[:,t] for t in range(T)))) / (sum(sum(Z)))\n",
    "    lambda0 = sum(sum(((np.ones(shape = n)-Z[:,t]) * X[:,t] for t in range(T)))) / (n*T - sum(sum(Z)))\n",
    "\n",
    "    # Indicator functions of C \n",
    "    C_0 = [C[t] == 0 for t in range(T)]\n",
    "    C_1 = [C[t] == 1 for t in range(T)]\n",
    "    C_2 = [C[t] == 2 for t in range(T)]\n",
    "\n",
    "    # Estimating alpha_hat\n",
    "    if (sum(C_1) > 0):\n",
    "        sum1 = sum(sum(Z[i,t] * C_1[t] for i in range(n)) for t in range(T)) / (2 * sum(C_1) * n)\n",
    "    else:\n",
    "        sum1 = 0\n",
    "    if (sum(C_0) > 0):\n",
    "        sum2 = sum(sum((1-Z[i,t]) * C_0[t] for i in range(n)) for t in range(T)) / (2 * sum(C_0) * n)\n",
    "    else:\n",
    "        sum2 = 0\n",
    "    alpha_hat = sum1 + sum2\n",
    "\n",
    "    # Estimating beta hat\n",
    "    beta_hat = sum((C_0[t+1] + C_1[t+1])*C_2[t] for t in range(T-1)) / (sum(C_2[0:T-1]))\n",
    "\n",
    "    # Estimating gamma hat\n",
    "    gamma_hat = sum((C_2[t+1])*(C_1[t]+C_0[t]) for t in range(T-1)) / (sum(C_1[0:T-1]+ C_0[0:T-1]))\n",
    "\n",
    "    if (Print == True):\n",
    "        print(\"lambda0_hat is: \", lambda0, \"\\nlambda1_hat is: \", lambda1, \"\\nalpha_hat is:\", alpha_hat, \"\\nbeta_hat is: \", beta_hat, \"\\ngamme_hat is: \", gamma_hat)\n",
    "    \n",
    "    return lambda0 ,lambda1, alpha_hat, beta_hat, gamma_hat"
   ]
  },
  {
   "cell_type": "markdown",
   "metadata": {},
   "source": [
    "Test the implementation using simulated data"
   ]
  },
  {
   "cell_type": "code",
   "execution_count": 34,
   "metadata": {},
   "outputs": [],
   "source": [
    "n1 = 100\n",
    "n2 = 100\n",
    "T = 1000\n",
    "\n",
    "np.random.seed(42)\n",
    "\n",
    "C, Z, X = np.empty(shape=(n1, T)), np.empty(shape=(n1, n2, T)), np.empty(shape=(n1, n2, T))\n",
    "\n",
    "for i in range(n1):\n",
    "    C[i], Z[i], X[i] = sim(n2,T)"
   ]
  },
  {
   "cell_type": "code",
   "execution_count": 35,
   "metadata": {},
   "outputs": [
    {
     "data": {
      "text/plain": [
       "(1.002481825998593,\n",
       " 5.006103055623822,\n",
       " 0.9023319433093098,\n",
       " 0.20175438596491227,\n",
       " 0.1050228310502283)"
      ]
     },
     "execution_count": 35,
     "metadata": {},
     "output_type": "execute_result"
    }
   ],
   "source": [
    "learn_par(C[0],Z[0],X[0])"
   ]
  },
  {
   "cell_type": "code",
   "execution_count": 36,
   "metadata": {},
   "outputs": [],
   "source": [
    "par_estimates = np.empty(shape =(n1,5))\n",
    "\n",
    "for i in range(n1):\n",
    "    par_estimates[i,:] = learn_par(C[i,:],Z[i,:,:],X[i,:,:])"
   ]
  },
  {
   "cell_type": "code",
   "execution_count": 37,
   "metadata": {},
   "outputs": [],
   "source": [
    "names = [\"lambda0\", \"lambda1\", \"alpha\", \"beta\", \"gamma\"]\n",
    "true_vals = [1, 5, 0.9, 0.2, 0.1]"
   ]
  },
  {
   "cell_type": "code",
   "execution_count": 38,
   "metadata": {},
   "outputs": [
    {
     "data": {
      "image/png": "[encoded data removed]",
      "text/plain": [
       "<Figure size 1500x500 with 5 Axes>"
      ]
     },
     "metadata": {},
     "output_type": "display_data"
    }
   ],
   "source": [
    "# Create subplots with 1 row and 5 columns\n",
    "fig, axes = plt.subplots(1, 5, figsize=(15, 5), sharey=True)\n",
    "\n",
    "# Iterate through each subplot\n",
    "for i, ax in enumerate(axes):\n",
    "    # Plot histogram\n",
    "    ax.hist(par_estimates[:,i], bins=20, alpha=0.7)\n",
    "    \n",
    "    # Calculate mean\n",
    "    mean_value = np.mean(par_estimates[:,i])\n",
    "    \n",
    "    # Add vertical line for the mean\n",
    "    ax.axvline(mean_value, color='red', linestyle='dashed', linewidth=1)\n",
    "\n",
    "    # Add vertical line for the mean\n",
    "    ax.axvline(mean_value, color='red', linestyle='dashed', linewidth=1)\n",
    "\n",
    "    # Add vertical line for true value\n",
    "    ax.axvline(true_vals[i], color='green', linestyle='dashed', linewidth=1)\n",
    "    \n",
    "    # Set title\n",
    "    ax.set_title(f'{names[i]} estimate\\nMean: {mean_value:.2f}\\nTrue value: {true_vals[i]:.2f}')\n",
    "    \n",
    "    # Set labels\n",
    "    ax.set_xlabel('Value')\n",
    "    ax.set_ylabel('Frequency')\n",
    "\n",
    "# Adjust layout\n",
    "plt.tight_layout()\n",
    "\n",
    "# Save plot\n",
    "plt.savefig('histograms_with_means.png')\n",
    "\n",
    "# Show plot\n",
    "plt.show()"
   ]
  },
  {
   "cell_type": "code",
   "execution_count": null,
   "metadata": {},
   "outputs": [],
   "source": []
  }
 ],
 "metadata": {
  "kernelspec": {
   "display_name": "Python 3 (ipykernel)",
   "language": "python",
   "name": "python3"
  },
  "language_info": {
   "codemirror_mode": {
    "name": "ipython",
    "version": 3
   },
   "file_extension": ".py",
   "mimetype": "text/x-python",
   "name": "python",
   "nbconvert_exporter": "python",
   "pygments_lexer": "ipython3",
   "version": "3.10.2"
  }
 },
 "nbformat": 4,
 "nbformat_minor": 2
}
