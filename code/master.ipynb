{
 "cells": [
  {
   "cell_type": "code",
   "execution_count": 1,
   "metadata": {},
   "outputs": [],
   "source": [
    "import numpy as np\n",
    "from scipy import stats\n",
    "import matplotlib.pyplot as plt"
   ]
  },
  {
   "cell_type": "markdown",
   "metadata": {},
   "source": [
    "## Part 1"
   ]
  },
  {
   "cell_type": "code",
   "execution_count": null,
   "metadata": {},
   "outputs": [],
   "source": []
  },
  {
   "cell_type": "markdown",
   "metadata": {},
   "source": [
    "# Forward Simulation"
   ]
  },
  {
   "cell_type": "code",
   "execution_count": 56,
   "metadata": {},
   "outputs": [],
   "source": [
    "def sim(n=1000, T=1000, alpha = 0.9, beta = 0.2, gamma = 0.1, lamb0=1, lamb1=5):\n",
    "    #Defining the three possible values of C\n",
    "    ck = np.arange(3)   \n",
    "    \n",
    "    #Gamma matrix for assigning P(C_t | C_{t-1})\n",
    "    Gamma = np.array([[1-gamma, 0, gamma], \n",
    "                      [0, 1-gamma, gamma], \n",
    "                      [beta/2, beta/2, 1-beta]])\n",
    "    \n",
    "    #Creating random variables with probabilities based of the gamma matrix\n",
    "    C_transition = [\n",
    "        stats.rv_discrete(values=(ck,Gamma[0,])),#P(C_t |C_{t-1} = 0)\n",
    "        stats.rv_discrete(values=(ck,Gamma[1,])),#P(C_t |C_{t-1} = 1)\n",
    "        stats.rv_discrete(values=(ck,Gamma[2,])),#P(C_t |C_{t-1} = 2)\n",
    "    ]\n",
    "\n",
    "    #Creating output vector of C's\n",
    "    C = np.zeros(T, np.int64)\n",
    "    #Initializing the C vector\n",
    "    C[0] = 2\n",
    "\n",
    "    #Filling up the C-vector with values\n",
    "    for i in range(T-1):\n",
    "        C[i+1] = C_transition[C[i]].rvs()\n",
    "    \n",
    "    #CPT of Z\n",
    "    Z_given_C = np.array([1-alpha, alpha, 0.5])  #P(Z = 1| C =c)\n",
    "    \n",
    "    #Initializing Z. size=[n,T] specifies we need to create n copies of a series of T simulations\n",
    "    Z = stats.bernoulli(Z_given_C[C]).rvs(size=[n,T])\n",
    "    #input:\n",
    "    '''\n",
    "    [C_1, C_2, ... C_T]\n",
    "    '''\n",
    "    #output: \n",
    "    '''[   \n",
    "        [Z_11, Z_21, Z_31, ... , Z_T1]\n",
    "        [Z_12, Z_22, Z_32, ... , Z_T2]\n",
    "        ...\n",
    "        [Z_1n, Z_2n, Z_3n, ... , Z_Tn]\n",
    "    ]'''\n",
    "\n",
    "    #Initialize X   \n",
    "    X = stats.poisson(np.where(Z, lamb1, lamb0)).rvs()\n",
    "    #input\n",
    "    '''[   \n",
    "        [f(Z_11), f(Z_21), f(Z_31), ... , f(Z_T1)]\n",
    "        [f(Z_12), f(Z_22), f(Z_32), ... , f(Z_T2)]\n",
    "        ...\n",
    "        [f(Z_1n), f(Z_2n), f(Z_3n), ... , f(Z_Tn)]\n",
    "        ]    \n",
    "        where\n",
    "        f(z) = lamb0+(lamb1-lamb0)*z\n",
    "    '''\n",
    "\n",
    "    #output\n",
    "    '''[   \n",
    "        [X_11, X_21, X_31, ... , X_T1]\n",
    "        [X_12, X_22, X_32, ... , X_T2]\n",
    "        ...\n",
    "        [X_1n, X_2n, X_3n, ... , X_Tn]\n",
    "    ]'''\n",
    "\n",
    "    return C,Z,X\n",
    "\n",
    "\n",
    "C, Z, X = sim(n = 2,T=10)"
   ]
  },
  {
   "cell_type": "markdown",
   "metadata": {},
   "source": [
    "# Visualizing"
   ]
  }
 ],
 "metadata": {
  "kernelspec": {
   "display_name": "venv",
   "language": "python",
   "name": "python3"
  },
  "language_info": {
   "codemirror_mode": {
    "name": "ipython",
    "version": 3
   },
   "file_extension": ".py",
   "mimetype": "text/x-python",
   "name": "python",
   "nbconvert_exporter": "python",
   "pygments_lexer": "ipython3",
   "version": "3.10.2"
  }
 },
 "nbformat": 4,
 "nbformat_minor": 2
}
