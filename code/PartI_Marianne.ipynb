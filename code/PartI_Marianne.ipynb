{
 "cells": [
  {
   "cell_type": "code",
   "execution_count": 11,
   "id": "43bb7715",
   "metadata": {},
   "outputs": [],
   "source": [
    "import numpy as np\n",
    "import pandas as pd\n",
    "import random"
   ]
  },
  {
   "cell_type": "code",
   "execution_count": 12,
   "id": "a9c103a9",
   "metadata": {},
   "outputs": [],
   "source": [
    "# Parameters\n",
    "alfa = 0.9\n",
    "beta = 0.2\n",
    "gamma = 0.1\n",
    "lambda0 = 1\n",
    "lambda1 = 5\n"
   ]
  },
  {
   "cell_type": "code",
   "execution_count": null,
   "id": "020cb0e9",
   "metadata": {},
   "outputs": [],
   "source": []
  },
  {
   "cell_type": "code",
   "execution_count": null,
   "id": "129b60d5",
   "metadata": {},
   "outputs": [],
   "source": []
  },
  {
   "cell_type": "code",
   "execution_count": 19,
   "id": "43fbd5f4",
   "metadata": {},
   "outputs": [],
   "source": [
    "def forward_simulation(N=100,T=100):\n",
    "    \n",
    "    c_states = [0,1,2]\n",
    "    \n",
    "    # T1 C is 1\n",
    "    \n",
    "    c_list = [2]\n",
    "    \n",
    "    # TO DO: Generate C's\n",
    "    \n",
    "    for c in range(N):\n",
    "        \n",
    "        previous_c = c_list[-1]\n",
    "            \n",
    "        if previous_c == 2:\n",
    "\n",
    "            c = random.choices(c_states, weights=(beta/2,beta/2,1-beta), k=1)\n",
    "\n",
    "            c_list.append(c[0])\n",
    "\n",
    "        elif previous_c == 1:\n",
    "\n",
    "            c = random.choices(c_states, weights=(0,1-gamma,gamma), k=1)\n",
    "\n",
    "            c_list.append(c[0])\n",
    "\n",
    "\n",
    "        elif previous_c == 0:\n",
    "\n",
    "\n",
    "            c = random.choices(c_states, weights=(1-gamma,0,gamma), k=1)\n",
    "\n",
    "            c_list.append(c[0])                \n",
    "\n",
    "    # TO DO: Generate Z\n",
    "    \n",
    "    \n",
    "    \n",
    "    \n",
    "    \n",
    "    \n",
    "    \n",
    "    # TO DO: Generate X\n",
    "    return()\n",
    "    \n",
    "    \n",
    "    \n",
    "    \n",
    "    \n",
    "    \n",
    "    \n",
    "    "
   ]
  },
  {
   "cell_type": "code",
   "execution_count": null,
   "id": "9f62d9e2",
   "metadata": {},
   "outputs": [],
   "source": []
  }
 ],
 "metadata": {
  "kernelspec": {
   "display_name": "Python 3 (ipykernel)",
   "language": "python",
   "name": "python3"
  },
  "language_info": {
   "codemirror_mode": {
    "name": "ipython",
    "version": 3
   },
   "file_extension": ".py",
   "mimetype": "text/x-python",
   "name": "python",
   "nbconvert_exporter": "python",
   "pygments_lexer": "ipython3",
   "version": "3.8.18"
  }
 },
 "nbformat": 4,
 "nbformat_minor": 5
}
