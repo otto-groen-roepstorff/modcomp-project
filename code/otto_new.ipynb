{
 "cells": [
  {
   "cell_type": "code",
   "execution_count": 1,
   "metadata": {},
   "outputs": [],
   "source": [
    "import numpy as np\n",
    "from scipy  import stats\n",
    "import math\n"
   ]
  },
  {
   "cell_type": "markdown",
   "metadata": {},
   "source": [
    "\\begin{align*}\n",
    "L_i &= \\{C_i, C_{i+1}\\} \\quad for \\quad i = 1,\\ldots, T-1\\\\\n",
    "\\psi_{L_i}(C_i, C_{i+1}) &= P(C_{i+1} \\mid C_i)\\\\\n",
    "M_{i}  &= \\{C_i, Z_{i,1}, Z_{i,2}, \\ldots, Z_{i,n}\\} \\quad for \\quad i =1,\\ldots, T\\\\\n",
    "\\psi_{M_i}(C_i, Z_{i,1}, Z_{i,2}, \\ldots, Z_{i,n})&= \\prod_{j = 1}^n P(Z_{i,j} \\mid C_i)\\\\\n",
    "N_{i,j} &= \\{Z_{i,j}, X_{i,j}\\} \\quad for \\quad i = 1, \\ldots, T, j = 1,\\ldots, n\\\\\n",
    "\\psi_{N_{i,j}}(Z_{i,j}, X_{i,j}) &= P(X_{i,j} \\mid Z_{i,j})\n",
    "\\end{align*}\n",
    "\n",
    "\\begin{align*}\n",
    " M_1  \\to L_1 \\to \\ldots \\to M_{i+1} \\to L_{i+1} \\ldots \\to M_{T}\n",
    "\\end{align*}"
   ]
  },
  {
   "cell_type": "code",
   "execution_count": 326,
   "metadata": {},
   "outputs": [],
   "source": [
    "class Variables:\n",
    "    def __init__(self) -> None:\n",
    "        self.alpha = 0.9\n",
    "        self.beta = 0.2\n",
    "        self.gamma = 0.1\n",
    "        self.lamb0 = 1\n",
    "        self.lamb1 = 5\n",
    "        self.rates = [self.lamb0, self.lamb1]\n",
    "        self.prob_C1 = np.array([0,0,1])\n",
    "        self.Gamma = np.array([[1-self.gamma, 0, self.gamma], #(Ci, Ci_plus1)\n",
    "                          [0, 1-self.gamma, self.gamma], \n",
    "                          [self.beta/2, self.beta/2, 1-self.beta]])\n",
    "        self.alpha_C = np.array([1-self.alpha, self.alpha, 0.5])\n",
    "        self.T = 10\n",
    "        self.n = 2\n",
    "        self.Z_given_C = np.array([[self.alpha, 1-self.alpha],[1-self.alpha, self.alpha], [0.5, 0.5]])  #(C, Z)\n",
    "        \n",
    "\n",
    "    def sim_data(self):\n",
    "        ck = np.arange(3)   \n",
    "    \n",
    "        C_transition = [\n",
    "            stats.rv_discrete(values=(ck,self.Gamma[0,])),#P(C_t |C_{t-1} = 0)\n",
    "            stats.rv_discrete(values=(ck,self.Gamma[1,])),#P(C_t |C_{t-1} = 1)\n",
    "            stats.rv_discrete(values=(ck,self.Gamma[2,])),#P(C_t |C_{t-1} = 2)\n",
    "        ]\n",
    "        \n",
    "        C = np.zeros(self.T, np.int64)\n",
    "        C[0] = 2\n",
    "        for i in range(self.T-1):\n",
    "            C[i+1] = C_transition[C[i]].rvs()\n",
    "        self.C = C\n",
    "        \n",
    "        self.Z = stats.bernoulli([self.Z_given_C[c,1] for c in C]).rvs(size=[self.n,self.T])\n",
    "        self.X = stats.poisson(np.where(self.Z, self.lamb1, self.lamb0)).rvs() #(n, T)\n",
    "        return \n",
    "    \n",
    "    #def initialize_potentials(self):\n",
    "    #    self.Psi_Nijs = np.array([stats.poisson.pmf(k = self.X, mu = self.lamb0), #All of the potentials\n",
    "    #                        stats.poisson.pmf(k = self.X, mu = self.lamb1)]) #(Z, n, T)\n",
    "    #    self.Psi_M0 = np.einsum(\"nCZ, C -> nCZ\", np.array([self.Z_given_C]*self.n), self.prob_C1) #(n, C, Z)\n",
    "    #    self.Psi_Mi_slice =   np.array([self.Z_given_C]*self.n)  #only a slice of the psi_Mi #(n, C, Z)\n",
    "    #    self.Psi_Li_slice = self.Gamma #only a slice of psi_L\n",
    "\n",
    "        \n",
    "        \n",
    "    #def d_Nij_to_Mi(self):\n",
    "    #    self.delta_Nij_to_Mi = self.Psi_Nijs #Z,n,T\n",
    "    #\n",
    "    #def update_Mi(self):\n",
    "   #     self.Psi_M0_new = np.einsum(\"nCZ, Zn -> nCZ\", self.Psi_M0, self.Psi_Nijs[:,:,0])\n",
    "    #    self.Psi_Mi_new = np.einsum(\"nCZ, ZnT -> TnCZ\", self.Psi_Mi_slice, self.Psi_Nijs[:,:,1:])\n",
    "\n",
    "    def find_P_X_given_C(self):\n",
    "        self.P_X_given_Z = np.array([stats.poisson.pmf(k = self.X, mu = self.lamb0), #All of the potentials\n",
    "                            stats.poisson.pmf(k = self.X, mu = self.lamb1)]) #(Z, n, T)\n",
    "        \n",
    "        self.P_X_given_C = np.einsum(\"ZnT, CZ -> TnC\",self.P_X_given_Z, self.Z_given_C) #(Time, n, C)\n",
    "\n",
    "    def upwards_passing(self):\n",
    "        delta_Mi_to_Li = np.empty(shape = (self.T-1, 3)) #(Time, Ci)\n",
    "        delta_Li_to_Mi_plus = np.empty(shape = (self.T-1, 3)) #(C_{i+1})\n",
    "        belief_Li = np.empty(shape = (self.T, 3, 3)) #(T, C_i, C_{i+1})\n",
    "    \n",
    "    \n",
    "        for i in range(self.T-1):\n",
    "            #finding message Ci, Zi -> Ci+, Ci+\n",
    "            if i == 0:\n",
    "                delta_Mi_to_Li[i] = np.prod(self.P_X_given_C[i,:,:], axis = 0)*self.prob_C1 #C1\n",
    "            else:\n",
    "                delta_Mi_to_Li[i] = np.prod(self.P_X_given_C[i,:,:], axis = 0)*delta_Li_to_Mi_plus[i-1] #Ci\n",
    "\n",
    "            #normalizing\n",
    "            delta_Mi_to_Li[i] /= np.sum(delta_Mi_to_Li[i])\n",
    "\n",
    "            #Finding belief Li\n",
    "            belief_Li[i] = np.einsum(\"cC,c -> cC\", self.Gamma, delta_Mi_to_Li[i]) #c old (C_{i}), C new (C_{i+1})\n",
    "            #normalizing\n",
    "            belief_Li[i] /= np.sum(belief_Li[i])\n",
    "            \n",
    "            #finding message Ci Ci+ -> Ci+, Zi+\n",
    "            delta_Li_to_Mi_plus[i] = np.sum(belief_Li[i], axis=0) #Summing out c old\n",
    "            \n",
    "            #normalizing\n",
    "            delta_Li_to_Mi_plus[i] /= np.sum(delta_Li_to_Mi_plus[i])\n",
    "\n",
    "        self.delta_Mi_to_Li = delta_Mi_to_Li\n",
    "        self.delta_Li_to_Mi_plus = delta_Li_to_Mi_plus\n",
    "        self.belief_Li = belief_Li\n",
    "        return \n",
    "    \n",
    "    def backwards_passing(self):\n",
    "        delta_Mi_plus_to_Li = np.empty(shape= (self.T-1, 3)) #T, C\n",
    "        delta_Li_to_Mi = np.empty(shape= (self.T -1, 3)) #T, C\n",
    "        updated_belief_Li = np.empty(shape = (self.T-1, 3, 3)) #T, c old (C_{i}), C new (C_{i+1})       \n",
    "\n",
    "        for i in range(self.T-1):\n",
    "            #find downwards message Mi+ -> Li\n",
    "            j = self.T -1 - i -1 #finding opposite direvtion\n",
    "\n",
    "            if i == 0: #then j = T-2, aka the last entry index in messages\n",
    "                delta_Mi_plus_to_Li[j] = np.prod(self.P_X_given_C[j+1,:,:], axis = 0) #(C)\n",
    "            else:\n",
    "                delta_Mi_plus_to_Li[j] = np.prod(self.P_X_given_C[j+1,:,:], axis = 0)*delta_Li_to_Mi[j+1] #(C)\n",
    "\n",
    "\n",
    "            #normalize\n",
    "            delta_Mi_plus_to_Li[j] /= np.max(delta_Mi_plus_to_Li[j])\n",
    "\n",
    "            #find belief\n",
    "            updated_belief_Li[j] = np.einsum(\"cC, C -> cC\", np.einsum(\"cC, c -> cC\", self.Gamma, self.delta_Mi_to_Li[j]), delta_Mi_plus_to_Li[j])\n",
    "            \n",
    "            #normalize\n",
    "            updated_belief_Li[j] /= np.sum(updated_belief_Li[j])\n",
    "            \n",
    "            # find message Li -> Mi\n",
    "\n",
    "            delta_Li_to_Mi[j] = np.einsum(\"cC,C -> c\", self.Gamma, delta_Mi_plus_to_Li[j]) #Summing out\n",
    "\n",
    "            #normalize\n",
    "            delta_Li_to_Mi[j] /= np.sum(delta_Li_to_Mi[j])\n",
    "            print(delta_Mi_plus_to_Li[[j]])\n",
    "            print(delta_Li_to_Mi[[j]])\n",
    "\n",
    "\n",
    "        self.updated_belief_Li = updated_belief_Li\n",
    "        self.delta_Li_to_Mi = delta_Li_to_Mi\n",
    "        self.delta_Mi_plus_to_Li = delta_Mi_plus_to_Li\n",
    "        \n",
    "        return \n",
    "        \n",
    "   \n",
    "\n",
    "variables = Variables()\n",
    "variables.sim_data()\n",
    "variables.X = np.array([[1]*variables.T]*variables.n)"
   ]
  },
  {
   "cell_type": "code",
   "execution_count": 327,
   "metadata": {},
   "outputs": [
    {
     "data": {
      "text/plain": [
       "array([[1, 1, 1, 1, 1, 1, 1, 1, 1, 1],\n",
       "       [1, 1, 1, 1, 1, 1, 1, 1, 1, 1]])"
      ]
     },
     "execution_count": 327,
     "metadata": {},
     "output_type": "execute_result"
    }
   ],
   "source": [
    "variables.X"
   ]
  },
  {
   "cell_type": "code",
   "execution_count": 328,
   "metadata": {},
   "outputs": [
    {
     "name": "stdout",
     "output_type": "stream",
     "text": [
      "[[1.         0.04025948 0.36038869]]\n",
      "[[0.66828979 0.05159925 0.28011096]]\n",
      "[[1.         0.00310847 0.15105546]]\n",
      "[[0.79287311 0.01551181 0.19161508]]\n",
      "[[1.00000000e+00 7.87638366e-04 8.70957881e-02]]\n",
      "[[0.83530051 0.00865759 0.1560419 ]]\n",
      "[[1.00000000e+00 4.17275241e-04 6.73239568e-02]]\n",
      "[[0.84920613 0.00665699 0.14413688]]\n",
      "[[1.00000000e+00 3.15597068e-04 6.11692510e-02]]\n",
      "[[0.85363152 0.0060302  0.14033828]]\n",
      "[[1.00000000e+00 2.84399723e-04 5.92484331e-02]]\n",
      "[[0.85502291 0.00583352 0.13914358]]\n",
      "[[1.00000000e+00 2.74676097e-04 5.86484532e-02]]\n",
      "[[0.85545855 0.00577195 0.1387695 ]]\n",
      "[[1.00000000e+00 2.71638857e-04 5.84609944e-02]]\n",
      "[[0.85559477 0.0057527  0.13865253]]\n",
      "[[1.00000000e+00 2.70689847e-04 5.84024193e-02]]\n",
      "[[0.85563734 0.00574669 0.13861597]]\n"
     ]
    }
   ],
   "source": [
    "#generate data\n",
    "variables.find_P_X_given_C() #time, C\n",
    "variables.upwards_passing()\n",
    "variables.backwards_passing()"
   ]
  },
  {
   "cell_type": "code",
   "execution_count": 289,
   "metadata": {},
   "outputs": [
    {
     "data": {
      "text/plain": [
       "array([[0.03752737, 0.69322032, 1.        ],\n",
       "       [0.14070872, 0.1593013 , 1.        ],\n",
       "       [0.28396436, 0.13663663, 1.        ],\n",
       "       [0.37885776, 0.11984713, 1.        ],\n",
       "       [0.01644609, 1.        , 0.64191204],\n",
       "       [0.26364534, 0.38655771, 1.        ],\n",
       "       [0.78004988, 0.19857947, 1.        ],\n",
       "       [0.56350923, 0.33614282, 1.        ],\n",
       "       [1.        , 0.02591643, 0.33893199]])"
      ]
     },
     "execution_count": 289,
     "metadata": {},
     "output_type": "execute_result"
    }
   ],
   "source": [
    "variables.delta_Mi_plus_to_Li"
   ]
  },
  {
   "cell_type": "code",
   "execution_count": 312,
   "metadata": {},
   "outputs": [
    {
     "name": "stdout",
     "output_type": "stream",
     "text": [
      "[[0.   0.   1.  ]\n",
      " [0.02 0.21 0.77]\n",
      " [0.04 0.19 0.77]\n",
      " [0.05 0.13 0.82]\n",
      " [0.16 0.1  0.74]\n",
      " [0.02 0.41 0.57]\n",
      " [0.   0.72 0.28]\n",
      " [0.   0.87 0.13]\n",
      " [0.01 0.63 0.36]]\n",
      "[[ 1  3  1  6  3  4  5  4 10  5]\n",
      " [ 1  4  5  0  1  4  4  5  0  7]]\n",
      "[[0.   0.   0.  ]\n",
      " [0.   0.78 0.09]\n",
      " [0.01 0.01 0.1 ]]\n"
     ]
    }
   ],
   "source": [
    "print(np.around(variables.delta_Mi_to_Li, decimals=2))\n",
    "#print(variables.Z) #(n, T)\n",
    "print(variables.X) #(n, T)\n",
    "print(np.around(variables.belief_Li, decimals = 2)[7])\n",
    "#probabilities of Xi given Zi\n",
    "#print(variables.Psi_Nijs) #(Z, n, T)\n",
    "#print(variables.updated_belief_Li)"
   ]
  },
  {
   "cell_type": "code",
   "execution_count": 325,
   "metadata": {},
   "outputs": [
    {
     "name": "stdout",
     "output_type": "stream",
     "text": [
      "[[0.   0.   0.  ]\n",
      " [0.   0.   0.  ]\n",
      " [0.   0.73 0.27]]\n",
      "[[0.  0.  0. ]\n",
      " [0.  0.  0. ]\n",
      " [0.1 0.1 0.8]]\n"
     ]
    }
   ],
   "source": [
    "print(np.around(variables.updated_belief_Li, decimals=2)[0])\n",
    "print(np.around(variables.belief_Li, decimals=2)[0])"
   ]
  },
  {
   "cell_type": "code",
   "execution_count": 329,
   "metadata": {},
   "outputs": [
    {
     "name": "stdout",
     "output_type": "stream",
     "text": [
      "[[[0.   0.  ]\n",
      "  [0.   0.  ]\n",
      "  [1.   1.  ]]\n",
      "\n",
      " [[0.68 0.68]\n",
      "  [0.   0.  ]\n",
      "  [0.32 0.32]]\n",
      "\n",
      " [[0.89 0.89]\n",
      "  [0.   0.  ]\n",
      "  [0.11 0.11]]\n",
      "\n",
      " [[0.96 0.96]\n",
      "  [0.   0.  ]\n",
      "  [0.04 0.04]]\n",
      "\n",
      " [[0.98 0.98]\n",
      "  [0.   0.  ]\n",
      "  [0.02 0.02]]\n",
      "\n",
      " [[0.99 0.99]\n",
      "  [0.   0.  ]\n",
      "  [0.01 0.01]]\n",
      "\n",
      " [[0.99 0.99]\n",
      "  [0.   0.  ]\n",
      "  [0.01 0.01]]\n",
      "\n",
      " [[0.99 0.99]\n",
      "  [0.   0.  ]\n",
      "  [0.01 0.01]]\n",
      "\n",
      " [[0.98 0.98]\n",
      "  [0.   0.  ]\n",
      "  [0.02 0.02]]\n",
      "\n",
      " [[0.94 0.94]\n",
      "  [0.   0.  ]\n",
      "  [0.06 0.06]]]\n"
     ]
    },
    {
     "data": {
      "text/plain": [
       "array([[1, 1, 1, 1, 1, 1, 1, 1, 1, 1],\n",
       "       [1, 1, 1, 1, 1, 1, 1, 1, 1, 1]])"
      ]
     },
     "execution_count": 329,
     "metadata": {},
     "output_type": "execute_result"
    }
   ],
   "source": [
    "def find_C_probabilites():\n",
    "    C_prob = np.empty(shape = (variables.T, 3, 2)) #Time, C, the two methods\n",
    "    updated_beliefs = variables.updated_belief_Li\n",
    "    updated_beliefs = updated_beliefs\n",
    "\n",
    "    for i in range(variables.T-1):\n",
    "        guess_0 = np.sum(updated_beliefs[i], axis=1)\n",
    "        guess_1 = np.sum(updated_beliefs[i], axis= 0)\n",
    "        C_prob[i,:,0] = guess_0\n",
    "        C_prob[i+1,:,1] = guess_1\n",
    "    \n",
    "    C_prob[0,:,1] = C_prob[0,:,0]\n",
    "    C_prob[-1,:,0] = C_prob[-1,:,1]\n",
    "\n",
    "    print(np.around(C_prob, decimals= 2))\n",
    "\n",
    "find_C_probabilites()\n",
    "variables.X"
   ]
  },
  {
   "cell_type": "code",
   "execution_count": 228,
   "metadata": {},
   "outputs": [
    {
     "data": {
      "text/plain": [
       "array([[1., 0., 0., 0.],\n",
       "       [0., 1., 0., 0.],\n",
       "       [0., 0., 1., 0.],\n",
       "       [0., 0., 0., 1.]])"
      ]
     },
     "execution_count": 228,
     "metadata": {},
     "output_type": "execute_result"
    }
   ],
   "source": [
    "np.eye(4)"
   ]
  },
  {
   "cell_type": "code",
   "execution_count": 137,
   "metadata": {},
   "outputs": [],
   "source": [
    "def upwards_passing():\n",
    "    delta_Mi_to_Li = np.empty(shape = (variables.T-1, 3)) #(Time, Ci)\n",
    "    delta_Li_to_Mi_plus = np.empty(shape = (variables.T-1, 3)) #(C_{i+1})\n",
    "    belief_Li = np.empty(shape = (variables.T, 3, 3)) #(T, C_i, C_{i+1})\n",
    "    \n",
    "    \n",
    "    for i in range(variables.T-1):\n",
    "        #finding message Ci, Zi -> Ci+, Ci+\n",
    "        if i == 0:\n",
    "            delta_Mi_to_Li[i] = variables.P_X_given_C[i]*variables.prob_C1 #C1\n",
    "        else:\n",
    "            delta_Mi_to_Li[i] = variables.P_X_given_C[i]*delta_Li_to_Mi_plus[i-1] #Ci\n",
    "        \n",
    "\n",
    "        #normalizing\n",
    "        delta_Mi_to_Li[i] /= np.sum(delta_Mi_to_Li[i])\n",
    "\n",
    "        #Finding belief Li\n",
    "        belief_Li[i] = np.einsum(\"cC,c -> cC\", variables.Gamma, delta_Mi_to_Li[i]) #c old (C_{i}), C new (C_{i+1})\n",
    "        belief_Li[i] /= np.sum(belief_Li[i])\n",
    "        #finding message Ci Ci+ -> Ci+, Zi+\n",
    "        delta_Li_to_Mi_plus[i] = np.sum(belief_Li[i], axis=0)\n",
    "        #normalizing\n",
    "        delta_Li_to_Mi_plus[i] /= np.sum(delta_Li_to_Mi_plus[i])\n",
    "\n",
    "    return delta_Mi_to_Li, delta_Li_to_Mi_plus, belief_Li\n",
    "        \n"
   ]
  },
  {
   "cell_type": "code",
   "execution_count": 169,
   "metadata": {},
   "outputs": [
    {
     "data": {
      "text/plain": [
       "(array([[[9.67278499e-01, 0.00000000e+00, 8.70204697e-02],\n",
       "         [0.00000000e+00, 2.12573210e-02, 3.08772003e-03],\n",
       "         [3.27215013e-02, 2.02662653e-02, 2.11951066e-01]],\n",
       " \n",
       "        [[9.66758614e-01, 0.00000000e+00, 2.92033582e-03],\n",
       "         [0.00000000e+00, 1.15564430e-04, 7.26437152e-05],\n",
       "         [3.32413860e-02, 1.59742326e-04, 7.22980135e-03]],\n",
       " \n",
       "        [[9.54996163e-01, 0.00000000e+00, 1.45842588e-02],\n",
       "         [0.00000000e+00, 5.16637059e-05, 5.10100333e-04],\n",
       "         [4.50038373e-02, 6.96084929e-05, 4.94839978e-02]],\n",
       " \n",
       "        [[9.23703465e-01, 0.00000000e+00, 6.86015641e-02],\n",
       "         [0.00000000e+00, 6.10409292e-03, 1.00718544e-02],\n",
       "         [7.62965350e-02, 3.43413969e-03, 4.07979890e-01]],\n",
       " \n",
       "        [[8.86078705e-01, 0.00000000e+00, 2.85045759e-02],\n",
       "         [0.00000000e+00, 9.67640743e-03, 7.13747334e-03],\n",
       "         [1.13921295e-01, 4.96840333e-03, 2.63863728e-01]],\n",
       " \n",
       "        [[1.40334713e-01, 0.00000000e+00, 5.05755735e-02],\n",
       "         [0.00000000e+00, 1.13191062e-01, 3.72465944e-02],\n",
       "         [3.51537218e-02, 3.85010507e-02, 9.12177832e-01]],\n",
       " \n",
       "        [[1.16506283e-02, 0.00000000e+00, 3.67207566e-02],\n",
       "         [0.00000000e+00, 2.42269935e-02, 2.28752727e-02],\n",
       "         [4.14399938e-03, 1.38329626e-02, 9.40403971e-01]],\n",
       " \n",
       "        [[2.75512286e-02, 0.00000000e+00, 1.35557146e-02],\n",
       "         [0.00000000e+00, 3.10468855e-02, 1.67473157e-02],\n",
       "         [2.73729809e-02, 2.49675757e-02, 9.69696970e-01]],\n",
       " \n",
       "        [[0.00000000e+00, 0.00000000e+00, 0.00000000e+00],\n",
       "         [0.00000000e+00, 0.00000000e+00, 0.00000000e+00],\n",
       "         [1.59768127e-03, 1.00000000e+00, 3.91624093e-05]]]),\n",
       " array([[7.84692194e-01, 1.81194938e-02, 1.97188312e-01],\n",
       "        [9.59604933e-01, 1.86252847e-04, 4.02088140e-02],\n",
       "        [9.10660993e-01, 5.27626782e-04, 8.88113802e-02],\n",
       "        [6.63220585e-01, 1.08114148e-02, 3.25968000e-01],\n",
       "        [6.95950137e-01, 1.27944856e-02, 2.91255378e-01],\n",
       "        [1.43846507e-01, 1.13351312e-01, 7.42802181e-01],\n",
       "        [4.58994871e-02, 4.46952235e-02, 9.09405289e-01],\n",
       "        [3.70019914e-02, 4.30214579e-02, 9.19976551e-01],\n",
       "        [0.00000000e+00, 0.00000000e+00, 1.00000000e+00]]),\n",
       " array([[1.00000000e+00, 4.15235863e-02, 3.02059256e-01],\n",
       "        [1.00000000e+00, 2.75306756e-04, 1.02227809e-02],\n",
       "        [1.00000000e+00, 1.21272199e-04, 6.45783570e-02],\n",
       "        [1.00000000e+00, 9.53823261e-03, 4.86653308e-01],\n",
       "        [1.00000000e+00, 1.46448108e-02, 2.99505777e-01],\n",
       "        [1.75488435e-01, 1.51692113e-01, 1.00000000e+00],\n",
       "        [1.57946276e-02, 3.80599561e-02, 1.00000000e+00],\n",
       "        [5.49242095e-02, 5.60144612e-02, 1.00000000e+00],\n",
       "        [1.59768127e-03, 1.00000000e+00, 3.91624093e-05]]))"
      ]
     },
     "execution_count": 169,
     "metadata": {},
     "output_type": "execute_result"
    }
   ],
   "source": [
    "def backwards_passing():\n",
    "    delta_Mi_plus_to_Li = np.empty(shape= (variables.T-1, 3)) #T, C\n",
    "    delta_Li_to_Mi = np.empty(shape= (variables.T -1, 3)) #T, C\n",
    "    updated_belief_Li = np.empty(shape = (variables.T-1, 3, 3)) #T, c old (C_{i}), C new (C_{i+1})\n",
    "\n",
    "    for i in range(variables.T-1):\n",
    "        #find downwards message Mi+ -> Li\n",
    "        j = variables.T -1 - i -1 #finding opposite direvtion\n",
    "        if i == 0:\n",
    "            delta_Mi_plus_to_Li[i] = variables.delta_Li_to_Mi_plus[j]*variables.P_X_given_C[j] #(C)\n",
    "        else:\n",
    "            delta_Mi_plus_to_Li[i] = variables.delta_Li_to_Mi_plus[j]*delta_Li_to_Mi[i]*variables.P_X_given_C[j] #(C)\n",
    "        \n",
    "        #normalize\n",
    "        delta_Mi_plus_to_Li[i] /= np.max(delta_Mi_plus_to_Li[i])\n",
    "\n",
    "        #find belief\n",
    "        updated_belief_Li[i] = np.einsum(\"cC, C -> cC\", variables.belief_Li[j], delta_Mi_plus_to_Li[i]/variables.delta_Li_to_Mi_plus[j])\n",
    "        # find message Li -> Mi\n",
    "\n",
    "        delta_Li_to_Mi[i] = np.sum(updated_belief_Li[i], axis=1)\n",
    "        \n",
    "        #normalize\n",
    "        delta_Li_to_Mi[i] /= np.sum(delta_Li_to_Mi[i])\n",
    "\n",
    "    return updated_belief_Li, delta_Li_to_Mi, delta_Mi_plus_to_Li\n",
    "        \n",
    "backwards_passing()"
   ]
  },
  {
   "cell_type": "code",
   "execution_count": 159,
   "metadata": {},
   "outputs": [
    {
     "name": "stdout",
     "output_type": "stream",
     "text": [
      "[1.         0.04152359 0.30205926]\n",
      "[[[9.67278499e-001 0.00000000e+000 8.70204697e-002]\n",
      "  [0.00000000e+000 2.12573210e-002 3.08772003e-003]\n",
      "  [3.27215013e-002 2.02662653e-002 2.11951066e-001]]\n",
      "\n",
      " [[3.80397588e+291 2.11658057e-110 5.76527396e-114]\n",
      "  [9.33847987e+252 5.83911122e+252 5.17435671e-114]\n",
      "  [6.21839860e+175 9.48749771e+222 1.17143144e+200]]\n",
      "\n",
      " [[2.20898020e+213 1.07852282e+229 1.67953988e+243]\n",
      "  [1.86189562e-004 1.84841356e-004 3.93269204e-028]\n",
      "  [5.30581254e+180 9.46694842e+218 1.55446670e+142]]\n",
      "\n",
      " [[1.35905790e+200 6.66126231e-115 3.13676357e+174]\n",
      "  [7.29537384e+175 2.15922561e+185 3.94701974e+252]\n",
      "  [8.52623465e+257 6.49160949e+174 8.92899224e+252]]\n",
      "\n",
      " [[6.46336856e+170 3.93258379e-028 5.36532746e-109]\n",
      "  [3.65415130e+291 1.98952897e+248 4.25434125e+179]\n",
      "  [2.49865394e+262 3.79226711e+214 3.93268423e-028]]\n",
      "\n",
      " [[5.73189017e+194 1.96900296e+248 4.89321283e+252]\n",
      "  [2.30628298e+160 1.35727532e+248 8.52623465e+257]\n",
      "  [3.93266696e-028 7.65404890e+189 1.67953971e+243]]\n",
      "\n",
      " [[1.86420307e-004 3.00450941e+243 3.00452240e+243]\n",
      "  [6.66126231e-115 3.13676357e+174 6.21839838e+175]\n",
      "  [2.87500622e+291 1.23727350e+290 2.49867343e+262]]\n",
      "\n",
      " [[3.18087765e+291 4.42261939e+257 3.78678057e-109]\n",
      "  [8.54241339e+257 3.65415130e+291 1.98952897e+248]\n",
      "  [3.18087765e+291 5.56218960e+180 4.90608313e-109]]\n",
      "\n",
      " [[8.28198236e-114 9.33847987e+252 1.93995127e-004]\n",
      "  [3.74781529e-114 1.99552186e+161 3.64431679e-109]\n",
      "  [5.56218960e+180 1.64080793e-306 7.62397802e+218]]]\n"
     ]
    },
    {
     "ename": "ValueError",
     "evalue": "could not broadcast input array from shape (9,3) into shape (3,)",
     "output_type": "error",
     "traceback": [
      "\u001b[1;31m---------------------------------------------------------------------------\u001b[0m",
      "\u001b[1;31mValueError\u001b[0m                                Traceback (most recent call last)",
      "Cell \u001b[1;32mIn[159], line 1\u001b[0m\n\u001b[1;32m----> 1\u001b[0m \u001b[43mbackwards_passing\u001b[49m\u001b[43m(\u001b[49m\u001b[43m)\u001b[49m\n",
      "Cell \u001b[1;32mIn[158], line 22\u001b[0m, in \u001b[0;36mbackwards_passing\u001b[1;34m()\u001b[0m\n\u001b[0;32m     20\u001b[0m \u001b[38;5;66;03m# find message Li -> Mi\u001b[39;00m\n\u001b[0;32m     21\u001b[0m \u001b[38;5;28mprint\u001b[39m(updated_belief_Li)\n\u001b[1;32m---> 22\u001b[0m \u001b[43mdelta_Li_to_Mi\u001b[49m\u001b[43m[\u001b[49m\u001b[43mi\u001b[49m\u001b[43m]\u001b[49m \u001b[38;5;241m=\u001b[39m np\u001b[38;5;241m.\u001b[39msum(updated_belief_Li, axis\u001b[38;5;241m=\u001b[39m\u001b[38;5;241m1\u001b[39m)\n\u001b[0;32m     24\u001b[0m \u001b[38;5;66;03m#normalize\u001b[39;00m\n\u001b[0;32m     25\u001b[0m delta_Li_to_Mi[i] \u001b[38;5;241m/\u001b[39m\u001b[38;5;241m=\u001b[39m np\u001b[38;5;241m.\u001b[39msum(delta_Li_to_Mi[i])\n",
      "\u001b[1;31mValueError\u001b[0m: could not broadcast input array from shape (9,3) into shape (3,)"
     ]
    }
   ],
   "source": []
  },
  {
   "cell_type": "code",
   "execution_count": 45,
   "metadata": {},
   "outputs": [],
   "source": [
    "#Find temporary clique belief at Mi\n",
    "temp_Mi = np.einsum(\"ZnT, CZ-> TCZ\", variables.P_x_given_z, variables.Z_given_C) #(Time, C, Z)\n",
    "temp_Mi[0] = np.einsum(\"CZ, C-> CZ\", temp_Mi[0], variables.prob_C1) #(C, Z)\n",
    "#upwards passing\n",
    "delta_Mi_to_Li = np.empty(shape= (variables.T-1, 3)) #T, C\n",
    "delta_Li_to_Mi_plus = np.empty(shape= (variables.T , 3)) #T, C\n",
    "for i in range(variables.T-1):\n",
    "    if i == 0:\n",
    "        delta_Mi_to_Li[i] = np.sum(temp_Mi[i], axis = 1) #(C)\n",
    "    else:\n",
    "        delta_Mi_to_Li[i] = np.einsum(\"C, CZ -> C\", delta_Li_to_Mi_plus[i], temp_Mi[i]) #(C)\n",
    "    #print(\"deltaMi is \\n\", delta_Mi_to_Li[i])\n",
    "    #normalize\n",
    "    delta_Mi_to_Li[i] /= np.max(delta_Mi_to_Li[i])\n",
    "\n",
    "    delta_Li_to_Mi_plus[i] = np.einsum(\"c, cC -> C\", delta_Mi_to_Li[i], variables.Gamma) #C\n",
    "    \n",
    "    #normalize\n",
    "    delta_Li_to_Mi_plus[i] /= np.max(delta_Li_to_Mi_plus[i])\n",
    "\n",
    "    #print(\"delta li is \\n\", delta_Li_to_Mi_plus[i])\n",
    "\n",
    "delta_Li_to_Mi_plus[-1 ] = np.einsum(\"c, cC -> C\", delta_Mi_to_Li[-1], variables.Gamma)\n",
    "delta_Li_to_Mi_plus[-1] /= np.max(delta_Li_to_Mi_plus[-1])\n",
    "#variables.temp_Mi = np.sum(variables.delta_Nij_to_Mi, axis=2) #(time, C)\n",
    "#print(variables.temp_Mi)\n"
   ]
  },
  {
   "cell_type": "code",
   "execution_count": 75,
   "metadata": {},
   "outputs": [
    {
     "name": "stdout",
     "output_type": "stream",
     "text": [
      "8\n",
      "[nan nan nan]\n",
      "7\n",
      "[nan nan nan]\n",
      "6\n",
      "[nan nan nan]\n",
      "5\n",
      "[nan nan nan]\n",
      "4\n",
      "[nan nan nan]\n",
      "3\n",
      "[nan nan nan]\n",
      "2\n",
      "[nan nan nan]\n",
      "1\n",
      "[nan nan nan]\n",
      "0\n",
      "[       nan        nan 0.07495214]\n"
     ]
    },
    {
     "name": "stderr",
     "output_type": "stream",
     "text": [
      "C:\\Users\\otto\\AppData\\Local\\Temp\\ipykernel_15448\\2325405696.py:23: RuntimeWarning: invalid value encountered in divide\n",
      "  delta_Li_to_Mi[i] /= np.max(delta_Li_to_Mi[i])*delta_Mi_to_Li[i]\n"
     ]
    }
   ],
   "source": [
    "#backwards passing\n",
    "delta_Mi_to_Li_minus = np.empty(shape= (variables.T-1, 3)) #T, C\n",
    "delta_Li_to_Mi = np.empty(shape= (variables.T , 3)) #T, C\n",
    "\n",
    "for i in range(variables.T-1)[::-1]:\n",
    "    print(i)\n",
    "    #----- find message ----#\n",
    "    delta_Mi_to_Li_minus[i] = np.einsum(\"c, cC -> C\", belief_Mi[i], variables.Gamma) #C\n",
    "    \n",
    "    #normalize\n",
    "    delta_Mi_to_Li_minus[i] /= np.max(delta_Mi_to_Li_minus[i])*delta_Li_to_Mi_plus[i]\n",
    "\n",
    "    #--- Update belief\n",
    "    belief_Li[i] = [[delta_Mi_to_Li_minus[i][C_plus]*delta_Mi_to_Li[i][C]*variables.Gamma[C_plus][C] for C_plus in range(3)] for C in range(3)]\n",
    "    belief_Li[i] /= sum(belief_Li[i])\n",
    "    #----- find message ----#\n",
    "    if i == 0:\n",
    "        delta_Li_to_Mi[i] = np.sum(temp_Mi[i], axis = 1) #(C)\n",
    "    else:\n",
    "        delta_Li_to_Mi[i] = np.einsum(\"C, CZ -> C\", delta_Mi_to_Li_minus[i], temp_Mi[i]) #(C)\n",
    "    #print(\"deltaMi is \\n\", delta_Mi_to_Li[i])\n",
    "    #normalize\n",
    "    delta_Li_to_Mi[i] /= np.max(delta_Li_to_Mi[i])*delta_Mi_to_Li[i]\n",
    "    #--- Update belief\n",
    "   \n",
    "    belief_Mi[i] = sum([delta_Li_to_Mi[i][:]*delta_Li_to_Mi_plus[i-1][:]*temp_Mi[i][:,z] for z in range(2)])\n",
    "    print(belief_Mi[i])\n",
    "    belief_Mi[i] /= sum(belief_Mi)\n",
    "   \n"
   ]
  },
  {
   "cell_type": "code",
   "execution_count": 74,
   "metadata": {},
   "outputs": [
    {
     "data": {
      "text/plain": [
       "array([[       nan,        nan, 0.13141598],\n",
       "       [       nan,        nan, 0.15683029],\n",
       "       [       nan,        nan, 0.05398623],\n",
       "       [       nan,        nan, 0.02480699],\n",
       "       [       nan,        nan, 0.02650979],\n",
       "       [       nan,        nan, 0.06300151],\n",
       "       [       nan,        nan, 0.02035382],\n",
       "       [       nan,        nan, 0.01131753],\n",
       "       [       nan,        nan, 0.01716385],\n",
       "       [0.66622576, 0.00554201, 0.12142051]])"
      ]
     },
     "execution_count": 74,
     "metadata": {},
     "output_type": "execute_result"
    }
   ],
   "source": [
    "belief_Mi"
   ]
  },
  {
   "cell_type": "code",
   "execution_count": 55,
   "metadata": {},
   "outputs": [
    {
     "data": {
      "text/plain": [
       "[3, 2, 1, 0]"
      ]
     },
     "execution_count": 55,
     "metadata": {},
     "output_type": "execute_result"
    }
   ],
   "source": [
    "list(range(4)[::-1])"
   ]
  },
  {
   "cell_type": "code",
   "execution_count": 99,
   "metadata": {},
   "outputs": [],
   "source": []
  },
  {
   "cell_type": "code",
   "execution_count": 101,
   "metadata": {},
   "outputs": [],
   "source": [
    "#Clique factors\n",
    "psi_Li = prob_Ci_given_Ci_  #dimensions (T-1, 3, 3)\n",
    "#psi_M1 = np.einsum(cz, ) prob_Zij_given_Ci*\n",
    "psi_Mi = np.array([np.prod([prob_Zij_given_Ci[c, z] for z in [0,1]]) for c in [0,1,2]])\n",
    "psi_Nij = np.array([[[prob_Xij_given_Zij(z = zij, x = get_Xij(time = i, neuron = j)) for zij in [0,1] ] for j in range(n)] for i in range(T)]) #deterministic, shape = (T, n, 2)"
   ]
  },
  {
   "cell_type": "code",
   "execution_count": null,
   "metadata": {},
   "outputs": [],
   "source": [
    "\n",
    "\n",
    "\n",
    "\n",
    "#Finding all Xij_given_Zij values in advance\n",
    "array_Xij_given_Zij_val = [[[prob_Xij_given_Zij(z = zij, x = get_Xij(time = i, neuron = j)) for zij in range(2)] for j in range(n)] for i in range(T)]\n",
    "\n",
    "#Sum of each sublist\n",
    "sums = np.sum(array_Xij_given_Zij_val, axis=2)\n",
    "# Normalize each sublist\n",
    "array_Xij_given_Zij_norm = array_Xij_given_Zij_val / sums[:,:, np.newaxis] #(T, neuron, Z)\n",
    "\n",
    "#finding product of Xij's\n",
    "array_prod_Xij_given_Zij = np.prod(array_Xij_given_Zij_norm, axis = 1) #(Time, Z_value) multplied probabilites for neurons that share time and Z-value\n",
    "sums1 = np.sum(array_prod_Xij_given_Zij, axis=1)\n",
    "array_prod_Xij_given_Zij_norm = array_prod_Xij_given_Zij/ sums1[:,np.newaxis]\n",
    "\n",
    "list_factor_val = np.empty(shape = (2*T -1, 3)) #2*(number of time steps) minus 1 and\n"
   ]
  },
  {
   "cell_type": "code",
   "execution_count": 82,
   "metadata": {},
   "outputs": [
    {
     "name": "stdout",
     "output_type": "stream",
     "text": [
      "[[0.10000195 0.89999805 0.5       ]\n",
      " [0.76134059 0.23865941 0.5       ]\n",
      " [0.8986604  0.1013396  0.5       ]\n",
      " [0.8986604  0.1013396  0.5       ]]\n"
     ]
    }
   ],
   "source": [
    "#####Mij to Ci\n",
    "delta_Zi_to_Ci = np.array([[sum([array_prod_Xij_given_Zij_norm[time, z]*prob_Zij_given_Ci[c_val, z] for z in range(2)]) for c_val in range(3)] for time in range(T)]) #summing out Z's accross cval and time\n",
    "print(delta_Zi_to_Ci) #shape (time, c_val)"
   ]
  },
  {
   "cell_type": "code",
   "execution_count": 90,
   "metadata": {},
   "outputs": [
    {
     "name": "stdout",
     "output_type": "stream",
     "text": [
      "[0.  0.  0.5]\n"
     ]
    }
   ],
   "source": [
    "C1 = np.array([delta_Zi_to_Ci[0, c_val]*prob_C1[c_val] for c_val in range(3)])\n",
    "print(C1)  #(C1)"
   ]
  },
  {
   "cell_type": "code",
   "execution_count": 89,
   "metadata": {},
   "outputs": [
    {
     "name": "stdout",
     "output_type": "stream",
     "text": [
      "[[0.   0.   0.05]\n",
      " [0.   0.   0.05]\n",
      " [0.   0.   0.4 ]]\n"
     ]
    }
   ],
   "source": [
    "L1 = np.array([[C1[c1]*prob_Ci_given_Ci_[c1, c2] for c1 in range(3)] for c2 in range(3)])\n",
    "print(L1) #(C2, C1)"
   ]
  },
  {
   "cell_type": "code",
   "execution_count": 93,
   "metadata": {},
   "outputs": [
    {
     "name": "stdout",
     "output_type": "stream",
     "text": [
      "[0.038067029596617785, 0.011932970403382209, 0.19999999999999998]\n"
     ]
    }
   ],
   "source": [
    "C2 = [sum([L1[c2, c1]*delta_Zi_to_Ci[1, c2] for c1 in range(3)]) for c2 in range(3)]\n",
    "print(C2) #C2"
   ]
  },
  {
   "cell_type": "code",
   "execution_count": 94,
   "metadata": {},
   "outputs": [],
   "source": [
    "L2 = np.array([[C2[c2]*prob_Ci_given_Ci_[c2, c3] for c2 in range(3)] for c3 in range(3)])"
   ]
  },
  {
   "cell_type": "code",
   "execution_count": 70,
   "metadata": {},
   "outputs": [
    {
     "data": {
      "text/plain": [
       "2.43179798020126e-06"
      ]
     },
     "execution_count": 70,
     "metadata": {},
     "output_type": "execute_result"
    }
   ],
   "source": [
    "array_Xij_given_Zij_norm[0,0,0]*array_Xij_given_Zij_norm[0,1,0]"
   ]
  },
  {
   "cell_type": "code",
   "execution_count": 37,
   "metadata": {},
   "outputs": [
    {
     "data": {
      "text/plain": [
       "0.0018133701107229535"
      ]
     },
     "execution_count": 37,
     "metadata": {},
     "output_type": "execute_result"
    }
   ],
   "source": [
    "prod_Zi_Ci(10, 0, 1) + prod_Zi_Ci(10, 0, 0)"
   ]
  },
  {
   "cell_type": "code",
   "execution_count": 43,
   "metadata": {},
   "outputs": [
    {
     "data": {
      "text/plain": [
       "1"
      ]
     },
     "execution_count": 43,
     "metadata": {},
     "output_type": "execute_result"
    }
   ],
   "source": [
    "1%2"
   ]
  }
 ],
 "metadata": {
  "kernelspec": {
   "display_name": "venv",
   "language": "python",
   "name": "python3"
  },
  "language_info": {
   "codemirror_mode": {
    "name": "ipython",
    "version": 3
   },
   "file_extension": ".py",
   "mimetype": "text/x-python",
   "name": "python",
   "nbconvert_exporter": "python",
   "pygments_lexer": "ipython3",
   "version": "3.10.2"
  }
 },
 "nbformat": 4,
 "nbformat_minor": 2
}
